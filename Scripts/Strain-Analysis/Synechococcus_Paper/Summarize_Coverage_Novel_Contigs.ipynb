{
 "cells": [
  {
   "cell_type": "code",
   "execution_count": 1,
   "metadata": {},
   "outputs": [],
   "source": [
    "import numpy as np\n",
    "import pandas as pd\n",
    "from os import listdir"
   ]
  },
  {
   "cell_type": "code",
   "execution_count": 2,
   "metadata": {},
   "outputs": [],
   "source": [
    "data_dir = '/Users/harihara/Mount-2/hotspring_metagenome/Synechococcus_paper_analysis/reassembly/missing_contig_comparison/read_alignments/Filtered_Reads/'\n",
    "files = listdir(data_dir)"
   ]
  },
  {
   "cell_type": "code",
   "execution_count": 3,
   "metadata": {},
   "outputs": [],
   "source": [
    "df_Summary = pd.DataFrame()"
   ]
  },
  {
   "cell_type": "code",
   "execution_count": 4,
   "metadata": {},
   "outputs": [],
   "source": [
    "for f in files:\n",
    "    if f.startswith(\"Hot\"):\n",
    "        df = pd.read_csv(data_dir+f, sep = \"\\t\")\n",
    "        df_Summary = df_Summary.append(df, ignore_index = True)"
   ]
  },
  {
   "cell_type": "code",
   "execution_count": 7,
   "metadata": {},
   "outputs": [],
   "source": [
    "del df_Summary['Unnamed: 0']"
   ]
  },
  {
   "cell_type": "code",
   "execution_count": 9,
   "metadata": {},
   "outputs": [],
   "source": [
    "df_Summary.to_csv('/Users/harihara/Research-Activities/Data/Hot-Spring/Novel-Regions-Coverage-Summary.txt', sep = \"\\t\")"
   ]
  },
  {
   "cell_type": "code",
   "execution_count": 53,
   "metadata": {},
   "outputs": [],
   "source": [
    "X_breadth = df_Summary.pivot_table(index = 'Sample', columns = 'Subject',values = 'Breadth_Coverage')\n",
    "X_breadth = X_breadth.fillna(0)\n",
    "X_breadth.to_csv('/Users/harihara/Research-Activities/Data/Hot-Spring/Novel-Regions-Breadth-Coverage-Summary.txt',\n",
    "                 sep = \"\\t\")\n",
    "\n",
    "X_depth = df_Summary.pivot_table(index = 'Sample', columns = 'Subject',values = 'Avg_Depth_Coverage')\n",
    "X_depth = X_depth.fillna(0)\n",
    "X_depth.to_csv('/Users/harihara/Research-Activities/Data/Hot-Spring/Novel-Regions-Depth-Coverage-Summary.txt',\n",
    "                sep = \"\\t\")\n",
    "\n",
    "X_reads = df_Summary.pivot_table(index = 'Sample', columns = 'Subject',values = 'Num_Reads')\n",
    "X_reads = X_reads.fillna(0)\n",
    "X_reads.to_csv('/Users/harihara/Research-Activities/Data/Hot-Spring/Novel-Regions-Reads-Summary.txt',\n",
    "                sep = \"\\t\")\n"
   ]
  },
  {
   "cell_type": "code",
   "execution_count": null,
   "metadata": {},
   "outputs": [],
   "source": []
  }
 ],
 "metadata": {
  "kernelspec": {
   "display_name": "Python 3",
   "language": "python",
   "name": "python3"
  },
  "language_info": {
   "codemirror_mode": {
    "name": "ipython",
    "version": 3
   },
   "file_extension": ".py",
   "mimetype": "text/x-python",
   "name": "python",
   "nbconvert_exporter": "python",
   "pygments_lexer": "ipython3",
   "version": "3.7.3"
  }
 },
 "nbformat": 4,
 "nbformat_minor": 2
}
