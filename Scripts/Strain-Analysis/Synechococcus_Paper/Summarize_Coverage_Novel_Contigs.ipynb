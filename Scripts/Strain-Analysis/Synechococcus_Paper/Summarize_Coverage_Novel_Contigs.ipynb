{
 "cells": [
  {
   "cell_type": "code",
   "execution_count": 1,
   "metadata": {},
   "outputs": [],
   "source": [
    "import numpy as np\n",
    "import pandas as pd\n",
    "from os import listdir"
   ]
  },
  {
   "cell_type": "code",
   "execution_count": 2,
   "metadata": {},
   "outputs": [],
   "source": [
    "data_dir = '/Users/harihara/Mount-2/hotspring_metagenome/Synechococcus_paper_analysis/reassembly/missing_contig_comparison_june2022//read_alignments/Filtered_Reads/'\n",
    "files = listdir(data_dir)"
   ]
  },
  {
   "cell_type": "code",
   "execution_count": 3,
   "metadata": {},
   "outputs": [],
   "source": [
    "df_Summary = pd.DataFrame()"
   ]
  },
  {
   "cell_type": "code",
   "execution_count": 4,
   "metadata": {},
   "outputs": [],
   "source": [
    "for f in files:\n",
    "    if f.startswith(\"Hot\"):\n",
    "        df = pd.read_csv(data_dir+f, sep = \"\\t\")\n",
    "        df_Summary = df_Summary.append(df, ignore_index = True)"
   ]
  },
  {
   "cell_type": "code",
   "execution_count": 5,
   "metadata": {},
   "outputs": [],
   "source": [
    "del df_Summary['Unnamed: 0']"
   ]
  },
  {
   "cell_type": "code",
   "execution_count": 6,
   "metadata": {},
   "outputs": [],
   "source": [
    "df_Summary.to_csv('/Users/harihara/Research-Activities/Data/Hot-Spring/Novel-Regions-Coverage-Summary-June2022.txt', sep = \"\\t\")"
   ]
  },
  {
   "cell_type": "code",
   "execution_count": 7,
   "metadata": {},
   "outputs": [],
   "source": [
    "X_breadth = df_Summary.pivot_table(index = 'Sample', columns = 'Subject',values = 'Breadth_Coverage')\n",
    "X_breadth = X_breadth.fillna(0)\n",
    "X_breadth.to_csv('/Users/harihara/Research-Activities/Data/Hot-Spring/Novel-Regions-Breadth-Coverage-Summary-June-2022.txt',\n",
    "                 sep = \"\\t\")\n",
    "\n",
    "X_depth = df_Summary.pivot_table(index = 'Sample', columns = 'Subject',values = 'Avg_Depth_Coverage')\n",
    "X_depth = X_depth.fillna(0)\n",
    "X_depth.to_csv('/Users/harihara/Research-Activities/Data/Hot-Spring/Novel-Regions-Depth-Coverage-Summary-June-2022.txt',\n",
    "                sep = \"\\t\")\n",
    "\n",
    "X_reads = df_Summary.pivot_table(index = 'Sample', columns = 'Subject',values = 'Num_Reads')\n",
    "X_reads = X_reads.fillna(0)\n",
    "X_reads.to_csv('/Users/harihara/Research-Activities/Data/Hot-Spring/Novel-Regions-Reads-Summary-June-2022.txt',\n",
    "                sep = \"\\t\")\n"
   ]
  },
  {
   "cell_type": "code",
   "execution_count": 9,
   "metadata": {},
   "outputs": [],
   "source": [
    "df_OSA = df_Summary[df_Summary['Ref'] == 'OSA']\n",
    "X_OSA = df_OSA.pivot_table(index = 'Sample', columns = 'Subject',values = 'Breadth_Coverage')\n",
    "df_OSB = df_Summary[df_Summary['Ref'] == 'OSB']\n",
    "X_OSB = df_OSB.pivot_table(index = 'Sample', columns = 'Subject',values = 'Breadth_Coverage')\n",
    "df_Neither = df_Summary[df_Summary['Ref'] == 'Neither']\n",
    "X_Neither = df_Neither.pivot_table(index = 'Sample', columns = 'Subject',values = 'Breadth_Coverage')\n"
   ]
  },
  {
   "cell_type": "code",
   "execution_count": 10,
   "metadata": {},
   "outputs": [],
   "source": [
    "osa_segments = X_OSA.columns.tolist()\n",
    "osb_segments = X_OSB.columns.tolist()\n",
    "neither = X_Neither.columns.tolist()"
   ]
  },
  {
   "cell_type": "code",
   "execution_count": 11,
   "metadata": {},
   "outputs": [],
   "source": [
    "novel_segments = {}\n",
    "for c in osa_segments+osb_segments+neither:\n",
    "    splits = c.split('_')\n",
    "    if len(splits) == 4:\n",
    "        sample = splits[0]\n",
    "        contig = splits[2]+'_'+splits[3]\n",
    "    \n",
    "    if len(splits) == 5:\n",
    "        sample = splits[0] +'_'+splits[1]\n",
    "        contig = splits[3]+'_'+splits[4]\n",
    "    \n",
    "    try:\n",
    "        novel_segments[(sample, contig.split(':')[0])].append(contig)\n",
    "    except KeyError:\n",
    "        novel_segments[(sample, contig.split(':')[0])] = [contig]\n"
   ]
  },
  {
   "cell_type": "code",
   "execution_count": null,
   "metadata": {},
   "outputs": [],
   "source": []
  }
 ],
 "metadata": {
  "kernelspec": {
   "display_name": "Python 3",
   "language": "python",
   "name": "python3"
  },
  "language_info": {
   "codemirror_mode": {
    "name": "ipython",
    "version": 3
   },
   "file_extension": ".py",
   "mimetype": "text/x-python",
   "name": "python",
   "nbconvert_exporter": "python",
   "pygments_lexer": "ipython3",
   "version": "3.7.3"
  }
 },
 "nbformat": 4,
 "nbformat_minor": 2
}
