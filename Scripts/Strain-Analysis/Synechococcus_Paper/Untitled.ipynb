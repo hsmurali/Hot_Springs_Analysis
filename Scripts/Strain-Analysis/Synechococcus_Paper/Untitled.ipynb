{
 "cells": [
  {
   "cell_type": "code",
   "execution_count": 1,
   "metadata": {},
   "outputs": [],
   "source": [
    "import pandas as pd\n",
    "import networkx as nx"
   ]
  },
  {
   "cell_type": "code",
   "execution_count": 4,
   "metadata": {},
   "outputs": [],
   "source": [
    "scaffolds_path = '/Users/harihara/Mount-2/hotspring_metagenome/Synechococcus_paper_analysis/reassembly/'\n",
    "grp_path = '/Users/harihara/Research-Activities/Data/Hot-Spring/contig_containment_groups_subset_filtered.txt'\n",
    "df_novel_filtered = pd.read_csv(grp_path, sep = \"\\t\")\n",
    "d = df_novel_filtered.groupby('GroupID')['Contig'].apply(list).to_dict()"
   ]
  },
  {
   "cell_type": "code",
   "execution_count": 18,
   "metadata": {},
   "outputs": [
    {
     "name": "stdout",
     "output_type": "stream",
     "text": [
      "Hotspr20SampleP4 \t osa \t k141_3097 \tPresent 997\n",
      "Hotspr20SampleT8 \t osa \t k141_21818 \tPresent 1087\n",
      "Hotspr2Sample148 \t osa \t k141_12831 \tPresent 1034\n",
      "Hotspr2Sample149 \t osa \t k141_1146 \tPresent 996\n",
      "HotsprottomLayer \t osa \t k141_1518 \tPresent 652\n",
      "HotsprSampleMS55 \t osa \t k141_12113 \tPresent 997\n",
      "HotsprSampleMSe1 \t osa \t k141_5904 \tPresent 997\n",
      "HotsprSampleOS65 \t osa \t k141_13705 \tPresent 542\n",
      "HotsprSamplt10cd \t osa \t k141_3495 \tPresent 809\n"
     ]
    }
   ],
   "source": [
    "groups = d['Group_1003']\n",
    "for g in groups:\n",
    "    splits = g.split('_')\n",
    "    if len(splits) == 5:\n",
    "        sample = splits[0]+'_'+splits[1]\n",
    "        genome = splits[2].lower()\n",
    "        contig = splits[3]+'_'+splits[4]\n",
    "    if len(splits) == 4:\n",
    "        sample = splits[0]\n",
    "        genome = splits[1].lower()\n",
    "        contig = splits[2]+'_'+splits[3]\n",
    "        \n",
    "    Graph_path = scaffolds_path+sample+'_megahit_assembled_contigs_'+genome+'/'+sample+'_'+genome+'_scaffolds/oriented.gml'\n",
    "    G = nx.read_gml(Graph_path)\n",
    "    if(G.has_node(contig)):\n",
    "        print(sample,\"\\t\",genome,\"\\t\",contig,\"\\tPresent\", G.nodes[contig]['length'])\n",
    "    else:\n",
    "        print(sample,\"\\t\",genome,\"\\t\",contig,\"\\tAbsent\")"
   ]
  },
  {
   "cell_type": "code",
   "execution_count": 20,
   "metadata": {},
   "outputs": [],
   "source": [
    "def Load_PAF(filepath):\n",
    "    lines = open(filepath).readlines()\n",
    "    header = ['Query','Qlen','QStart','QEnd','Orientation','Subject','SLen',\n",
    "              'SStart','SEnd','Matches','AlignLength','MAPQ']\n",
    "    op = []\n",
    "    for l in lines:\n",
    "        l = l.split('\\t')[:12]\n",
    "        op.append(dict(zip(header, l)))\n",
    "    df = pd.DataFrame(op)\n",
    "    df[['Qlen','QStart','QEnd','SLen','SStart',\n",
    "        'SEnd','Matches','AlignLength','MAPQ']] = df[['Qlen','QStart','QEnd','SLen','SStart',\n",
    "                                                      'SEnd','Matches','AlignLength','MAPQ']].astype('int')\n",
    "    df['PIdent'] = df['AlignLength']/df['Qlen']*100\n",
    "    df = df.loc[df.groupby(['Query'])['PIdent'].idxmax()]\n",
    "    return df\n",
    "sample_id = \"HotsprottomLayer\"\n",
    "pardir = '/Users/harihara/Mount-2/hotspring_metagenome/Synechococcus_paper_analysis/reassembly/'\n",
    "df_osa  = Load_PAF(pardir+'contig_mapping_paf/'+sample_id+'_osa_contigs_aligned_to_osa.paf')"
   ]
  },
  {
   "cell_type": "code",
   "execution_count": 22,
   "metadata": {},
   "outputs": [
    {
     "data": {
      "text/html": [
       "<div>\n",
       "<style scoped>\n",
       "    .dataframe tbody tr th:only-of-type {\n",
       "        vertical-align: middle;\n",
       "    }\n",
       "\n",
       "    .dataframe tbody tr th {\n",
       "        vertical-align: top;\n",
       "    }\n",
       "\n",
       "    .dataframe thead th {\n",
       "        text-align: right;\n",
       "    }\n",
       "</style>\n",
       "<table border=\"1\" class=\"dataframe\">\n",
       "  <thead>\n",
       "    <tr style=\"text-align: right;\">\n",
       "      <th></th>\n",
       "      <th>Query</th>\n",
       "      <th>Qlen</th>\n",
       "      <th>QStart</th>\n",
       "      <th>QEnd</th>\n",
       "      <th>Orientation</th>\n",
       "      <th>Subject</th>\n",
       "      <th>SLen</th>\n",
       "      <th>SStart</th>\n",
       "      <th>SEnd</th>\n",
       "      <th>Matches</th>\n",
       "      <th>AlignLength</th>\n",
       "      <th>MAPQ</th>\n",
       "      <th>PIdent</th>\n",
       "    </tr>\n",
       "  </thead>\n",
       "  <tbody>\n",
       "    <tr>\n",
       "      <th>1526</th>\n",
       "      <td>k141_1518</td>\n",
       "      <td>652</td>\n",
       "      <td>77</td>\n",
       "      <td>465</td>\n",
       "      <td>+</td>\n",
       "      <td>gi|86604733|ref|NC_007775.1|</td>\n",
       "      <td>2932766</td>\n",
       "      <td>1146184</td>\n",
       "      <td>1146573</td>\n",
       "      <td>320</td>\n",
       "      <td>400</td>\n",
       "      <td>22</td>\n",
       "      <td>61.349693</td>\n",
       "    </tr>\n",
       "  </tbody>\n",
       "</table>\n",
       "</div>"
      ],
      "text/plain": [
       "          Query  Qlen  QStart  QEnd Orientation                       Subject  \\\n",
       "1526  k141_1518   652      77   465           +  gi|86604733|ref|NC_007775.1|   \n",
       "\n",
       "         SLen   SStart     SEnd  Matches  AlignLength  MAPQ     PIdent  \n",
       "1526  2932766  1146184  1146573      320          400    22  61.349693  "
      ]
     },
     "execution_count": 22,
     "metadata": {},
     "output_type": "execute_result"
    }
   ],
   "source": [
    "df_osa[df_osa['Query'] == 'k141_1518']"
   ]
  },
  {
   "cell_type": "code",
   "execution_count": 24,
   "metadata": {},
   "outputs": [],
   "source": [
    "df = pd.read_csv('../../../../../Data/Hot-Spring/Missing_Contig_Coords/OSA/HotsprottomLayer.txt', sep = \"\\t\")"
   ]
  },
  {
   "cell_type": "code",
   "execution_count": 26,
   "metadata": {},
   "outputs": [
    {
     "data": {
      "text/html": [
       "<div>\n",
       "<style scoped>\n",
       "    .dataframe tbody tr th:only-of-type {\n",
       "        vertical-align: middle;\n",
       "    }\n",
       "\n",
       "    .dataframe tbody tr th {\n",
       "        vertical-align: top;\n",
       "    }\n",
       "\n",
       "    .dataframe thead th {\n",
       "        text-align: right;\n",
       "    }\n",
       "</style>\n",
       "<table border=\"1\" class=\"dataframe\">\n",
       "  <thead>\n",
       "    <tr style=\"text-align: right;\">\n",
       "      <th></th>\n",
       "      <th>Unnamed: 0</th>\n",
       "      <th>Contig</th>\n",
       "      <th>Parent_Node</th>\n",
       "      <th>Start</th>\n",
       "      <th>End</th>\n",
       "      <th>Membership</th>\n",
       "      <th>Contig_Length</th>\n",
       "      <th>Parent_Length</th>\n",
       "      <th>OSA_PIdent(Contig)</th>\n",
       "      <th>OSB_PIdent(Contig)</th>\n",
       "      <th>OSA_PIdent(Parent)</th>\n",
       "      <th>OSB_PIdent(Parent)</th>\n",
       "      <th>Contig_Orientation(MetaCarvel)</th>\n",
       "      <th>Contig_Orientation(Minimap2)</th>\n",
       "      <th>Parent_Orientation(MetaCarvel)</th>\n",
       "      <th>Parent_Orientation(Minimap2)</th>\n",
       "      <th>Parent_Type</th>\n",
       "    </tr>\n",
       "  </thead>\n",
       "  <tbody>\n",
       "  </tbody>\n",
       "</table>\n",
       "</div>"
      ],
      "text/plain": [
       "Empty DataFrame\n",
       "Columns: [Unnamed: 0, Contig, Parent_Node, Start, End, Membership, Contig_Length, Parent_Length, OSA_PIdent(Contig), OSB_PIdent(Contig), OSA_PIdent(Parent), OSB_PIdent(Parent), Contig_Orientation(MetaCarvel), Contig_Orientation(Minimap2), Parent_Orientation(MetaCarvel), Parent_Orientation(Minimap2), Parent_Type]\n",
       "Index: []"
      ]
     },
     "execution_count": 26,
     "metadata": {},
     "output_type": "execute_result"
    }
   ],
   "source": [
    "df[df['Contig']=='k141']"
   ]
  },
  {
   "cell_type": "code",
   "execution_count": 32,
   "metadata": {},
   "outputs": [
    {
     "data": {
      "text/plain": [
       "[1, 2]"
      ]
     },
     "execution_count": 32,
     "metadata": {},
     "output_type": "execute_result"
    }
   ],
   "source": [
    "A = []\n",
    "A.append(1)\n",
    "A.append(2)\n",
    "A"
   ]
  },
  {
   "cell_type": "code",
   "execution_count": 33,
   "metadata": {},
   "outputs": [
    {
     "data": {
      "text/plain": [
       "1"
      ]
     },
     "execution_count": 33,
     "metadata": {},
     "output_type": "execute_result"
    }
   ],
   "source": [
    "A.pop(0)"
   ]
  },
  {
   "cell_type": "code",
   "execution_count": null,
   "metadata": {},
   "outputs": [],
   "source": []
  }
 ],
 "metadata": {
  "kernelspec": {
   "display_name": "Python 3",
   "language": "python",
   "name": "python3"
  },
  "language_info": {
   "codemirror_mode": {
    "name": "ipython",
    "version": 3
   },
   "file_extension": ".py",
   "mimetype": "text/x-python",
   "name": "python",
   "nbconvert_exporter": "python",
   "pygments_lexer": "ipython3",
   "version": "3.7.3"
  }
 },
 "nbformat": 4,
 "nbformat_minor": 2
}
