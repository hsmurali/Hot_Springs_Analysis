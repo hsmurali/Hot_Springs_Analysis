{
 "cells": [
  {
   "cell_type": "code",
   "execution_count": 10,
   "metadata": {},
   "outputs": [],
   "source": [
    "import pandas as pd\n",
    "from os.path import isdir\n",
    "from os import mkdir, listdir\n"
   ]
  },
  {
   "cell_type": "code",
   "execution_count": 2,
   "metadata": {},
   "outputs": [],
   "source": [
    "df_novel_contigs = pd.read_csv('/Users/harihara/Research-Activities/Data/Hot-Spring/contig_containment_groups_subset.txt', \n",
    "                               sep = '\\t')\n",
    "novel_contig_dict = {}\n",
    "novel_contigs = list(set(df_novel_contigs['Contig'].tolist()))\n",
    "for n in novel_contigs:\n",
    "    splits = n.split('_')\n",
    "    if len(splits) == 4:\n",
    "        sample = splits[0]\n",
    "        genome = splits[1].upper()\n",
    "        contig = splits[2]+'_'+splits[3]\n",
    "    if len(splits) == 5:\n",
    "        sample = splits[0] + '_' +splits[1]\n",
    "        genome = splits[2].upper()\n",
    "        contig = splits[3]+'_'+splits[4]\n",
    "    try:\n",
    "        novel_contig_dict[sample][genome].append(contig)\n",
    "    except KeyError:\n",
    "        novel_contig_dict[sample] = {'OSA':[], 'OSB':[]}\n",
    "        novel_contig_dict[sample][genome].append(contig)"
   ]
  },
  {
   "cell_type": "code",
   "execution_count": 9,
   "metadata": {},
   "outputs": [
    {
     "name": "stdout",
     "output_type": "stream",
     "text": [
      "HotsprSampOS1260\n",
      "HotsprSampleMS55\n",
      "HotsprSampleMSe4\n",
      "HotsprottomLayer\n",
      "Hotspr20Samplet1\n",
      "HotsprSampleMS60\n",
      "Hotspr20Samplem2\n",
      "HotsprSampleOSM3\n",
      "HotsprSampleR4cd\n",
      "HotsprSampleMS13\n",
      "Hotspr2Sampleme2\n",
      "HotsprSamplt10cd\n",
      "HotsprSampleMSe3\n",
      "HotsprottomLayer_2\n",
      "Hotspr20SampleT9\n",
      "HotsprSampleMS65\n",
      "Hotspr20SampleT8\n",
      "HotsprSampleMSe2\n",
      "Hotspr2Sample148\n",
      "HotsprSampleOS65\n",
      "Hotspr2Sample149\n",
      "HotsprOSTMatCore\n",
      "HotsprSampleOSM2\n",
      "Hotspr20SampleP4\n",
      "HotsprSampleOSM1\n",
      "HotsprSampleOSM4\n",
      "Hotspr2Sampleee2\n",
      "HotsprSampleMSe1\n",
      "HotsprSampleMS50\n",
      "Hotspr2SamplePe2\n",
      "HotsprSampleOS55\n",
      "HotsprSampleOS50\n",
      "HotsprSampOS1265\n",
      "HotsprSampleOS60\n"
     ]
    }
   ],
   "source": [
    "outdir = '/Users/harihara/Mount/Synechococcus_paper_analysis/Novel_Contigs/'\n",
    "if not isdir(outdir):\n",
    "    mkdir(outdir)\n",
    "    \n",
    "for n in novel_contig_dict:\n",
    "    print(n)\n",
    "    osa_contigs = novel_contig_dict[n]['OSA']\n",
    "    osb_contigs = novel_contig_dict[n]['OSB']\n",
    "    f_buf = open(outdir+n+'.OSA','w')\n",
    "    for c in osa_contigs:\n",
    "        f_buf.write(c+'\\n')\n",
    "    f_buf.close()\n",
    "    \n",
    "    f_buf = open(outdir+n+'.OSB','w')\n",
    "    for c in osb_contigs:\n",
    "        f_buf.write(c+'\\n')\n",
    "    f_buf.close()    "
   ]
  },
  {
   "cell_type": "code",
   "execution_count": null,
   "metadata": {},
   "outputs": [],
   "source": []
  }
 ],
 "metadata": {
  "kernelspec": {
   "display_name": "Python 3",
   "language": "python",
   "name": "python3"
  },
  "language_info": {
   "codemirror_mode": {
    "name": "ipython",
    "version": 3
   },
   "file_extension": ".py",
   "mimetype": "text/x-python",
   "name": "python",
   "nbconvert_exporter": "python",
   "pygments_lexer": "ipython3",
   "version": "3.7.3"
  }
 },
 "nbformat": 4,
 "nbformat_minor": 2
}
