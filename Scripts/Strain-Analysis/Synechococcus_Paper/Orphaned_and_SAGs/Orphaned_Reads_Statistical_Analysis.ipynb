{
 "cells": [
  {
   "cell_type": "code",
   "execution_count": 1,
   "metadata": {},
   "outputs": [],
   "source": [
    "import numpy as np\n",
    "import pandas as pd\n",
    "from os import listdir, mkdir\n",
    "from os.path import isdir\n",
    "import matplotlib.pyplot as plt\n",
    "from scipy.stats import ks_2samp\n",
    "\n",
    "rcParams = {'font.size': 20, \n",
    "            'font.weight': 'normal', \n",
    "            'font.family': 'sans-serif',\n",
    "            'axes.unicode_minus':False, \n",
    "            'axes.labelweight':'normal', \n",
    "            'xtick.labelsize' : 16,\n",
    "            'ytick.labelsize' : 16}\n",
    "\n",
    "plt.rcParams.update(rcParams)\n",
    "\n",
    "def Compute_Query_Coverage(group):\n",
    "    qstarts, qends = group['QStart'].tolist(), group['QEnd'].tolist()\n",
    "    sstarts, sends = group['SStart'].tolist(), group['SEnd'].tolist()\n",
    "    alignlengths = np.array(group['AlignLength'].tolist())\n",
    "    pident = np.array(group['PIdent'].tolist())\n",
    "    qlength = group.iloc[0]['QLen']\n",
    "    slength = group.iloc[0]['SLen']\n",
    "    presence = np.zeros(qlength)\n",
    "    avg_pident = np.sum(np.multiply(alignlengths,pident))/np.sum(alignlengths)\n",
    "    \n",
    "    for i in range(len(qstarts)):\n",
    "        presence[qstarts[i]:qends[i]] = 1\n",
    "    qcov = np.sum(presence)/len(presence)*100\n",
    "    \n",
    "    presence = np.zeros(slength)\n",
    "    for i in range(len(sstarts)):\n",
    "        presence[sstarts[i]:sends[i]] = 1\n",
    "    scov = np.sum(presence)/len(presence)*100  \n",
    "    return pd.Series({'Qcov':qcov, 'Scov':scov, 'PIdent':avg_pident})\n",
    "\n",
    "def Load_PAF(filepath, grouped = False):\n",
    "    try:\n",
    "        header = ['Query','QLen','QStart','QEnd','Orientation','Subject','SLen','SStart','SEnd',\n",
    "                  'Matches','AlignLength','MAPQ','TP', 'MM', 'GN', 'GO', 'CG', 'CS']\n",
    "        df = pd.read_csv(filepath, sep = \"\\t\", names = header)\n",
    "        \n",
    "        df[['QLen','QStart','QEnd','SLen','SStart',\n",
    "            'SEnd','Matches','AlignLength','MAPQ']] = df[['QLen','QStart','QEnd','SLen','SStart',\n",
    "                                                          'SEnd','Matches','AlignLength','MAPQ']].astype('int')\n",
    "        \n",
    "        if grouped:\n",
    "            df['PIdent'] = df['Matches']/df['AlignLength']*100\n",
    "            df_grp = df.groupby(['Query','Subject']).apply(Compute_Query_Coverage)\n",
    "            df_grp['Breadth_Coverage'] = df_grp[['Qcov', 'Scov']].max(axis = 1)\n",
    "            return df_grp\n",
    "        df['PIdent'] = df['AlignLength']/df['QLen']*100\n",
    "        df = df.loc[df.groupby(['Query'])['PIdent'].idxmax()]\n",
    "        df = df[['Query','QLen','PIdent']]\n",
    "        df = df.rename(columns = {'Query':'Contig'})\n",
    "        df = df.set_index('Contig')\n",
    "        return df\n",
    "    except KeyError:\n",
    "        return pd.DataFrame()\n",
    "\n",
    "def Plot_Box_Plots(boxes, positions, colors, ax, widths = 0.85, lw = 2.5, \n",
    "                   scatter = False, deviation = 0.045, s = 70, alpha = 0.1):\n",
    "    flierprops = dict(marker='x', markersize=2.5, linestyle='none', color = 'gray')\n",
    "    whiskerprops = dict(color='black',linewidth=1.5)\n",
    "    capprops = dict(color='black', linewidth=1.5)\n",
    "    medianprops = dict(linewidth=1.5, linestyle='-', color='black')\n",
    "    meanprops = dict(markersize = 10, color = 'black')\n",
    "    \n",
    "    for i in range(0, len(positions)):\n",
    "        box = ax.boxplot([boxes[i]], positions=[positions[i]], whis = [5,95], widths = [widths],\n",
    "                         showfliers = True, boxprops = dict(linestyle='-', linewidth=lw, color=colors[i]), \n",
    "                         flierprops = flierprops, whiskerprops = whiskerprops, capprops = capprops, \n",
    "                         medianprops = medianprops, showmeans = True, meanprops = meanprops, )\n",
    "    \n",
    "    if(scatter):\n",
    "        for i in range(0, len(positions)):\n",
    "            y = boxes[i]\n",
    "            x = np.random.normal(positions[i], deviation, size=len(y))\n",
    "            ax.scatter(x,y,color = colors[i],alpha = alpha, marker = 'o', s = s)\n",
    "            ax.scatter([positions[i]]*2, [max(y), min(y)], color = colors[i], marker = 'o', s = s)\n",
    "            \n",
    "def Load_Containment_Clusters(containment_cluster_path, genome):\n",
    "    df_novel_contigs = pd.read_csv(containment_cluster_path, sep = \"\\t\")\n",
    "    op = []\n",
    "    novel_contigs = list(set(df_novel_contigs['Contig'].tolist()))\n",
    "    for n in novel_contigs:\n",
    "        n = n.replace(genome, \"Genome\")\n",
    "        splits = n.split('_')\n",
    "        if len(splits) == 4:\n",
    "            sample = splits[0]\n",
    "            contig = splits[2]+'_'+splits[3]\n",
    "            op.append((sample,contig))\n",
    "        if len(splits) == 5:\n",
    "            sample = splits[0] + '_' +splits[1]\n",
    "            contig = splits[3]+'_'+splits[4]\n",
    "            op.append((sample,contig))    \n",
    "    return op"
   ]
  },
  {
   "cell_type": "code",
   "execution_count": 2,
   "metadata": {},
   "outputs": [],
   "source": [
    "data_dir = '/Users/harihara/Mount-2/hotspring_metagenome/Synechococcus_paper_analysis/Hotsprings_Variant_Structure'\n",
    "genomes = ['Aerophilum','Chloracidobacterium_thermophilum_B','Chloroflexus_MS_G','OSA','OSB','Roseiflexus']\n",
    "novel_contigs_dir = data_dir+'_Data_Analysis/'"
   ]
  },
  {
   "cell_type": "code",
   "execution_count": 4,
   "metadata": {
    "scrolled": true
   },
   "outputs": [
    {
     "name": "stdout",
     "output_type": "stream",
     "text": [
      "Aerophilum 7986 298869\n",
      "Chloracidobacterium_thermophilum_B 8127 296693\n",
      "Chloroflexus_MS_G 32734 541176\n",
      "OSA 29950 607602\n",
      "OSB 31239 1232032\n",
      "Roseiflexus 129292 4808520\n"
     ]
    }
   ],
   "source": [
    "df_novel_read_counts = {}\n",
    "df_non_novel_read_counts = {}\n",
    "\n",
    "for g in genomes:\n",
    "    df_orphaned_reads = pd.DataFrame()\n",
    "    hotsprings = sorted(listdir(data_dir+'/'+g+'/'))\n",
    "    for sample in hotsprings:\n",
    "        if not sample.startswith(\"Hot\"):\n",
    "            continue\n",
    "        try:\n",
    "            df_read_counts = pd.read_csv(data_dir+'/'+g+'/'+sample+'/Differential_Read_Counting/'+g+'.Orphaned_Reads.Summary',\n",
    "                                     sep = \"\\t\", index_col = \"Contig\")\n",
    "            df_paf = Load_PAF(data_dir+'/'+g+'/'+sample+'/reference_guided_scaffolds/Ref_Guided_Scaffolds.'+g+'.paf')\n",
    "            df = df_read_counts.join(df_paf, how = 'left')\n",
    "            df = df.reset_index()\n",
    "            df['Sample'] = sample\n",
    "            df['Genome'] = g\n",
    "            df_orphaned_reads = df_orphaned_reads.append(df, ignore_index = True)\n",
    "        except FileNotFoundError:\n",
    "            print(sample, g)\n",
    "    df_orphaned_reads = df_orphaned_reads.set_index(['Sample','Contig'])\n",
    "    contigs_of_interest = Load_Containment_Clusters(novel_contigs_dir+g+'/containment_clusters.txt', g)\n",
    "    print(g, len(contigs_of_interest), len(df_orphaned_reads))\n",
    "    sel = df_orphaned_reads.loc[df_orphaned_reads.index.isin(contigs_of_interest)].copy()\n",
    "    sel['Or_Ratio'] = (sel['Orphaned_Read_Flag(Aligned)']+sel['Orphaned_Read_Flag(Non-Aligned)'])/sel['Read']*100\n",
    "    df_novel_read_counts[g] = sel\n",
    "    sel = df_orphaned_reads.loc[~df_orphaned_reads.index.isin(contigs_of_interest)].copy()\n",
    "    sel['Or_Ratio'] = (sel['Orphaned_Read_Flag(Aligned)']+sel['Orphaned_Read_Flag(Non-Aligned)'])/sel['Read']*100\n",
    "    df_non_novel_read_counts[g] = sel.reset_index()"
   ]
  },
  {
   "cell_type": "code",
   "execution_count": 5,
   "metadata": {
    "scrolled": true
   },
   "outputs": [],
   "source": [
    "data_path = '/Users/harihara/Mount-2/hotspring_metagenome/Synechococcus_paper_analysis/\\\n",
    "Hotsprings_Variant_Structure_Data_Analysis/Synechococcus/Single_Cell_Analysis/'\n",
    "files = listdir(data_path)\n",
    "df_alignments = pd.DataFrame()\n",
    "for f in files:\n",
    "    if f.endswith(\".paf\"):\n",
    "        df = Load_PAF(data_path+f, grouped=True)\n",
    "        if len(df) <= 0:\n",
    "            continue\n",
    "        df = df[(df['Scov'] >= 95)]\n",
    "        df = df.reset_index()\n",
    "        df['Single_Cell_Sample'] = f.replace(\"_FD.paf\",\"\")\n",
    "        df_alignments = df_alignments.append(df, ignore_index = True)\n",
    "        \n",
    "df_groups = pd.read_excel('/Users/harihara/Mount-2/hotspring_metagenome/Synechococcus_paper_analysis/\\\n",
    "Hotsprings_Variant_Structure_Data_Analysis/Synechococcus/Filtered.Eggnog.Annotations.xlsx')\n",
    "df_groups = df_groups[['GroupID','RepresentativeContig']]\n",
    "df_groups = df_groups.set_index(['RepresentativeContig'])\n",
    "df_groups = df_groups.drop_duplicates()\n",
    "\n",
    "df_filtered_alignments = df_alignments[df_alignments['PIdent'] > 0]\n",
    "df_grp = df_filtered_alignments.groupby('Subject').count()[['Single_Cell_Sample']]\n",
    "df_grp = df_grp.join(df_groups, how = 'inner')\n",
    "df_grp = df_grp.set_index('GroupID')\n",
    "df_grp['Single_Cell_Sample'] = df_grp['Single_Cell_Sample'].fillna(0)\n",
    "df_grp = df_grp.sort_values(by = 'Single_Cell_Sample', ascending = False)"
   ]
  },
  {
   "cell_type": "code",
   "execution_count": 6,
   "metadata": {},
   "outputs": [],
   "source": [
    "out_dir = '/Users/harihara/Research-Activities/Plots/Hot_Spring_Plots/Synechococcus-Paper-New-Plots/'\n",
    "if not isdir(out_dir):\n",
    "    mkdir(out_dir)"
   ]
  },
  {
   "cell_type": "code",
   "execution_count": 6,
   "metadata": {},
   "outputs": [
    {
     "ename": "KeyError",
     "evalue": "'QLen'",
     "output_type": "error",
     "traceback": [
      "\u001b[0;31m---------------------------------------------------------------------------\u001b[0m",
      "\u001b[0;31mKeyError\u001b[0m                                  Traceback (most recent call last)",
      "\u001b[0;32m~/anaconda3/lib/python3.7/site-packages/pandas/core/indexes/base.py\u001b[0m in \u001b[0;36mget_loc\u001b[0;34m(self, key, method, tolerance)\u001b[0m\n\u001b[1;32m   3360\u001b[0m             \u001b[0;32mtry\u001b[0m\u001b[0;34m:\u001b[0m\u001b[0;34m\u001b[0m\u001b[0;34m\u001b[0m\u001b[0m\n\u001b[0;32m-> 3361\u001b[0;31m                 \u001b[0;32mreturn\u001b[0m \u001b[0mself\u001b[0m\u001b[0;34m.\u001b[0m\u001b[0m_engine\u001b[0m\u001b[0;34m.\u001b[0m\u001b[0mget_loc\u001b[0m\u001b[0;34m(\u001b[0m\u001b[0mcasted_key\u001b[0m\u001b[0;34m)\u001b[0m\u001b[0;34m\u001b[0m\u001b[0;34m\u001b[0m\u001b[0m\n\u001b[0m\u001b[1;32m   3362\u001b[0m             \u001b[0;32mexcept\u001b[0m \u001b[0mKeyError\u001b[0m \u001b[0;32mas\u001b[0m \u001b[0merr\u001b[0m\u001b[0;34m:\u001b[0m\u001b[0;34m\u001b[0m\u001b[0;34m\u001b[0m\u001b[0m\n",
      "\u001b[0;32m~/anaconda3/lib/python3.7/site-packages/pandas/_libs/index.pyx\u001b[0m in \u001b[0;36mpandas._libs.index.IndexEngine.get_loc\u001b[0;34m()\u001b[0m\n",
      "\u001b[0;32m~/anaconda3/lib/python3.7/site-packages/pandas/_libs/index.pyx\u001b[0m in \u001b[0;36mpandas._libs.index.IndexEngine.get_loc\u001b[0;34m()\u001b[0m\n",
      "\u001b[0;32mpandas/_libs/hashtable_class_helper.pxi\u001b[0m in \u001b[0;36mpandas._libs.hashtable.PyObjectHashTable.get_item\u001b[0;34m()\u001b[0m\n",
      "\u001b[0;32mpandas/_libs/hashtable_class_helper.pxi\u001b[0m in \u001b[0;36mpandas._libs.hashtable.PyObjectHashTable.get_item\u001b[0;34m()\u001b[0m\n",
      "\u001b[0;31mKeyError\u001b[0m: 'QLen'",
      "\nThe above exception was the direct cause of the following exception:\n",
      "\u001b[0;31mKeyError\u001b[0m                                  Traceback (most recent call last)",
      "\u001b[0;32m<ipython-input-6-6c3f24857221>\u001b[0m in \u001b[0;36m<module>\u001b[0;34m\u001b[0m\n\u001b[1;32m     20\u001b[0m     \u001b[0mdf_novel_filter\u001b[0m \u001b[0;34m=\u001b[0m \u001b[0mdf_novel_read_counts\u001b[0m\u001b[0;34m[\u001b[0m\u001b[0mg\u001b[0m\u001b[0;34m]\u001b[0m\u001b[0;34m\u001b[0m\u001b[0;34m\u001b[0m\u001b[0m\n\u001b[1;32m     21\u001b[0m     df_novel_filter = df_novel_filter.loc[(df_novel_filter['Read'] > min_read_count) & \n\u001b[0;32m---> 22\u001b[0;31m                                           (df_novel_filter['QLen'] > 500)]\n\u001b[0m\u001b[1;32m     23\u001b[0m \u001b[0;34m\u001b[0m\u001b[0m\n\u001b[1;32m     24\u001b[0m     \u001b[0mdf_not_novel_filter\u001b[0m \u001b[0;34m=\u001b[0m \u001b[0mdf_non_novel_read_counts\u001b[0m\u001b[0;34m[\u001b[0m\u001b[0mg\u001b[0m\u001b[0;34m]\u001b[0m\u001b[0;34m\u001b[0m\u001b[0;34m\u001b[0m\u001b[0m\n",
      "\u001b[0;32m~/anaconda3/lib/python3.7/site-packages/pandas/core/frame.py\u001b[0m in \u001b[0;36m__getitem__\u001b[0;34m(self, key)\u001b[0m\n\u001b[1;32m   3456\u001b[0m             \u001b[0;32mif\u001b[0m \u001b[0mself\u001b[0m\u001b[0;34m.\u001b[0m\u001b[0mcolumns\u001b[0m\u001b[0;34m.\u001b[0m\u001b[0mnlevels\u001b[0m \u001b[0;34m>\u001b[0m \u001b[0;36m1\u001b[0m\u001b[0;34m:\u001b[0m\u001b[0;34m\u001b[0m\u001b[0;34m\u001b[0m\u001b[0m\n\u001b[1;32m   3457\u001b[0m                 \u001b[0;32mreturn\u001b[0m \u001b[0mself\u001b[0m\u001b[0;34m.\u001b[0m\u001b[0m_getitem_multilevel\u001b[0m\u001b[0;34m(\u001b[0m\u001b[0mkey\u001b[0m\u001b[0;34m)\u001b[0m\u001b[0;34m\u001b[0m\u001b[0;34m\u001b[0m\u001b[0m\n\u001b[0;32m-> 3458\u001b[0;31m             \u001b[0mindexer\u001b[0m \u001b[0;34m=\u001b[0m \u001b[0mself\u001b[0m\u001b[0;34m.\u001b[0m\u001b[0mcolumns\u001b[0m\u001b[0;34m.\u001b[0m\u001b[0mget_loc\u001b[0m\u001b[0;34m(\u001b[0m\u001b[0mkey\u001b[0m\u001b[0;34m)\u001b[0m\u001b[0;34m\u001b[0m\u001b[0;34m\u001b[0m\u001b[0m\n\u001b[0m\u001b[1;32m   3459\u001b[0m             \u001b[0;32mif\u001b[0m \u001b[0mis_integer\u001b[0m\u001b[0;34m(\u001b[0m\u001b[0mindexer\u001b[0m\u001b[0;34m)\u001b[0m\u001b[0;34m:\u001b[0m\u001b[0;34m\u001b[0m\u001b[0;34m\u001b[0m\u001b[0m\n\u001b[1;32m   3460\u001b[0m                 \u001b[0mindexer\u001b[0m \u001b[0;34m=\u001b[0m \u001b[0;34m[\u001b[0m\u001b[0mindexer\u001b[0m\u001b[0;34m]\u001b[0m\u001b[0;34m\u001b[0m\u001b[0;34m\u001b[0m\u001b[0m\n",
      "\u001b[0;32m~/anaconda3/lib/python3.7/site-packages/pandas/core/indexes/base.py\u001b[0m in \u001b[0;36mget_loc\u001b[0;34m(self, key, method, tolerance)\u001b[0m\n\u001b[1;32m   3361\u001b[0m                 \u001b[0;32mreturn\u001b[0m \u001b[0mself\u001b[0m\u001b[0;34m.\u001b[0m\u001b[0m_engine\u001b[0m\u001b[0;34m.\u001b[0m\u001b[0mget_loc\u001b[0m\u001b[0;34m(\u001b[0m\u001b[0mcasted_key\u001b[0m\u001b[0;34m)\u001b[0m\u001b[0;34m\u001b[0m\u001b[0;34m\u001b[0m\u001b[0m\n\u001b[1;32m   3362\u001b[0m             \u001b[0;32mexcept\u001b[0m \u001b[0mKeyError\u001b[0m \u001b[0;32mas\u001b[0m \u001b[0merr\u001b[0m\u001b[0;34m:\u001b[0m\u001b[0;34m\u001b[0m\u001b[0;34m\u001b[0m\u001b[0m\n\u001b[0;32m-> 3363\u001b[0;31m                 \u001b[0;32mraise\u001b[0m \u001b[0mKeyError\u001b[0m\u001b[0;34m(\u001b[0m\u001b[0mkey\u001b[0m\u001b[0;34m)\u001b[0m \u001b[0;32mfrom\u001b[0m \u001b[0merr\u001b[0m\u001b[0;34m\u001b[0m\u001b[0;34m\u001b[0m\u001b[0m\n\u001b[0m\u001b[1;32m   3364\u001b[0m \u001b[0;34m\u001b[0m\u001b[0m\n\u001b[1;32m   3365\u001b[0m         \u001b[0;32mif\u001b[0m \u001b[0mis_scalar\u001b[0m\u001b[0;34m(\u001b[0m\u001b[0mkey\u001b[0m\u001b[0;34m)\u001b[0m \u001b[0;32mand\u001b[0m \u001b[0misna\u001b[0m\u001b[0;34m(\u001b[0m\u001b[0mkey\u001b[0m\u001b[0;34m)\u001b[0m \u001b[0;32mand\u001b[0m \u001b[0;32mnot\u001b[0m \u001b[0mself\u001b[0m\u001b[0;34m.\u001b[0m\u001b[0mhasnans\u001b[0m\u001b[0;34m:\u001b[0m\u001b[0;34m\u001b[0m\u001b[0;34m\u001b[0m\u001b[0m\n",
      "\u001b[0;31mKeyError\u001b[0m: 'QLen'"
     ]
    },
    {
     "data": {
      "image/png": "[encoded data removed]",
      "text/plain": [
       "<Figure size 1152x720 with 3 Axes>"
      ]
     },
     "metadata": {
      "needs_background": "light"
     },
     "output_type": "display_data"
    }
   ],
   "source": [
    "plt.rcParams.update(rcParams)\n",
    "\n",
    "fig = plt.figure(constrained_layout = True,figsize = (16,10))\n",
    "gs0 = fig.add_gridspec(2, 1,  height_ratios=[1,1])\n",
    "gs1 = gs0[0].subgridspec(1, 1)\n",
    "ax1 = fig.add_subplot(gs1[0])\n",
    "\n",
    "gs2 = gs0[1].subgridspec(1, 2, width_ratios = [1,2])\n",
    "ax2, ax3 = fig.add_subplot(gs2[0]), fig.add_subplot(gs2[1])\n",
    "\n",
    "min_read_count = 20\n",
    "gaps = 3.5\n",
    "counter = 0\n",
    "\n",
    "xticks = []\n",
    "xtick_labels = ['Aerophilum', 'Chloracidobacterium\\n Thermophilum B', 'Chloroflexus MS G', 'OSA', 'OSB', \n",
    "                'Roseiflexus']\n",
    "\n",
    "for g in genomes:\n",
    "    df_novel_filter = df_novel_read_counts[g]\n",
    "    df_novel_filter = df_novel_filter.loc[(df_novel_filter['Read'] > min_read_count) & \n",
    "                                          (df_novel_filter['QLen'] > 500)]\n",
    "    \n",
    "    df_not_novel_filter = df_non_novel_read_counts[g]\n",
    "    df_not_novel_filter = df_not_novel_filter.loc[(df_not_novel_filter['Read'] > min_read_count)&\n",
    "                                                  (df_not_novel_filter['QLen'] > 500) &\n",
    "                                                  (df_not_novel_filter['PIdent'] > 70)]# & \n",
    "    stat, p_val = ks_2samp(df_not_novel_filter['Or_Ratio'], df_novel_filter['Or_Ratio'])\n",
    "    Plot_Box_Plots([df_novel_filter['Or_Ratio'], df_not_novel_filter['Or_Ratio']], [counter, counter + 1], \n",
    "                  ['C3', 'C4'], ax1, scatter = False)\n",
    "    \n",
    "    \n",
    "    if p_val <= 0.005: ptext = r'p-value < 0.005'\n",
    "    else: ptext = r'p-value > 0.005'\n",
    "    ax1.text(counter+0.85/2, 105, r'KS-stat:'+str(round(stat, 2))+'\\n'+ptext, ha = 'center', size = 16, fontstyle = 'italic')\n",
    "    xticks.append(counter+0.5)\n",
    "    counter += gaps\n",
    "ax1.bar(-10,0,color = 'C3', label = 'Putative variant contigs')\n",
    "ax1.bar(-10,0,color = 'C4', label = 'Non-variant contigs')\n",
    "ax1.legend(ncol = 2, loc = 1, frameon = False)    \n",
    "ax1.set_xticks(xticks)    \n",
    "ax1.set_xticklabels(xtick_labels, rotation = 0)    \n",
    "ax1.set_ylim([-5, 140])\n",
    "ax1.axhline(120, color = 'black', linewidth = 0.5, linestyle = '-.')\n",
    "ax1.set_yticks(range(0, 110, 20))\n",
    "ax1.set_ylabel('Ratio of orphaned reads \\n to all reads in the assembly')\n",
    "ax1.set_xlim([-1.5, counter-1.5])\n",
    "\n",
    "df_filtered_alignments[['PIdent']].plot(kind = 'hist', bins = 35, ax = ax2, histtype='step',\n",
    "                                        linewidth=3, legend = False, color = 'black')\n",
    "ax2.set_xlabel('Percent Identity')\n",
    "ax2.set_ylabel('Distribution of percent identity \\n in the alignments')\n",
    "\n",
    "df_grp.plot(kind = 'bar', ax = ax3, legend = False,color = 'black')\n",
    "ax3.set_ylabel('Number of Single Cell\\n Assemblies')\n",
    "ax3.set_xticks([])\n",
    "ax3.set_xlabel('Putative Variant Groups')\n",
    "\n",
    "#fig.tight_layout()\n",
    "#fig.savefig(out_dir+'Orphaned_Reads_SAGs.pdf',bbox_inches='tight',facecolor = '#FFFFFF')"
   ]
  },
  {
   "cell_type": "code",
   "execution_count": 15,
   "metadata": {},
   "outputs": [
    {
     "data": {
      "text/plain": [
       "Single_Cell_Sample    29\n",
       "Name: Group_1855, dtype: int64"
      ]
     },
     "execution_count": 15,
     "metadata": {},
     "output_type": "execute_result"
    }
   ],
   "source": [
    "df_grp.loc['Group_1855']"
   ]
  },
  {
   "cell_type": "code",
   "execution_count": null,
   "metadata": {},
   "outputs": [],
   "source": []
  },
  {
   "cell_type": "code",
   "execution_count": null,
   "metadata": {},
   "outputs": [],
   "source": []
  }
 ],
 "metadata": {
  "kernelspec": {
   "display_name": "Python 3",
   "language": "python",
   "name": "python3"
  },
  "language_info": {
   "codemirror_mode": {
    "name": "ipython",
    "version": 3
   },
   "file_extension": ".py",
   "mimetype": "text/x-python",
   "name": "python",
   "nbconvert_exporter": "python",
   "pygments_lexer": "ipython3",
   "version": "3.7.3"
  }
 },
 "nbformat": 4,
 "nbformat_minor": 2
}
