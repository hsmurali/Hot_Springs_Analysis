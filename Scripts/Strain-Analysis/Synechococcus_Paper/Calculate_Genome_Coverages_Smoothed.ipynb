{
 "cells": [
  {
   "cell_type": "code",
   "execution_count": 1,
   "metadata": {},
   "outputs": [],
   "source": [
    "import pandas as pd\n",
    "import numpy as np\n",
    "from os import listdir\n",
    "import datetime as dt\n",
    "import pickle as pkl\n",
    "\n",
    "def Load_CSV(filepath):\n",
    "    df = pd.DataFrame()\n",
    "    iters = pd.read_csv(filepath,sep = \"\\t\",chunksize=100000, engine='c')\n",
    "    for i in iters:\n",
    "        df = df.append(i, ignore_index = True)\n",
    "    return df\n",
    "            "
   ]
  },
  {
   "cell_type": "code",
   "execution_count": null,
   "metadata": {},
   "outputs": [],
   "source": [
    "data_dir = '/Users/harihara/Mount-2/hotspring_metagenome/Synechococcus_paper_analysis/Hotsprings_Variant_Structure/'\n",
    "genomes = ['Aerophilum','Chloracidobacterium_thermophilum_B','Chloroflexus_MS_G','OSA','OSB','Roseiflexus']"
   ]
  },
  {
   "cell_type": "code",
   "execution_count": null,
   "metadata": {
    "scrolled": true
   },
   "outputs": [],
   "source": [
    "w = 1000\n",
    "Average_Coverages = {}\n",
    "for g in genomes:\n",
    "    df_all = pd.DataFrame()\n",
    "    for f in listdir(data_dir+g):\n",
    "        if f.startswith(\"Hot\"):\n",
    "            df = Load_CSV(data_dir+g+'/'+f+'/Differential_Read_Counting/Genome.'+g+'.Coverage.gz')\n",
    "            sample = f.replace(\"_FD\", \"\")\n",
    "            df = df[['Fold_Cov']]\n",
    "            df_all[sample] = df['Fold_Cov'].tolist()\n",
    "            print(dt.datetime.now(), sample, g)\n",
    "    Average_Coverages[g] = df_all.rolling(w).mean()[w-1::w]"
   ]
  },
  {
   "cell_type": "code",
   "execution_count": null,
   "metadata": {},
   "outputs": [],
   "source": [
    "out_path = '/Users/harihara/Research-Activities/Data/Hot-Spring/Average_Coverage.pkl'\n",
    "f = open(out_path, 'wb')\n",
    "pkl.dump(Average_Coverages, f)\n",
    "f.close()"
   ]
  }
 ],
 "metadata": {
  "kernelspec": {
   "display_name": "Python 3",
   "language": "python",
   "name": "python3"
  },
  "language_info": {
   "codemirror_mode": {
    "name": "ipython",
    "version": 3
   },
   "file_extension": ".py",
   "mimetype": "text/x-python",
   "name": "python",
   "nbconvert_exporter": "python",
   "pygments_lexer": "ipython3",
   "version": "3.7.3"
  }
 },
 "nbformat": 4,
 "nbformat_minor": 2
}
