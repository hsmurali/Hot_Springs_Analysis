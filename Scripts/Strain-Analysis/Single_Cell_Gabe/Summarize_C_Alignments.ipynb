{
 "cells": [
  {
   "cell_type": "code",
   "execution_count": 1,
   "metadata": {},
   "outputs": [],
   "source": [
    "import pandas as pd\n",
    "import numpy as np\n",
    "\n",
    "def Breadth_of_Coverage(group):\n",
    "    length = group.iloc[0]['SLen']\n",
    "    cov = np.zeros(length)\n",
    "    starts = group['SStart'].tolist()\n",
    "    ends = group['SEnd'].tolist()\n",
    "    for i in range(0, len(starts)):\n",
    "        cov[starts[i]:ends[i]]=1\n",
    "    return cov.sum()/length*100.0\n",
    "\n",
    "def Avg_Depth_of_Coverage(group):\n",
    "    length = group.iloc[0]['SLen']\n",
    "    cov = np.zeros(length)\n",
    "    starts = group['SStart'].tolist()\n",
    "    ends = group['SEnd'].tolist()\n",
    "    for i in range(0, len(starts)):\n",
    "        cov[starts[i]:ends[i]]+=1\n",
    "    return cov.mean()\n"
   ]
  },
  {
   "cell_type": "code",
   "execution_count": 2,
   "metadata": {},
   "outputs": [],
   "source": [
    "df_A = pd.read_csv('Mount/Only-A.txt.gz', sep = \"\\t\")\n",
    "df_A_grouped = df_A.groupby(['Sample', 'Subject'])\n",
    "df_A_stats = pd.DataFrame()\n",
    "df_A_stats['Breadth_Coverage'] = df_A_grouped.apply(Breadth_of_Coverage)\n",
    "df_A_stats['Avg_Depth_Coverage'] = df_A_grouped.apply(Avg_Depth_of_Coverage)\n",
    "df_A_stats['Num_Reads'] = df_A_grouped['Query'].agg(['count'])\n",
    "df_A_stats[['Breadth_Coverage', 'Avg_Depth_Coverage']] = df_A_stats[['Breadth_Coverage',\n",
    "                                                                     'Avg_Depth_Coverage']].round(2)\n",
    "df_A_stats = df_A_stats.reset_index()\n",
    "T_A = df_A_stats.pivot_table(index = 'Subject', columns = 'Sample', \n",
    "                           values = ['Breadth_Coverage', 'Avg_Depth_Coverage', 'Num_Reads'])\n",
    "X_A = T_A.swaplevel(0,1,axis = 'columns')\n",
    "cols = df_A_stats['Sample'].unique().tolist()\n",
    "X_A = X_A.reindex(columns=X_A.columns.reindex(cols, level=0)[0])\n",
    "X_A.columns.names = ('Sample', 'Stat')\n",
    "X_A = X_A.fillna(0)"
   ]
  },
  {
   "cell_type": "code",
   "execution_count": 5,
   "metadata": {},
   "outputs": [],
   "source": [
    "df_B = pd.read_csv('Mount/Only-B.txt.gz', sep = \"\\t\")\n",
    "df_B_grouped = df_B.groupby(['Sample', 'Subject'])\n",
    "df_B_stats = pd.DataFrame()\n",
    "df_B_stats['Breadth_Coverage'] = df_B_grouped.apply(Breadth_of_Coverage)\n",
    "df_B_stats['Avg_Depth_Coverage'] = df_B_grouped.apply(Avg_Depth_of_Coverage)\n",
    "df_B_stats['Num_Reads'] = df_B_grouped['Query'].agg(['count'])\n",
    "df_B_stats[['Breadth_Coverage','Avg_Depth_Coverage']] = df_B_stats[['Breadth_Coverage',\n",
    "                                                                        'Avg_Depth_Coverage']].round(2)\n",
    "df_B_stats = df_B_stats.reset_index()\n",
    "\n",
    "T_B = df_B_stats.pivot_table(index = 'Subject', columns = 'Sample', \n",
    "                           values = ['Breadth_Coverage', 'Avg_Depth_Coverage', 'Num_Reads'])\n",
    "X_B = T_B.swaplevel(0,1,axis = 'columns')\n",
    "cols = df_B_stats['Sample'].unique().tolist()\n",
    "X_B = X_B.reindex(columns=X_B.columns.reindex(cols, level=0)[0])\n",
    "X_B.columns.names = ('Sample', 'Stat')\n",
    "X_B = X_B.fillna(0)"
   ]
  },
  {
   "cell_type": "code",
   "execution_count": 8,
   "metadata": {},
   "outputs": [],
   "source": [
    "df_C = pd.read_csv('Mount/Only-C.txt.gz', sep = \"\\t\")\n",
    "df_C_grouped = df_C.groupby(['Sample', 'Subject'])\n",
    "df_C_stats = pd.DataFrame()\n",
    "df_C_stats['Breadth_Coverage'] = df_C_grouped.apply(Breadth_of_Coverage)\n",
    "df_C_stats['Avg_Depth_Coverage'] = df_C_grouped.apply(Avg_Depth_of_Coverage)\n",
    "df_C_stats['Num_Reads'] = df_C_grouped['Query'].agg(['count'])\n",
    "df_C_stats[['Breadth_Coverage','Avg_Depth_Coverage']] = df_C_stats[['Breadth_Coverage',\n",
    "                                                                    'Avg_Depth_Coverage']].round(2)\n",
    "df_C_stats = df_C_stats.reset_index()\n",
    "\n",
    "T_C = df_C_stats.pivot_table(index = 'Subject', columns = 'Sample', \n",
    "                           values = ['Breadth_Coverage', 'Avg_Depth_Coverage', 'Num_Reads'])\n",
    "X_C = T_C.swaplevel(0,1,axis = 'columns')\n",
    "cols = df_C_stats['Sample'].unique().tolist()\n",
    "X_C = X_C.reindex(columns=X_C.columns.reindex(cols, level=0)[0])\n",
    "X_C.columns.names = ('Sample', 'Stat')\n",
    "X_C = X_C.fillna(0)"
   ]
  },
  {
   "cell_type": "code",
   "execution_count": 4,
   "metadata": {},
   "outputs": [],
   "source": [
    "X_A.to_excel('A_Allele.xlsx')"
   ]
  },
  {
   "cell_type": "code",
   "execution_count": 7,
   "metadata": {},
   "outputs": [],
   "source": [
    "X_B.to_excel('B_Allele.xlsx')"
   ]
  },
  {
   "cell_type": "code",
   "execution_count": 10,
   "metadata": {},
   "outputs": [],
   "source": [
    "X_C.to_excel('C_Allele.xlsx')"
   ]
  },
  {
   "cell_type": "code",
   "execution_count": null,
   "metadata": {},
   "outputs": [],
   "source": []
  }
 ],
 "metadata": {
  "kernelspec": {
   "display_name": "Python 3",
   "language": "python",
   "name": "python3"
  },
  "language_info": {
   "codemirror_mode": {
    "name": "ipython",
    "version": 3
   },
   "file_extension": ".py",
   "mimetype": "text/x-python",
   "name": "python",
   "nbconvert_exporter": "python",
   "pygments_lexer": "ipython3",
   "version": "3.7.3"
  }
 },
 "nbformat": 4,
 "nbformat_minor": 2
}
