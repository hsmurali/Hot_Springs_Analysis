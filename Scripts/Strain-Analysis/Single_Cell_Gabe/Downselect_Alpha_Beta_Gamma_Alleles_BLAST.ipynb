{
 "cells": [
  {
   "cell_type": "code",
   "execution_count": 1,
   "metadata": {},
   "outputs": [],
   "source": [
    "import numpy as np\n",
    "import pandas as pd\n",
    "\n",
    "from os import mkdir\n",
    "from Bio import SeqIO\n",
    "from os.path import isdir\n",
    "\n",
    "def Load_Fasta_Seqs(seq_path):\n",
    "    d = {}\n",
    "    fasta_sequences = SeqIO.parse(open(seq_path),'fasta')\n",
    "    for s in fasta_sequences:\n",
    "        d[s.name] = str(s.seq)\n",
    "    return d\n",
    "\n",
    "def Get_Allele_Id(Subject):\n",
    "    T = Subject.split('_')\n",
    "    try:\n",
    "        return T[0]+\"_\"+T[1]\n",
    "    except IndexError:\n",
    "        return T[0]"
   ]
  },
  {
   "cell_type": "code",
   "execution_count": 2,
   "metadata": {},
   "outputs": [],
   "source": [
    "data_path = '/Users/harihara/Mount-2/hotspring_metagenome/single_cell_analysis_with_Gabe_Birzu/\\\n",
    "C_Allele_Relative_Abundance_Sep/Filtered_Alignments/Pident_80/'\n",
    "seq_path = '/Users/harihara/Mount-2/hotspring_metagenome/single_cell_analysis_with_Gabe_Birzu/\\\n",
    "C_Allele_Relative_Abundance_Aug/'\n",
    "out_path = '/Users/harihara/Mount-2/hotspring_metagenome/single_cell_analysis_with_Gabe_Birzu/\\\n",
    "C_Allele_Relative_Abundance_Sep/BLAST_Comparison/'\n",
    "\n",
    "if not isdir(out_path):\n",
    "    mkdir(out_path)\n",
    "\n",
    "if not isdir(out_path+'A_Alleles/'):    \n",
    "    mkdir(out_path+'A_Alleles/')\n",
    "if not isdir(out_path+'B_Alleles/'):    \n",
    "    mkdir(out_path+'B_Alleles/')\n",
    "if not isdir(out_path+'C_Alleles/'):    \n",
    "    mkdir(out_path+'C_Alleles/')\n"
   ]
  },
  {
   "cell_type": "code",
   "execution_count": 3,
   "metadata": {},
   "outputs": [],
   "source": [
    "df_A = pd.read_excel(data_path+'A_Allele.xlsx', header = [0,1])\n",
    "df_A = df_A.fillna(0)\n",
    "df_A = df_A[1:]\n",
    "df_A['Allele'] = df_A['Sample']['Stat'].apply(Get_Allele_Id)\n",
    "df_A = df_A.set_index([('Allele','')])\n",
    "df_A['A_abundances'] = df_A.loc[:, df_A.columns.get_level_values(1)=='Avg_Depth_Coverage'].sum(axis = 1)\n",
    "\n",
    "df_B = pd.read_excel(data_path+'B_Allele.xlsx', header = [0,1])\n",
    "df_B = df_B.fillna(0)\n",
    "df_B = df_B[1:]\n",
    "df_B['Allele'] = df_B['Sample']['Stat'].apply(Get_Allele_Id)\n",
    "df_B = df_B.set_index([('Allele','')])\n",
    "df_B['B_abundances'] = df_B.loc[:, df_B.columns.get_level_values(1)=='Avg_Depth_Coverage'].sum(axis = 1)\n",
    "\n",
    "df_C = pd.read_excel(data_path+'C_Allele.xlsx', header = [0,1])\n",
    "df_C = df_C.fillna(0)\n",
    "df_C = df_C[1:]\n",
    "df_C['Allele'] = df_C['Sample']['Stat'].apply(Get_Allele_Id)\n",
    "df_C = df_C.set_index([('Allele','')])\n",
    "df_C['C_abundances'] = df_C.loc[:, df_C.columns.get_level_values(1)=='Avg_Depth_Coverage'].sum(axis = 1)\n",
    "\n",
    "df_Total = df_A[['A_abundances']].join(df_B[['B_abundances']]).join(df_C[['C_abundances']])\n",
    "df_Total = df_Total.fillna(0)\n",
    "df_Total['Total_Abundance'] = df_Total.sum(axis=1)\n",
    "df_Total = df_Total[(df_Total['A_abundances'] > 0) & \n",
    "                    (df_Total['B_abundances'] > 0) & \n",
    "                    (df_Total['C_abundances'] > 0)]\n",
    "df_Total = df_Total.sort_values(by = 'Total_Abundance', ascending = False)"
   ]
  },
  {
   "cell_type": "code",
   "execution_count": 4,
   "metadata": {},
   "outputs": [],
   "source": [
    "Top_30_Allele = df_Total.index.tolist()[:30] + ['YSG_1367']\n",
    "\n",
    "A_Alleles_Sel = df_A.loc[Top_30_Allele]['Sample']['Stat'].tolist()\n",
    "B_Alleles_Sel = df_B.loc[Top_30_Allele]['Sample']['Stat'].tolist()\n",
    "C_Alleles_Sel = df_C.loc[Top_30_Allele]['Sample']['Stat'].tolist()\n"
   ]
  },
  {
   "cell_type": "code",
   "execution_count": 5,
   "metadata": {
    "scrolled": true
   },
   "outputs": [
    {
     "name": "stdout",
     "output_type": "stream",
     "text": [
      "YSG_1487_alleles_Ga0393436_012_21819_23870_A_allele\n",
      "YSG_0548_alleles_Ga0393436_021_29421_30833_A_allele\n",
      "YSG_1924_alleles_Ga0393436_082_2918_4342_A_allele\n",
      "YSG_1319_alleles_Ga0393436_031_4952_6442_A_allele\n",
      "YSG_1325_alleles_Ga0393436_027_15597_16877_A_allele\n",
      "YSG_0096b_alleles_Ga0393436_014_826_3426_A_allele\n",
      "YSG_0694b_alleles_Ga0393436_011_429_1055_A_allele\n",
      "YSG_0108a_alleles_Ga0393436_042_5454_6590_A_allele\n",
      "YSG_0136a_alleles_Ga0393436_004_51432_52400_A_allele\n",
      "YSG_1447b_alleles_Ga0393436_028_7797_8984_A_allele\n",
      "YSG_0898_alleles_Ga0393436_021_194_1480_A_allele\n",
      "YSG_1299_alleles_Ga0393436_004_48730_51381_A_allele\n",
      "YSG_1272_alleles_Ga0393436_004_7726_9726_A_allele\n",
      "YSG_0699_alleles_Ga0393436_034_1225_2541_A_allele\n",
      "YSG_0168b_alleles_Ga0393436_009_4379_5464_A_allele\n",
      "YSG_1576_alleles_Ga0393436_002_28841_30244_A_allele\n",
      "YSG_0340_alleles_Ga0393436_042_10591_12519_A_allele\n",
      "YSG_1142_alleles_Ga0393436_024_256_1353_A_allele\n",
      "YSG_0314_alleles_Ga0393436_025_12217_13677_A_allele\n",
      "YSG_0985_alleles_Ga0393436_040_6200_7495_A_allele\n",
      "YSG_0675_alleles_Ga0393436_014_6389_7981_A_allele\n",
      "YSG_0764_alleles_Ga0393436_004_29639_31168_A_allele\n",
      "YSG_1694_alleles_Ga0393436_016_3105_4265_A_allele\n",
      "YSG_0688_alleles_Ga0393436_009_13910_15409_A_allele\n",
      "YSG_0072a_alleles_Ga0393436_002_55790_57301_A_allele\n",
      "YSG_1779_alleles_Ga0393436_038_4139_6286_A_allele\n",
      "YSG_1514_alleles_Ga0393436_031_3656_4882_A_allele\n",
      "YSG_1709_alleles_Ga0393436_031_439_2052_A_allele\n",
      "YSG_0966_alleles_Ga0393436_001_76195_78024_A_allele\n",
      "YSG_1748_alleles_Ga0393436_006_22613_23683_A_allele\n",
      "YSG_1367_alleles_Ga0393436_029_378_1181_A_allele\n"
     ]
    }
   ],
   "source": [
    "A_Alleles = Load_Fasta_Seqs(seq_path+'UncmicMRedA02D15_FD_alleles.fna')\n",
    "\n",
    "for A in A_Alleles_Sel:\n",
    "    print(A)\n",
    "    S = A.split('_')\n",
    "    seq_name = S[0]+'_'+S[1]\n",
    "    if not isdir(out_path+'A_Alleles/'+A+'/'):\n",
    "        mkdir(out_path+'A_Alleles/'+A+'/')\n",
    "        o = open(out_path+'A_Alleles/'+A+'/'+A+'.fasta','w')\n",
    "        o.write('>'+seq_name+'\\n')\n",
    "        o.write(A_Alleles[A]+'\\n')\n",
    "        o.close()"
   ]
  },
  {
   "cell_type": "code",
   "execution_count": 6,
   "metadata": {
    "scrolled": true
   },
   "outputs": [
    {
     "name": "stdout",
     "output_type": "stream",
     "text": [
      "YSG_1487_alleles_Ga0374750_104_7933_9981_Bp_allele\n",
      "YSG_0548_alleles_Ga0374750_086_6183_7547_Bp_allele\n",
      "YSG_1924_alleles_Ga0374750_141_1128_2552_Bp_allele\n",
      "YSG_1319_alleles_Ga0374750_019_22175_23686_Bp_allele\n",
      "YSG_1325_alleles_Ga0374750_006_30182_31462_Bp_allele\n",
      "YSG_0096b_alleles_Ga0374750_122_5302_7902_Bp_allele\n",
      "YSG_0694b_alleles_Ga0374750_098_5723_6289_Bp_allele\n",
      "YSG_0108a_alleles_Ga0374750_124_5418_6554_Bp_allele\n",
      "YSG_0136a_alleles_Ga0374750_042_4937_5908_Bp_allele\n",
      "YSG_1447b_alleles_Ga0374750_198_271_1566_Bp_allele\n",
      "YSG_0898_alleles_Ga0374750_138_5715_7001_Bp_allele\n",
      "YSG_1299_alleles_Ga0374750_030_9403_12057_Bp_allele\n",
      "YSG_1272_alleles_Ga0374750_082_6505_8640_Bp_allele\n",
      "YSG_0699_alleles_Ga0374750_009_32071_33387_Bp_allele\n",
      "YSG_0168b_alleles_Ga0374750_085_6435_7517_Bp_allele\n",
      "YSG_1576_alleles_Ga0374750_037_18553_19956_Bp_allele\n",
      "YSG_0340_alleles_Ga0374750_037_12305_14233_Bp_allele\n",
      "YSG_1142_alleles_Ga0374750_205_59_1054_Bp_allele\n",
      "YSG_0314_alleles_Ga0374750_009_35066_36490_Bp_allele\n",
      "YSG_0985_alleles_Ga0374750_007_30331_31626_Bp_allele\n",
      "YSG_0675_alleles_Ga0374750_122_795_2387_Bp_allele\n",
      "YSG_0764_alleles_Ga0374750_066_5039_6562_Bp_allele\n",
      "YSG_1694_alleles_Ga0374750_201_7_1170_Bp_allele\n",
      "YSG_0688_alleles_Ga0374750_004_37291_38772_Bp_allele\n",
      "YSG_0072a_alleles_Ga0374750_110_4807_6318_Bp_allele\n",
      "YSG_1779_alleles_Ga0374750_052_1_1674_Bp_allele\n",
      "YSG_1514_alleles_Ga0374750_019_20870_21925_Bp_allele\n",
      "YSG_1709_alleles_Ga0374750_019_16893_18626_Bp_allele\n",
      "YSG_0966_alleles_Ga0374750_137_3292_5163_Bp_allele\n",
      "YSG_1748_alleles_Ga0374750_069_4675_5775_Bp_allele\n",
      "YSG_1367_alleles_Ga0374750_030_3950_4744_Bp_allele\n"
     ]
    }
   ],
   "source": [
    "B_Alleles = Load_Fasta_Seqs(seq_path+'UncmicOcRedA2H14_FD_alleles.fna')\n",
    "for B in B_Alleles_Sel:\n",
    "    print(B)\n",
    "    S = B.split('_')\n",
    "    seq_name = S[0]+'_'+S[1]\n",
    "    if not isdir(out_path+'B_Alleles/'+B+'/'):\n",
    "        mkdir(out_path+'B_Alleles/'+B+'/')\n",
    "        o = open(out_path+'B_Alleles/'+B+'/'+B+'.fasta','w')\n",
    "        o.write('>'+seq_name+'\\n')\n",
    "        o.write(B_Alleles[B]+'\\n')\n",
    "        o.close()\n",
    "        "
   ]
  },
  {
   "cell_type": "code",
   "execution_count": 7,
   "metadata": {
    "scrolled": true
   },
   "outputs": [
    {
     "name": "stdout",
     "output_type": "stream",
     "text": [
      "YSG_1487_alleles_Ga0374717_18_24502_26553_C_allele1\n",
      "YSG_0548_alleles_Ga0374717_09_51800_53203_C_allele1\n",
      "YSG_1924_alleles_Ga0374717_03_44098_45522_C_allele1\n",
      "YSG_1319_alleles_Ga0374717_06_54004_55494_C_allele1\n",
      "YSG_1325_alleles_Ga0374717_12_2675_3955_C_allele1\n",
      "YSG_0096b_alleles_Ga0374717_02_20246_22852_C_allele1\n",
      "YSG_0694b_alleles_Ga0374717_13_25326_25898_C_allele1\n",
      "YSG_0108a_alleles_Ga0374717_16_1829_2965_C_allele1\n",
      "YSG_0136a_alleles_Ga0374717_05_20990_21949_C_allele1\n",
      "YSG_1447b_alleles_Ga0374717_41_5923_7119_C_allele1\n",
      "YSG_0898_alleles_Ga0374717_12_5089_6375_C_allele1\n",
      "YSG_1299_alleles_Ga0374717_05_18266_20941_C_allele1\n",
      "YSG_1272_alleles_Ga0374717_09_40201_42390_C_allele1\n",
      "YSG_0699_alleles_Ga0374717_05_49219_50586_C_allele1\n",
      "YSG_0168b_alleles_Ga0374717_20_21852_22934_C_allele1\n",
      "YSG_1576_alleles_Ga0374717_11_13904_15307_C_allele1\n",
      "YSG_0340_alleles_Ga0374717_16_6842_8698_C_allele1\n",
      "YSG_1142_alleles_Ga0374717_45_3848_4825_C_allele1\n",
      "YSG_0314_alleles_Ga0374717_10_35546_37078_C_allele1\n",
      "YSG_0985_alleles_Ga0374717_04_9279_10574_C_allele1\n",
      "YSG_0675_alleles_Ga0374717_02_15891_17483_C_allele1\n",
      "YSG_0764_alleles_Ga0374717_05_6182_7705_C_allele1\n",
      "YSG_1694_alleles_Ga0374717_21_1078_2238_C_allele1\n",
      "YSG_0688_alleles_Ga0374717_20_12309_13742_C_allele1\n",
      "YSG_0072a_alleles_Ga0374717_08_51487_52998_C_allele1\n",
      "YSG_1779_alleles_Ga0374717_03_2575_4731_C_allele1\n",
      "YSG_1514_alleles_Ga0374717_06_52710_53942_C_allele1\n",
      "YSG_1709_alleles_Ga0374717_06_49574_51163_C_allele1\n",
      "YSG_0966_alleles_Ga0374717_17_12099_13910_C_allele1\n",
      "YSG_1748_alleles_Ga0374717_02_35291_36367_C_allele1\n",
      "YSG_1367_alleles_Ga0374717_24_6616_7407_C_allele1\n"
     ]
    }
   ],
   "source": [
    "C_Alleles = Load_Fasta_Seqs(seq_path+'all_C_alleles.fna')\n",
    "for C in C_Alleles_Sel:\n",
    "    print(C)\n",
    "    S = C.split('_')\n",
    "    seq_name = S[0]+'_'+S[1]\n",
    "    if not isdir(out_path+'C_Alleles/'+C+'/'):\n",
    "        mkdir(out_path+'C_Alleles/'+C+'/')\n",
    "        o = open(out_path+'C_Alleles/'+C+'/'+C+'.fasta','w')\n",
    "        o.write('>'+seq_name+'\\n')\n",
    "        o.write(C_Alleles[C]+'\\n')\n",
    "        o.close()"
   ]
  },
  {
   "cell_type": "code",
   "execution_count": null,
   "metadata": {},
   "outputs": [],
   "source": []
  }
 ],
 "metadata": {
  "kernelspec": {
   "display_name": "Python 3",
   "language": "python",
   "name": "python3"
  },
  "language_info": {
   "codemirror_mode": {
    "name": "ipython",
    "version": 3
   },
   "file_extension": ".py",
   "mimetype": "text/x-python",
   "name": "python",
   "nbconvert_exporter": "python",
   "pygments_lexer": "ipython3",
   "version": "3.7.3"
  }
 },
 "nbformat": 4,
 "nbformat_minor": 2
}
