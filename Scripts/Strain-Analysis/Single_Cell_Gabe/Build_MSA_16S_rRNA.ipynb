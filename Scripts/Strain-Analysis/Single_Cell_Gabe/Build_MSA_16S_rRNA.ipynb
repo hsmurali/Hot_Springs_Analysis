{
 "cells": [
  {
   "cell_type": "code",
   "execution_count": 1,
   "metadata": {},
   "outputs": [],
   "source": [
    "from Utils_MSA import *\n",
    "from importlib import reload\n",
    "    \n",
    "rcParams = {'font.size': 24, 'font.weight': 'normal', 'font.family': 'sans-serif',\n",
    "            'axes.unicode_minus':False, 'axes.labelweight':'normal'}\n",
    "plt.rcParams.update(rcParams)\n",
    "\n",
    "import warnings\n",
    "warnings.filterwarnings('ignore')\n",
    "warnings.simplefilter('ignore')"
   ]
  },
  {
   "cell_type": "code",
   "execution_count": 2,
   "metadata": {},
   "outputs": [],
   "source": [
    "filedir = '/Users/harihara/Mount-2/hotspring_metagenome/single_cell_analysis_with_Gabe_Birzu/16S_Read_Alignments/'\n",
    "samples = listdir(filedir+'Alpha_Alleles/paf_files/')\n",
    "\n",
    "fdir = '/Users/harihara/Mount-2/hotspring_metagenome/single_cell_analysis_with_Gabe_Birzu/16S_Gene_Segments/'\n",
    "out = {}\n",
    "for f in ['Synechococcus_Alpha_16SrRNA','Synechococcus_Beta_16SrRNA','Synechococcus_Gamma_16SrRNA']:\n",
    "    lines = open(fdir+f+'.fna').readlines()\n",
    "    s = ''\n",
    "    for l in lines:\n",
    "        if not l.startswith('>'):\n",
    "            s += l.replace(\"\\n\",\"\")\n",
    "    out[f.replace(\"Synechococcus_\",\"\").replace(\"_16SrRNA\",\"\")] = s    "
   ]
  },
  {
   "cell_type": "code",
   "execution_count": 64,
   "metadata": {
    "scrolled": true
   },
   "outputs": [
    {
     "name": "stdout",
     "output_type": "stream",
     "text": [
      "HotsprSampleMS65_FD.paf\n",
      "421 43206\n",
      "263 42121\n",
      "2084 49871\n",
      "dict_keys(['Alpha', 'Beta', 'Gamma'])\n"
     ]
    }
   ],
   "source": [
    "start = 350\n",
    "end = 550\n",
    "MSA = {'Alpha':{'Alpha_Ref':out['Alpha'][start:end]}, 'Beta':{'Beta_Ref':out['Beta'][start:end]}, \n",
    "       'Gamma':{'Gamma_Ref':out['Gamma'][start:end]}}\n",
    "\n",
    "MSA_duplicates = {'Alpha':dict({}), 'Beta':dict({}), 'Gamma':dict({})}\n",
    "df_op = pd.DataFrame()\n",
    "retain_duplicates = False\n",
    "\n",
    "for s in samples:\n",
    "    if 'MS65' not in s:\n",
    "        continue\n",
    "    print(s)\n",
    "    \n",
    "    df_alpha = Load_PAF(filedir+'Alpha_Alleles/paf_files/'+s, s)\n",
    "    df_beta = Load_PAF(filedir+'Beta_Alleles/paf_files/'+s, s)\n",
    "    df_gamma = Load_PAF(filedir+'Gamma_Alleles/paf_files/'+s, s)\n",
    "    \n",
    "    Temp = pd.DataFrame()\n",
    "    Temp = Temp.append(df_alpha).append(df_beta).append(df_gamma)\n",
    "    df_op = df_op.append(Temp, ignore_index = True)\n",
    "    \n",
    "    D = Create_MSA(Temp, start, end, s, out)\n",
    "    print(MSA.keys())\n",
    "    if retain_duplicates == False:\n",
    "        for a in MSA.keys():\n",
    "            try:\n",
    "                MSA[a].update(D[a])\n",
    "            except KeyError:\n",
    "                print('Key Missing', a)\n",
    "    else:\n",
    "        for a in D.keys():\n",
    "            for o in D[a]:\n",
    "                if D[a][o] not in MSA_duplicates[a]:\n",
    "                    MSA[a][o] = D[a][o]\n",
    "                    MSA_duplicates[a][D[a][o]] = [o]\n",
    "                else:\n",
    "                    MSA_duplicates[a][D[a][o]].append(o)  \n",
    "            print(a, len(MSA_duplicates[a]), len(MSA[a]))\n",
    "          "
   ]
  },
  {
   "cell_type": "code",
   "execution_count": 65,
   "metadata": {},
   "outputs": [],
   "source": [
    "alpha = MSA['Alpha']['Alpha_Ref']\n",
    "beta = MSA['Beta']['Beta_Ref']\n",
    "gamma = MSA['Gamma']['Gamma_Ref']\n",
    "\n",
    "del MSA['Alpha']['Alpha_Ref'],MSA['Beta']['Beta_Ref'],MSA['Gamma']['Gamma_Ref']"
   ]
  },
  {
   "cell_type": "code",
   "execution_count": 66,
   "metadata": {},
   "outputs": [],
   "source": [
    "d_alpha_beta, tracker_alpha_beta = Edit(alpha, beta)\n",
    "Align_alpha, Align_beta = Return_Alignments(tracker_alpha_beta, alpha, beta)\n",
    "\n",
    "d_alpha_beta_gamma, tracker_alpha_beta_gamma = Edit(Align_alpha, gamma) \n",
    "Align_alpha_gamma, Align_gamma = Return_Alignments(tracker_alpha_beta_gamma, Align_alpha, gamma, '+')\n",
    "Align_beta_gamma = Merge_MSA(Align_alpha_gamma, {'Beta':Align_beta}, '+')['Beta']\n",
    "\n",
    "Alpha_backbone = Align_alpha_gamma.replace(\"+\",\"-\")\n",
    "Beta_backbone = Align_beta_gamma.replace(\"+\",\"-\")\n",
    "Gamma_backbone = Align_gamma.replace(\"+\",\"-\")\n",
    "\n",
    "assert ((len(Alpha_backbone) == len(Beta_backbone)) & \n",
    "        (len(Gamma_backbone) == len(Beta_backbone))), \"Length Mismatch\""
   ]
  },
  {
   "cell_type": "code",
   "execution_count": 67,
   "metadata": {},
   "outputs": [
    {
     "name": "stdout",
     "output_type": "stream",
     "text": [
      "1990\n"
     ]
    }
   ],
   "source": [
    "MSA_alpha = Merge_MSA(Alpha_backbone, MSA['Alpha'], '-')\n",
    "MSA_beta = Merge_MSA(Beta_backbone, MSA['Beta'], '-')\n",
    "MSA_gamma = Merge_MSA(Gamma_backbone, MSA['Gamma'], '-')\n",
    "\n",
    "MSA_All = MSA_alpha.copy()\n",
    "MSA_All.update(MSA_beta)\n",
    "MSA_All.update(MSA_gamma)\n",
    "\n",
    "MSA_All['Alpha'] = Alpha_backbone\n",
    "MSA_All['Beta'] = Beta_backbone\n",
    "MSA_All['Gamma'] = Gamma_backbone\n",
    "\n",
    "print(len(MSA_All))"
   ]
  },
  {
   "cell_type": "code",
   "execution_count": 68,
   "metadata": {},
   "outputs": [],
   "source": [
    "o = open('/Users/harihara/Mount-2/hotspring_metagenome/single_cell_analysis_with_Gabe_Birzu/\\\n",
    "16S_Read_Alignments/MSA_MS65_'+str(start)+'_'+str(end)+'.fasta','w')\n",
    "for M in MSA_All:\n",
    "    o.write(\">\"+M+\"\\n\")\n",
    "    o.write(MSA_All[M]+\"\\n\")\n",
    "o.close()"
   ]
  },
  {
   "cell_type": "code",
   "execution_count": 19,
   "metadata": {},
   "outputs": [],
   "source": [
    "o = open('/Users/harihara/Mount-2/hotspring_metagenome/single_cell_analysis_with_Gabe_Birzu/\\\n",
    "16S_Read_Alignments/MSA_'+str(start)+'_'+str(end)+'_Duplicates.dict','w')\n",
    "o.write(str(MSA_duplicates))\n",
    "o.close()"
   ]
  },
  {
   "cell_type": "code",
   "execution_count": 28,
   "metadata": {},
   "outputs": [
    {
     "data": {
      "text/plain": [
       "{'Alpha': {}, 'Beta': {}, 'Gamma': {}}"
      ]
     },
     "execution_count": 28,
     "metadata": {},
     "output_type": "execute_result"
    }
   ],
   "source": [
    "MSA_duplicates"
   ]
  },
  {
   "cell_type": "code",
   "execution_count": null,
   "metadata": {},
   "outputs": [],
   "source": []
  }
 ],
 "metadata": {
  "kernelspec": {
   "display_name": "Python 3",
   "language": "python",
   "name": "python3"
  },
  "language_info": {
   "codemirror_mode": {
    "name": "ipython",
    "version": 3
   },
   "file_extension": ".py",
   "mimetype": "text/x-python",
   "name": "python",
   "nbconvert_exporter": "python",
   "pygments_lexer": "ipython3",
   "version": "3.7.3"
  }
 },
 "nbformat": 4,
 "nbformat_minor": 2
}
