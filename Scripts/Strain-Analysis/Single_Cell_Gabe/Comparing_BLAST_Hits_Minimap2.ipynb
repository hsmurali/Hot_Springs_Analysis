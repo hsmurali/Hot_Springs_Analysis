{
 "cells": [
  {
   "cell_type": "code",
   "execution_count": 9,
   "metadata": {},
   "outputs": [],
   "source": [
    "import numpy as np\n",
    "import pandas as pd\n",
    "\n",
    "def Load_PAF(filepath, filter_thresh = 90.0):\n",
    "    lines = open(filepath).readlines()\n",
    "    header = ['Query','Qlen','QStart','QEnd','Orientation','Subject','SLen',\n",
    "              'SStart','SEnd','Matches','AlignLength','MAPQ']\n",
    "    op = []\n",
    "    for l in lines:\n",
    "        l = l.split('\\t')[:12]\n",
    "        op.append(dict(zip(header, l)))\n",
    "    df = pd.DataFrame(op)\n",
    "    df[['Qlen','QStart','QEnd','SLen','SStart',\n",
    "        'SEnd','Matches','AlignLength','MAPQ']] = df[['Qlen','QStart','QEnd','SLen','SStart',\n",
    "                                                      'SEnd','Matches','AlignLength','MAPQ']].astype('int')\n",
    "    df['PIdent'] = df['Matches']/df[['Qlen','SLen']].min(axis = 1)*100\n",
    "    df = df[df['PIdent'] >= filter_thresh]\n",
    "    df = df.loc[df.groupby(['Query'])['PIdent'].idxmax()]\n",
    "    return df"
   ]
  },
  {
   "cell_type": "code",
   "execution_count": 2,
   "metadata": {},
   "outputs": [],
   "source": [
    "blast_path = '/Users/harihara/Mount-2/Hot_Springs_Analysis/Scripts/Strain-Analysis/Single_Cell_Gabe/YSG_1331.txt'"
   ]
  },
  {
   "cell_type": "code",
   "execution_count": 27,
   "metadata": {},
   "outputs": [],
   "source": [
    "YSG_O_allele = ['Ga0374759_019_7127_10582','Ga0393479_012_24154_27609','Ga0374745_146_276_3749']"
   ]
  },
  {
   "cell_type": "code",
   "execution_count": 3,
   "metadata": {},
   "outputs": [],
   "source": [
    "df_blast = pd.read_csv(blast_path, names = ['qseqid', 'sseqid', 'pident', 'length', 'mismatch', \n",
    "                                            'gapopen', 'qstart', 'qend', 'sstart', 'send', \n",
    "                                            'evalue', 'bitscore', 'qlen', 'slen'], sep = \"\\t\")"
   ]
  },
  {
   "cell_type": "code",
   "execution_count": 51,
   "metadata": {},
   "outputs": [],
   "source": [
    "df_blast['Matches'] = df_blast['length'] - df_blast['mismatch'] - df_blast['gapopen']\n",
    "df_blast['PIdent'] = df_blast['Matches']/df_blast['qlen']*100.0\n",
    "df_blast_filter = df_blast[df_blast['PIdent'] >= 90]\n",
    "df_blast_filter = df_blast_filter.loc[df_blast_filter.groupby(['qseqid'])['PIdent'].idxmax()]"
   ]
  },
  {
   "cell_type": "code",
   "execution_count": 10,
   "metadata": {},
   "outputs": [],
   "source": [
    "paf_path = '/Users/harihara/Mount/hotspring_metagenome/single_cell_analysis_with_Gabe_Birzu/test_runs_recruitment_v2/O_cluster_test/MS65.paf'"
   ]
  },
  {
   "cell_type": "code",
   "execution_count": 37,
   "metadata": {},
   "outputs": [],
   "source": [
    "df_paf = Load_PAF(paf_path, 90.0)"
   ]
  },
  {
   "cell_type": "code",
   "execution_count": 52,
   "metadata": {},
   "outputs": [
    {
     "name": "stdout",
     "output_type": "stream",
     "text": [
      "56555\n",
      "44912\n"
     ]
    }
   ],
   "source": [
    "reads_blast = set(df_blast_filter['qseqid'].tolist())\n",
    "reads_minimap2 = set(df_paf['Query'].tolist())\n",
    "\n",
    "print(len(reads_blast))\n",
    "print(len(reads_minimap2))"
   ]
  },
  {
   "cell_type": "code",
   "execution_count": 53,
   "metadata": {},
   "outputs": [],
   "source": [
    "common = len(reads_blast&reads_minimap2)\n",
    "only_blast = len(reads_blast - reads_minimap2)\n",
    "only_minimap2 = len(reads_minimap2 - reads_blast)"
   ]
  },
  {
   "cell_type": "code",
   "execution_count": 54,
   "metadata": {},
   "outputs": [
    {
     "data": {
      "text/plain": [
       "44912"
      ]
     },
     "execution_count": 54,
     "metadata": {},
     "output_type": "execute_result"
    }
   ],
   "source": [
    "common"
   ]
  },
  {
   "cell_type": "code",
   "execution_count": 55,
   "metadata": {},
   "outputs": [
    {
     "data": {
      "text/plain": [
       "11643"
      ]
     },
     "execution_count": 55,
     "metadata": {},
     "output_type": "execute_result"
    }
   ],
   "source": [
    "only_blast"
   ]
  },
  {
   "cell_type": "code",
   "execution_count": 56,
   "metadata": {},
   "outputs": [
    {
     "data": {
      "text/plain": [
       "0"
      ]
     },
     "execution_count": 56,
     "metadata": {},
     "output_type": "execute_result"
    }
   ],
   "source": [
    "only_minimap2"
   ]
  },
  {
   "cell_type": "code",
   "execution_count": 46,
   "metadata": {},
   "outputs": [],
   "source": [
    "df_blast_O_Allele = df_blast_filter[df_blast_filter['sseqid'].isin(YSG_O_allele)]\n",
    "df_paf_O_Allele = df_paf[df_paf['Subject'].isin(YSG_O_allele)]"
   ]
  },
  {
   "cell_type": "code",
   "execution_count": 47,
   "metadata": {},
   "outputs": [
    {
     "data": {
      "text/html": [
       "<div>\n",
       "<style scoped>\n",
       "    .dataframe tbody tr th:only-of-type {\n",
       "        vertical-align: middle;\n",
       "    }\n",
       "\n",
       "    .dataframe tbody tr th {\n",
       "        vertical-align: top;\n",
       "    }\n",
       "\n",
       "    .dataframe thead th {\n",
       "        text-align: right;\n",
       "    }\n",
       "</style>\n",
       "<table border=\"1\" class=\"dataframe\">\n",
       "  <thead>\n",
       "    <tr style=\"text-align: right;\">\n",
       "      <th></th>\n",
       "      <th>Query</th>\n",
       "      <th>Qlen</th>\n",
       "      <th>QStart</th>\n",
       "      <th>QEnd</th>\n",
       "      <th>Orientation</th>\n",
       "      <th>Subject</th>\n",
       "      <th>SLen</th>\n",
       "      <th>SStart</th>\n",
       "      <th>SEnd</th>\n",
       "      <th>Matches</th>\n",
       "      <th>AlignLength</th>\n",
       "      <th>MAPQ</th>\n",
       "      <th>PIdent</th>\n",
       "    </tr>\n",
       "  </thead>\n",
       "  <tbody>\n",
       "  </tbody>\n",
       "</table>\n",
       "</div>"
      ],
      "text/plain": [
       "Empty DataFrame\n",
       "Columns: [Query, Qlen, QStart, QEnd, Orientation, Subject, SLen, SStart, SEnd, Matches, AlignLength, MAPQ, PIdent]\n",
       "Index: []"
      ]
     },
     "execution_count": 47,
     "metadata": {},
     "output_type": "execute_result"
    }
   ],
   "source": []
  },
  {
   "cell_type": "code",
   "execution_count": null,
   "metadata": {},
   "outputs": [],
   "source": []
  }
 ],
 "metadata": {
  "kernelspec": {
   "display_name": "Python 3",
   "language": "python",
   "name": "python3"
  },
  "language_info": {
   "codemirror_mode": {
    "name": "ipython",
    "version": 3
   },
   "file_extension": ".py",
   "mimetype": "text/x-python",
   "name": "python",
   "nbconvert_exporter": "python",
   "pygments_lexer": "ipython3",
   "version": "3.7.3"
  }
 },
 "nbformat": 4,
 "nbformat_minor": 2
}
