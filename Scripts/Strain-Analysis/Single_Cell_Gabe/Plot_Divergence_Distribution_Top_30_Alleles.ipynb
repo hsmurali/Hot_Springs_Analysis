{
 "cells": [
  {
   "cell_type": "code",
   "execution_count": 1,
   "metadata": {},
   "outputs": [],
   "source": [
    "import pandas as pd\n",
    "from Utils_MSA import *\n",
    "from os import listdir\n",
    "import matplotlib.pyplot as plt\n",
    "\n",
    "rcParams = {'font.size': 12 , 'font.weight': 'normal', 'font.family': 'sans-serif',\n",
    "            'axes.unicode_minus':False, 'axes.labelweight':'normal'}"
   ]
  },
  {
   "cell_type": "code",
   "execution_count": 2,
   "metadata": {},
   "outputs": [],
   "source": [
    "data_dir = '/Users/harihara/Mount-2/hotspring_metagenome/single_cell_analysis_with_Gabe_Birzu/alignments/'\n",
    "samples = listdir(data_dir)\n",
    "d = {}\n",
    "A_Alleles, B_Alleles, C_Alleles = [], [], []\n",
    "\n",
    "for l in samples:\n",
    "    seqs = Load_Fasta_Seqs(data_dir+l, MSA_Encoding=True)\n",
    "    d.update(seqs)    "
   ]
  },
  {
   "cell_type": "code",
   "execution_count": 3,
   "metadata": {},
   "outputs": [],
   "source": [
    "top_30_alleles = {'A':dict({}),'B':dict({}),'C':dict({})}\n",
    "\n",
    "top_30_alleles_dir = '/Users/harihara/Mount-2/hotspring_metagenome/single_cell_analysis_with_Gabe_Birzu/\\\n",
    "C_Allele_Relative_Abundance_Sep/BLAST_Comparison/BLAST_Hits/'\n",
    "for a in ['A','B','C']:\n",
    "    seqs = listdir(top_30_alleles_dir+a+'_Alleles')\n",
    "    for s in seqs:\n",
    "        if s.startswith(\".\"):\n",
    "            continue\n",
    "        s = s.replace(a+\"_allele1\",\"\").replace(a+\"_allele\",\"\").replace(a+\"p_allele\",\"\")\n",
    "        T = s.split('_')\n",
    "        top_30_alleles[a][T[0]+'_'+T[1]] = \"_\".join(T[3:])[:-1]"
   ]
  },
  {
   "cell_type": "code",
   "execution_count": 4,
   "metadata": {},
   "outputs": [],
   "source": [
    "d_PW = {}\n",
    "strains = ['A', 'B', 'C']\n",
    "window = 150\n",
    "for i in range(len(strains)):\n",
    "    for j in range(i+1, len(strains)):\n",
    "        dist = []\n",
    "        keys = top_30_alleles[strains[i]]\n",
    "        for k in keys:\n",
    "            S1 = d[top_30_alleles[strains[i]][k]]\n",
    "            S2 = d[top_30_alleles[strains[j]][k]]\n",
    "            for l in range(0, min(len(S1), len(S2))-window):\n",
    "                distance = Compute_Pairwise_Distances(S1[l:l+window], S2[l:l+window], normalized=False)\n",
    "                dist.append(distance)\n",
    "        d_PW[strains[i]+strains[j]]=dist"
   ]
  },
  {
   "cell_type": "code",
   "execution_count": 50,
   "metadata": {},
   "outputs": [
    {
     "data": {
      "image/png": "[encoded data removed]",
      "text/plain": [
       "<Figure size 246.96x197.568 with 1 Axes>"
      ]
     },
     "metadata": {
      "needs_background": "light"
     },
     "output_type": "display_data"
    }
   ],
   "source": [
    "outpath = '/Users/harihara/Research-Activities/Plots/Hot_Spring_Plots/Single_Cell_Analyses/'\n",
    "\n",
    "plt.rcParams.update(rcParams)\n",
    "fig, ax = plt.subplots(1,1, figsize = (3.43,0.8*3.43))\n",
    "ax.hist(d_PW['AB'], bins = 35, histtype = 'step', color = 'C0', label = r'$\\alpha-\\beta$', density = True)\n",
    "ax.hist(d_PW['AB'], bins = 35, color = 'C0', histtype = 'stepfilled',density = True, alpha = 0.1)\n",
    "\n",
    "ax.hist(d_PW['AC'], bins = 35, histtype = 'step', color = 'C1', label = r'$\\alpha-\\gamma$', density = True)\n",
    "ax.hist(d_PW['AC'], bins = 35, color = 'C1', histtype = 'stepfilled', alpha = 0.1, density = True)\n",
    "\n",
    "ax.hist(d_PW['BC'], bins = 35, histtype = 'step', color = 'C2', label = r'$\\beta-\\gamma$', density = True)\n",
    "ax.hist(d_PW['BC'], bins = 35, color = 'C2', histtype = 'stepfilled', alpha = 0.1, density = True)\n",
    "\n",
    "ax.set_xlim([0, 65])\n",
    "ax.axvspan(np.percentile(d_PW['AB']+d_PW['AC']+d_PW['BC'], 5), \n",
    "           np.percentile(d_PW['AB']+d_PW['AC']+d_PW['BC'],95), color = 'olive', alpha = 0.2)\n",
    "ax.set_xlabel('divergence between references')\n",
    "ax.set_ylabel('histogram of divergences')\n",
    "ax.legend(frameon = False)\n",
    "fig.tight_layout()\n",
    "\n",
    "fig.savefig(outpath+'Divergence-Distribution.pdf')"
   ]
  },
  {
   "cell_type": "code",
   "execution_count": null,
   "metadata": {},
   "outputs": [],
   "source": [
    "np.percentile(d_PW['AB']+d_PW['AC']+d_PW['BC'], 5)"
   ]
  },
  {
   "cell_type": "code",
   "execution_count": null,
   "metadata": {},
   "outputs": [],
   "source": [
    "np.percentile(d_PW['AB']+d_PW['AC']+d_PW['BC'], 95)"
   ]
  },
  {
   "cell_type": "code",
   "execution_count": null,
   "metadata": {},
   "outputs": [],
   "source": []
  }
 ],
 "metadata": {
  "kernelspec": {
   "display_name": "Python 3",
   "language": "python",
   "name": "python3"
  },
  "language_info": {
   "codemirror_mode": {
    "name": "ipython",
    "version": 3
   },
   "file_extension": ".py",
   "mimetype": "text/x-python",
   "name": "python",
   "nbconvert_exporter": "python",
   "pygments_lexer": "ipython3",
   "version": "3.7.3"
  }
 },
 "nbformat": 4,
 "nbformat_minor": 2
}
