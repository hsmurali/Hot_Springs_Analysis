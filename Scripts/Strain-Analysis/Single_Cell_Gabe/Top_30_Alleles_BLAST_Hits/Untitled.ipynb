{
 "cells": [
  {
   "cell_type": "code",
   "execution_count": null,
   "metadata": {},
   "outputs": [],
   "source": [
    "import numpy as np\n",
    "import pandas as pd\n",
    "\n",
    "from os import mkdir\n",
    "from Bio import SeqIO\n",
    "from os.path import isdir\n",
    "\n",
    "def Load_Fasta_Seqs(seq_path):\n",
    "    d = {}\n",
    "    fasta_sequences = SeqIO.parse(open(seq_path),'fasta')\n",
    "    for s in fasta_sequences:\n",
    "        d[s.name] = str(s.seq)\n",
    "    return d\n",
    "\n",
    "def Get_Allele_Id(Subject):\n",
    "    T = Subject.split('_')\n",
    "    try:\n",
    "        return T[0]+\"_\"+T[1]\n",
    "    except IndexError:\n",
    "        return T[0]"
   ]
  },
  {
   "cell_type": "code",
   "execution_count": null,
   "metadata": {},
   "outputs": [],
   "source": [
    "data_path = '/Users/harihara/Mount-2/hotspring_metagenome/single_cell_analysis_with_Gabe_Birzu/\\\n",
    "C_Allele_Relative_Abundance_Sep/Filtered_Alignments/Pident_80/'\n",
    "seq_path = '/Users/harihara/Mount-2/hotspring_metagenome/single_cell_analysis_with_Gabe_Birzu/\\\n",
    "C_Allele_Relative_Abundance_Aug/'\n",
    "out_path = '/Users/harihara/Mount-2/hotspring_metagenome/single_cell_analysis_with_Gabe_Birzu/\\\n",
    "C_Allele_Relative_Abundance_Sep/BLAST_Comparison_Ribosomal_Proteins/'\n",
    "\n",
    "if not isdir(out_path):\n",
    "    mkdir(out_path)\n",
    "\n",
    "if not isdir(out_path+'A_Alleles/'):    \n",
    "    mkdir(out_path+'A_Alleles/')\n",
    "if not isdir(out_path+'B_Alleles/'):    \n",
    "    mkdir(out_path+'B_Alleles/')\n",
    "if not isdir(out_path+'C_Alleles/'):    \n",
    "    mkdir(out_path+'C_Alleles/')\n",
    "    "
   ]
  },
  {
   "cell_type": "code",
   "execution_count": null,
   "metadata": {},
   "outputs": [],
   "source": [
    "df_single_cells = pd.read_csv('/Users/harihara/Research-Activities/Data/Hot-Spring/\\\n",
    "Single_Cell_Gabe/sscs_annotated_single_copy_orthogroup_presence.tsv', sep = \"\\t\")\n",
    "df_single_cells = df_single_cells.rename(columns = {'Unnamed: 0':'Gene-ID'})\n"
   ]
  },
  {
   "cell_type": "code",
   "execution_count": null,
   "metadata": {},
   "outputs": [],
   "source": [
    "Genes_of_Interest = ['dnaG','frr','pgk','rplA','rplK','rplL','rplM', 'rplS', 'rplT', \n",
    "                     'rpsB', 'rpsI', 'rpsJ', 'rpsK','rpsM', 'smpB', 'tsf']\n",
    "Genes_Sel = []\n",
    "for g in df_single_cell_summary['Gene-ID'].tolist():\n",
    "    for f in Genes_of_Interest:\n",
    "        if g.startswith(f):\n",
    "            Genes_Sel.append(g)\n",
    "            \n",
    "Ribosomal_alleles = df_single_cells[df_single_cells['Gene-ID'].isin(Genes_Sel)]['parent_og_id'].unique()"
   ]
  },
  {
   "cell_type": "code",
   "execution_count": null,
   "metadata": {},
   "outputs": [],
   "source": [
    "df_A = pd.read_excel(data_path+'A_Allele.xlsx', header = [0,1])\n",
    "df_A = df_A.fillna(0)\n",
    "df_A = df_A[1:]\n",
    "df_A['Allele'] = df_A['Sample']['Stat'].apply(Get_Allele_Id)\n",
    "df_A = df_A.set_index([('Allele','')])\n",
    "df_A['A_abundances'] = df_A.loc[:, df_A.columns.get_level_values(1)=='Avg_Depth_Coverage'].sum(axis = 1)\n",
    "\n",
    "df_B = pd.read_excel(data_path+'B_Allele.xlsx', header = [0,1])\n",
    "df_B = df_B.fillna(0)\n",
    "df_B = df_B[1:]\n",
    "df_B['Allele'] = df_B['Sample']['Stat'].apply(Get_Allele_Id)\n",
    "df_B = df_B.set_index([('Allele','')])\n",
    "df_B['B_abundances'] = df_B.loc[:, df_B.columns.get_level_values(1)=='Avg_Depth_Coverage'].sum(axis = 1)\n",
    "\n",
    "df_C = pd.read_excel(data_path+'C_Allele.xlsx', header = [0,1])\n",
    "df_C = df_C.fillna(0)\n",
    "df_C = df_C[1:]\n",
    "df_C['Allele'] = df_C['Sample']['Stat'].apply(Get_Allele_Id)\n",
    "df_C = df_C.set_index([('Allele','')])\n",
    "df_C['C_abundances'] = df_C.loc[:, df_C.columns.get_level_values(1)=='Avg_Depth_Coverage'].sum(axis = 1)\n",
    "\n",
    "df_Total = df_A[['A_abundances']].join(df_B[['B_abundances']]).join(df_C[['C_abundances']])\n",
    "df_Total = df_Total.fillna(0)\n",
    "df_Total['Total_Abundance'] = df_Total.sum(axis=1)\n",
    "df_Total = df_Total[(df_Total['A_abundances'] > 0) & \n",
    "                    (df_Total['B_abundances'] > 0) & \n",
    "                    (df_Total['C_abundances'] > 0)]\n",
    "df_Total = df_Total.sort_values(by = 'Total_Abundance', ascending = False)"
   ]
  },
  {
   "cell_type": "code",
   "execution_count": null,
   "metadata": {},
   "outputs": [],
   "source": [
    "A_Alleles_Sel = df_A.loc[Ribosomal_alleles]['Sample']['Stat'].tolist()\n",
    "B_Alleles_Sel = df_B.loc[Ribosomal_alleles]['Sample']['Stat'].tolist()\n",
    "C_Alleles_Sel = df_C.loc[Ribosomal_alleles]['Sample']['Stat'].tolist()"
   ]
  },
  {
   "cell_type": "code",
   "execution_count": null,
   "metadata": {},
   "outputs": [],
   "source": [
    "df_C.index.tolist()"
   ]
  },
  {
   "cell_type": "code",
   "execution_count": null,
   "metadata": {},
   "outputs": [],
   "source": [
    "len(df_A.index.tolist())"
   ]
  },
  {
   "cell_type": "code",
   "execution_count": null,
   "metadata": {},
   "outputs": [],
   "source": [
    "Genes_Sel"
   ]
  },
  {
   "cell_type": "code",
   "execution_count": null,
   "metadata": {},
   "outputs": [],
   "source": [
    "df_single_cells[df_single_cells['Gene-ID'].isin(Genes_Sel)]"
   ]
  },
  {
   "cell_type": "code",
   "execution_count": null,
   "metadata": {},
   "outputs": [],
   "source": []
  }
 ],
 "metadata": {
  "kernelspec": {
   "display_name": "Python 3",
   "language": "python",
   "name": "python3"
  },
  "language_info": {
   "codemirror_mode": {
    "name": "ipython",
    "version": 3
   },
   "file_extension": ".py",
   "mimetype": "text/x-python",
   "name": "python",
   "nbconvert_exporter": "python",
   "pygments_lexer": "ipython3",
   "version": "3.7.3"
  }
 },
 "nbformat": 4,
 "nbformat_minor": 2
}
