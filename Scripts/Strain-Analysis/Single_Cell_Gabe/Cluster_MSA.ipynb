{
 "cells": [
  {
   "cell_type": "code",
   "execution_count": null,
   "metadata": {},
   "outputs": [],
   "source": [
    "from Utils_16S_Analysis import *\n",
    "from Utils_MSA import *\n",
    "import re\n",
    "\n",
    "rcParams = {'font.size': 12, 'font.weight': 'normal', 'font.family': 'sans-serif',\n",
    "            'axes.unicode_minus':False, 'axes.labelweight':'normal'}\n",
    "plt.rcParams.update(rcParams)"
   ]
  },
  {
   "cell_type": "code",
   "execution_count": null,
   "metadata": {},
   "outputs": [],
   "source": [
    "MSA_Path = '/Users/harihara/Mount-2/hotspring_metagenome/single_cell_analysis_with_Gabe_Birzu/\\\n",
    "16S_Read_Alignments/'\n",
    "d_MSA = Load_Fasta_Seqs(MSA_Path+'MSA_350_550.fasta', MSA_Encoding=True)\n",
    "duplicates = eval(open(MSA_Path+'MSA_350_550_Duplicates.dict').read())"
   ]
  },
  {
   "cell_type": "code",
   "execution_count": null,
   "metadata": {
    "scrolled": true
   },
   "outputs": [],
   "source": [
    "Dist_MAT, s = Perform_Clustering(d_MSA)"
   ]
  },
  {
   "cell_type": "code",
   "execution_count": null,
   "metadata": {},
   "outputs": [],
   "source": [
    "Dist_MAT_Copy = deepcopy(Dist_MAT)\n",
    "print(len(Dist_MAT_Copy[Dist_MAT_Copy > 0.25]))\n",
    "Dist_MAT_Copy[Dist_MAT_Copy > 0.25] = 0.25\n",
    "counts = Get_Frequency(duplicates, s)"
   ]
  },
  {
   "cell_type": "code",
   "execution_count": null,
   "metadata": {
    "scrolled": false
   },
   "outputs": [],
   "source": [
    "plt.rcParams.update(rcParams)\n",
    "outpath = '/Users/harihara/Research-Activities/Plots/Hot_Spring_Plots/Single_Cell_Analyses/'\n",
    "\n",
    "fig = plt.figure(figsize=(16,0.8*16))\n",
    "axfreq = fig.add_axes([0.2,0.1,0.6, 0.15])\n",
    "axheatmap = fig.add_axes([0.2, 0.275, 0.6, 0.6])\n",
    "axcolor = fig.add_axes([0.85,0.275,0.0075,0.6])\n",
    "\n",
    "alpha = np.where(s == 'Alpha')[0]\n",
    "beta = np.where(s == 'Beta')[0]\n",
    "gamma = np.where(s == 'Gamma')[0]\n",
    "\n",
    "im = axheatmap.imshow(Dist_MAT_Copy, cmap  = 'YlOrBr',aspect='auto')\n",
    "xticks = list(alpha)+list(beta)+list(gamma)\n",
    "axfreq.plot(counts, color = 'black')\n",
    "\n",
    "for k in xticks:\n",
    "    axheatmap.axvline(k, color = 'black', linestyle = '--', linewidth = 0.75)\n",
    "    axheatmap.axhline(k, color = 'black', linestyle = '--', linewidth = 0.75)\n",
    "    axfreq.axvline(k, color = 'black', linestyle = '--',  linewidth = 0.75)\n",
    "\n",
    "axheatmap.tick_params(top=True, labeltop=True, bottom=False, labelbottom=False)\n",
    "axheatmap.set_xticks(list(range(0,6000,250))+xticks)\n",
    "axheatmap.set_xticklabels(['' for i in range(0,6000,250)]+[r'$OS\\minus A$', r'$OS\\minus B^{\\prime}$', r'$\\gamma$'], \n",
    "                          rotation = 90)\n",
    "axheatmap.set_yticks(list(range(0,6000,250))+xticks)\n",
    "axheatmap.set_yticklabels(['' for i in range(0,6000,250)] + [r'$OS\\minus A$', r'$OS\\minus B^{\\prime}$', r'$\\gamma$'])\n",
    "axheatmap.grid()\n",
    "\n",
    "axfreq.set_xticks(range(0,6000,250))\n",
    "axfreq.set_xticklabels(range(0,6000,250), rotation = 90)\n",
    "#axfreq.set_xticklabels([r'$OS\\minus A$', r'$OS\\minus B^{\\prime}$', r'$\\gamma$'])\n",
    "axfreq.set_xlim([0, len(s)])\n",
    "axfreq.set_yscale('log')\n",
    "fig.colorbar(im, cax = axcolor)\n",
    "\n",
    "#fig.tight_layout()\n",
    "#fig.savefig(outpath+'All-Samples-Heatmap-Freq-Annotated-400-600.pdf')"
   ]
  },
  {
   "cell_type": "code",
   "execution_count": null,
   "metadata": {
    "scrolled": true
   },
   "outputs": [],
   "source": [
    "S, freq = Sub_Sample(Dist_MAT_Copy, counts, 15000)\n",
    "freq = np.cumsum(freq)"
   ]
  },
  {
   "cell_type": "code",
   "execution_count": null,
   "metadata": {},
   "outputs": [],
   "source": [
    "fig = plt.figure(figsize = (3.43,3.43*0.8))\n",
    "axheatmap = fig.add_axes([0.2, 0.05, 0.63, 0.8])\n",
    "axcolor = fig.add_axes([0.84,0.05,0.0095, 0.8])\n",
    "\n",
    "xticks = list(freq[alpha])+list(freq[beta])+list(freq[gamma])\n",
    "im = axheatmap.imshow(S, cmap  = 'YlOrBr',aspect='auto')\n",
    "for k in xticks:\n",
    "    axheatmap.axvline(k, color = 'black', linestyle = (0, (5, 10)), linewidth = 0.5)\n",
    "    axheatmap.axhline(k, color = 'black', linestyle = (0, (5, 10)), linewidth = 0.5)\n",
    "\n",
    "axheatmap.tick_params(top=True, labeltop=True, bottom=False, labelbottom=False)\n",
    "axheatmap.set_xticks(xticks)\n",
    "axheatmap.set_xticklabels([r'$OS\\minus A$', r'$OS\\minus B^{\\prime}$', r'$\\gamma$'])\n",
    "axheatmap.set_yticks(xticks)\n",
    "axheatmap.set_yticklabels([r'$OS\\minus A$', r'$OS\\minus B^{\\prime}$', r'$\\gamma$'])  \n",
    "fig.colorbar(im, cax = axcolor)\n",
    "fig.subplots_adjust(left = 0.25)\n",
    "fig.savefig(outpath+'All-Samples-Heatmap-Subsampled-400-600.pdf')"
   ]
  },
  {
   "cell_type": "code",
   "execution_count": null,
   "metadata": {},
   "outputs": [],
   "source": [
    "len(Dist_MAT[Dist_MAT > 0.2])/(len(Dist_MAT)*len(Dist_MAT))*100\n",
    "alpha = np.where(s == 'Alpha')[0]\n",
    "beta = np.where(s == 'Beta')[0]\n",
    "gamma = np.where(s == 'Gamma')[0]\n",
    "\n",
    "print(alpha, beta, gamma)\n",
    "C = np.array(counts)\n",
    "threshold = 0.025"
   ]
  },
  {
   "cell_type": "code",
   "execution_count": null,
   "metadata": {},
   "outputs": [],
   "source": [
    "C_Alpha = Dist_MAT_Copy[alpha[0]]\n",
    "C[np.where(C_Alpha <= threshold)[0]].sum()/C.sum()*100"
   ]
  },
  {
   "cell_type": "code",
   "execution_count": null,
   "metadata": {},
   "outputs": [],
   "source": [
    "C_Beta = Dist_MAT_Copy[beta[0]] \n",
    "C[np.where(C_Beta <= threshold)[0]].sum()/C.sum()*100"
   ]
  },
  {
   "cell_type": "code",
   "execution_count": null,
   "metadata": {},
   "outputs": [],
   "source": [
    "C_gamma = Dist_MAT[gamma[0]] \n",
    "C[np.where(C_gamma <= threshold)].sum()/C.sum()*100"
   ]
  },
  {
   "cell_type": "code",
   "execution_count": null,
   "metadata": {},
   "outputs": [],
   "source": [
    "OSA_Cloud = np.random.randint(0,1750,50)\n",
    "Gamma_Cloud = np.random.randint(1800, 2100, 50)\n",
    "OSB_Cloud = np.random.randint(2250, 3750, 50)\n",
    "Mystery_Cloud = np.random.randint(4000, len(counts),50)\n"
   ]
  },
  {
   "cell_type": "code",
   "execution_count": null,
   "metadata": {},
   "outputs": [],
   "source": [
    "reads = Load_Fasta_Seqs(MSA_Path+'MSA_350_550.fasta', MSA_Encoding=False)"
   ]
  },
  {
   "cell_type": "code",
   "execution_count": null,
   "metadata": {},
   "outputs": [],
   "source": [
    "o = open('/Users/harihara/Downloads/Sample_Sequences.fa','w')\n",
    "for i in range(0, len(OSA_Cloud)):\n",
    "    seq_name = 'OSA_Cloud_'+str(i)\n",
    "    seq = reads[s[OSA_Cloud[i]]].lstrip(\"-\").rstrip(\"-\")\n",
    "    o.write('>'+seq_name+'\\n')\n",
    "    o.write(seq+'\\n')"
   ]
  },
  {
   "cell_type": "code",
   "execution_count": null,
   "metadata": {},
   "outputs": [],
   "source": [
    "for i in range(0, len(OSB_Cloud)):\n",
    "    seq_name = 'OSB_Cloud_'+str(i)\n",
    "    seq = reads[s[OSB_Cloud[i]]].lstrip(\"-\").rstrip(\"-\")\n",
    "    o.write('>'+seq_name+'\\n')\n",
    "    o.write(seq+'\\n')"
   ]
  },
  {
   "cell_type": "code",
   "execution_count": null,
   "metadata": {},
   "outputs": [],
   "source": [
    "for i in range(0, len(Gamma_Cloud)):\n",
    "    seq_name = 'Gamma_Cloud_'+str(i)\n",
    "    seq = reads[s[Gamma_Cloud[i]]].lstrip(\"-\").rstrip(\"-\")\n",
    "    o.write('>'+seq_name+'\\n')\n",
    "    o.write(seq+'\\n')"
   ]
  },
  {
   "cell_type": "code",
   "execution_count": null,
   "metadata": {},
   "outputs": [],
   "source": [
    "for i in range(0, len(Mystery_Cloud)):\n",
    "    seq_name = 'Mystery_Cloud_'+str(i)\n",
    "    seq = reads[s[Mystery_Cloud[i]]].lstrip(\"-\").rstrip(\"-\")\n",
    "    o.write('>'+seq_name+'\\n')\n",
    "    o.write(seq+'\\n')"
   ]
  },
  {
   "cell_type": "code",
   "execution_count": null,
   "metadata": {},
   "outputs": [],
   "source": [
    "o.close()"
   ]
  },
  {
   "cell_type": "code",
   "execution_count": null,
   "metadata": {},
   "outputs": [],
   "source": []
  }
 ],
 "metadata": {
  "kernelspec": {
   "display_name": "Python 3",
   "language": "python",
   "name": "python3"
  },
  "language_info": {
   "codemirror_mode": {
    "name": "ipython",
    "version": 3
   },
   "file_extension": ".py",
   "mimetype": "text/x-python",
   "name": "python",
   "nbconvert_exporter": "python",
   "pygments_lexer": "ipython3",
   "version": "3.7.3"
  }
 },
 "nbformat": 4,
 "nbformat_minor": 2
}
