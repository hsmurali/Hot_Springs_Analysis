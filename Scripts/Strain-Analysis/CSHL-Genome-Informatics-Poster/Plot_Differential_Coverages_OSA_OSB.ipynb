{
 "cells": [
  {
   "cell_type": "code",
   "execution_count": 1,
   "metadata": {},
   "outputs": [],
   "source": [
    "from Utils_Differential_Read_Mapping import *\n",
    "import matplotlib.pyplot as plt\n",
    "from matplotlib.backends.backend_pdf import PdfPages\n",
    "rcParams = {'font.size': 16 , 'font.weight': 'normal', 'font.family': 'sans-serif',\n",
    "            'axes.unicode_minus':False, 'axes.labelweight':'normal'}\n",
    "plt.rcParams.update(rcParams)\n",
    "\n",
    "def Plot_Box_Plots(boxes, positions, color, ax):\n",
    "    flierprops = dict(marker='x', markersize=1, linestyle='none')\n",
    "    whiskerprops = dict(color='black',linewidth=1.5)\n",
    "    capprops = dict(color='black', linewidth=1.5)\n",
    "    medianprops = dict(linewidth=1.5, linestyle='-', color='black')\n",
    "    box = ax.boxplot(boxes, positions=positions, whis = [0.5,99.5], widths = [0.45],showfliers = True, \n",
    "                     boxprops = dict(linestyle='-', linewidth=3.5, color=color), \n",
    "                     flierprops = flierprops, whiskerprops = whiskerprops, capprops = capprops, \n",
    "                     medianprops = medianprops)\n",
    "        \n",
    "    #for i in range(0, len(positions)):\n",
    "    #    y = boxes[i]\n",
    "    #    x = np.random.normal(positions[i], 0.035, size=len(y))\n",
    "    #    ax.scatter(x,y,color = color,alpha = 0.01, marker = 'o')"
   ]
  },
  {
   "cell_type": "code",
   "execution_count": 2,
   "metadata": {
    "scrolled": true
   },
   "outputs": [
    {
     "name": "stdout",
     "output_type": "stream",
     "text": [
      "2021-09-14 12:53:58.930235\n",
      "Parsed OSA \t 2021-09-14 12:54:44.230067\n",
      "Parsed OSB \t 2021-09-14 12:56:56.318864\n",
      "10130972\n",
      "Orphaned Reads in both\t\t 166923\n",
      "Orphaned Reads in only OSA \t 1102504\n",
      "Orphaned Reads in only OSB \t 44218\n",
      "Mispaired reads in both\t\t 55285\n",
      "Mispaired reads in only OSA \t 95781\n",
      "Mispaired reads in only OSB \t 76511\n",
      "Same Fragment Size\t\t 1081407\n",
      "Different Fragment Size\t\t 368345\n",
      "Partially Aligned in Both \t 3441\n",
      "Partially Aligned in Only OSA \t 38\n",
      "Partially Aligned in Only OSB \t 18\n",
      "Calculated Differential Coverages  2021-09-14 12:59:09.610321\n"
     ]
    }
   ],
   "source": [
    "ms50_coverage, ms50_summary = Calculate_Differential_Coverages('MS50')"
   ]
  },
  {
   "cell_type": "code",
   "execution_count": 3,
   "metadata": {},
   "outputs": [
    {
     "name": "stdout",
     "output_type": "stream",
     "text": [
      "2021-09-14 12:59:16.542075\n",
      "Parsed OSA \t 2021-09-14 12:59:41.491407\n",
      "Parsed OSB \t 2021-09-14 13:00:58.724113\n",
      "7417555\n",
      "Orphaned Reads in both\t\t 122159\n",
      "Orphaned Reads in only OSA \t 759055\n",
      "Orphaned Reads in only OSB \t 95654\n",
      "Mispaired reads in both\t\t 40194\n",
      "Mispaired reads in only OSA \t 65115\n",
      "Mispaired reads in only OSB \t 56097\n",
      "Same Fragment Size\t\t 764868\n",
      "Different Fragment Size\t\t 264747\n",
      "Partially Aligned in Both \t 1871\n",
      "Partially Aligned in Only OSA \t 9\n",
      "Partially Aligned in Only OSB \t 12\n",
      "Calculated Differential Coverages  2021-09-14 13:02:21.269973\n"
     ]
    }
   ],
   "source": [
    "ms55_coverage, ms55_summary = Calculate_Differential_Coverages('MS55')"
   ]
  },
  {
   "cell_type": "code",
   "execution_count": 4,
   "metadata": {},
   "outputs": [
    {
     "name": "stdout",
     "output_type": "stream",
     "text": [
      "2021-09-14 13:02:24.657491\n",
      "Parsed OSA \t 2021-09-14 13:03:57.657868\n",
      "Parsed OSB \t 2021-09-14 13:05:05.993031\n",
      "11387822\n",
      "Orphaned Reads in both\t\t 149366\n",
      "Orphaned Reads in only OSA \t 523072\n",
      "Orphaned Reads in only OSB \t 755687\n",
      "Mispaired reads in both\t\t 53063\n",
      "Mispaired reads in only OSA \t 77214\n",
      "Mispaired reads in only OSB \t 87660\n",
      "Same Fragment Size\t\t 1124598\n",
      "Different Fragment Size\t\t 341370\n",
      "Partially Aligned in Both \t 2658\n",
      "Partially Aligned in Only OSA \t 15\n",
      "Partially Aligned in Only OSB \t 17\n",
      "Calculated Differential Coverages  2021-09-14 13:07:12.619415\n"
     ]
    }
   ],
   "source": [
    "ms60_coverage, ms60_summary = Calculate_Differential_Coverages('MS60')"
   ]
  },
  {
   "cell_type": "code",
   "execution_count": 5,
   "metadata": {},
   "outputs": [
    {
     "name": "stdout",
     "output_type": "stream",
     "text": [
      "2021-09-14 13:07:20.206618\n",
      "Parsed OSA \t 2021-09-14 13:11:14.778782\n",
      "Parsed OSB \t 2021-09-14 13:12:06.602834\n",
      "20549396\n",
      "Orphaned Reads in both\t\t 283891\n",
      "Orphaned Reads in only OSA \t 155675\n",
      "Orphaned Reads in only OSB \t 2108492\n",
      "Mispaired reads in both\t\t 77355\n",
      "Mispaired reads in only OSA \t 95483\n",
      "Mispaired reads in only OSB \t 150593\n",
      "Same Fragment Size\t\t 1883045\n",
      "Different Fragment Size\t\t 495282\n",
      "Partially Aligned in Both \t 2745\n",
      "Partially Aligned in Only OSA \t 50\n",
      "Partially Aligned in Only OSB \t 38\n",
      "Calculated Differential Coverages  2021-09-14 13:16:28.099074\n"
     ]
    }
   ],
   "source": [
    "ms65_coverage, ms65_summary = Calculate_Differential_Coverages('MS65')"
   ]
  },
  {
   "cell_type": "code",
   "execution_count": 6,
   "metadata": {},
   "outputs": [],
   "source": [
    "df_summary = pd.DataFrame([ms50_summary, ms55_summary, ms60_summary, ms65_summary])\n",
    "df_summary = df_summary.set_index('Sample')"
   ]
  },
  {
   "cell_type": "code",
   "execution_count": 7,
   "metadata": {},
   "outputs": [],
   "source": [
    "plt.rcParams.update(rcParams)\n",
    "#plots_path = \"../../Plots/Hot_Spring_Plots/Differential_Coverage_Analysis/Differential-Coverage-Analysis-Normalized-2.pdf\"\n",
    "#pdf = PdfPages(plots_path)"
   ]
  },
  {
   "cell_type": "code",
   "execution_count": 8,
   "metadata": {},
   "outputs": [],
   "source": [
    "fig,ax = plt.subplots(2,2,figsize= (16,10))\n",
    "df_summary.filter(regex = 'Orphaned').plot(kind = 'bar', ax = ax[0][0])\n",
    "ax[0][0].set_yscale('log')\n",
    "ax[0][0].set_xticks([])\n",
    "ax[0][0].set_xlabel('')\n",
    "ax[0][0].legend(['Both','Only OSA','Only OSB'])\n",
    "ax[0][0].set_title('Orphaned Read Counts')\n",
    "df_summary.filter(regex = 'Mispaired').plot(kind = 'bar', ax = ax[0][1])\n",
    "ax[0][1].set_yscale('log')\n",
    "ax[0][1].set_xticks([])\n",
    "ax[0][1].set_xlabel('')\n",
    "ax[0][1].legend(['Both','Only OSA','Only OSB'])\n",
    "ax[0][1].set_title('Mispaired Read Counts')\n",
    "df_summary.filter(regex = 'Partially').plot(kind = 'bar', ax = ax[1][0])\n",
    "ax[1][0].set_yscale('log')\n",
    "ax[1][0].set_xlabel('')\n",
    "ax[1][0].legend(['Both','Only OSA','Only OSB'])\n",
    "ax[1][0].set_title('Partially Aligned Read Counts')\n",
    "df_summary.filter(regex = '_Fragment_').plot(kind = 'bar', ax = ax[1][1])\n",
    "ax[1][1].set_yscale('log')\n",
    "ax[1][1].set_xlabel('')\n",
    "ax[1][1].legend(['Same','Different'])\n",
    "ax[1][1].set_title('Fragment Sizes')\n",
    "fig.tight_layout()\n",
    "pdf.savefig(fig)\n",
    "\n",
    "plt.close('all')"
   ]
  },
  {
   "cell_type": "code",
   "execution_count": 9,
   "metadata": {},
   "outputs": [],
   "source": [
    "fig, ax = plt.subplots(1,3,figsize= (16,10))\n",
    "Plot_Box_Plots([ms50_coverage['Fragment']['OSA']['Same_Dist']],[1], 'red', ax[0])\n",
    "Plot_Box_Plots([ms55_coverage['Fragment']['OSA']['Same_Dist']],[2], 'blue', ax[0])\n",
    "Plot_Box_Plots([ms60_coverage['Fragment']['OSA']['Same_Dist']],[3], 'green', ax[0])\n",
    "Plot_Box_Plots([ms65_coverage['Fragment']['OSA']['Same_Dist']],[4], 'grey', ax[0])\n",
    "ax[0].set_xlim([0,5])\n",
    "#ax[0].set_ylim([0,6000])\n",
    "ax[0].set_xticks([1,2,3,4])\n",
    "ax[0].set_xticklabels(['MS50','MS55','MS60','MS65'])\n",
    "ax[0].set_title('Fragment Size Distribution of \\nRead Pairs with the Same Size \\nbetween OSA and OSB')\n",
    "ax[0].set_yscale('log')\n",
    "\n",
    "Plot_Box_Plots([ms50_coverage['Fragment']['OSA']['Diff_Dist']],[1], 'red', ax[1])\n",
    "Plot_Box_Plots([ms55_coverage['Fragment']['OSA']['Diff_Dist']],[2], 'blue', ax[1])\n",
    "Plot_Box_Plots([ms60_coverage['Fragment']['OSA']['Diff_Dist']],[3], 'green', ax[1])\n",
    "Plot_Box_Plots([ms65_coverage['Fragment']['OSA']['Diff_Dist']],[4], 'grey', ax[1])\n",
    "ax[1].set_xlim([0,5])\n",
    "ax[1].set_xticks([1,2,3,4])\n",
    "ax[1].set_xticklabels(['MS50','MS55','MS60','MS65'])\n",
    "ax[1].set_title('Fragment Size Distribution of \\nRead Pairs in OSA with a Different \\nSize between OSA and OSB')\n",
    "ax[1].set_yscale('log')\n",
    "\n",
    "Plot_Box_Plots([ms50_coverage['Fragment']['OSB']['Diff_Dist']],[1], 'red', ax[2])\n",
    "Plot_Box_Plots([ms55_coverage['Fragment']['OSB']['Diff_Dist']],[2], 'blue', ax[2])\n",
    "Plot_Box_Plots([ms60_coverage['Fragment']['OSB']['Diff_Dist']],[3], 'green', ax[2])\n",
    "Plot_Box_Plots([ms65_coverage['Fragment']['OSB']['Diff_Dist']],[4], 'grey', ax[2])\n",
    "ax[2].set_xlim([0,5])\n",
    "ax[2].set_xticks([1,2,3,4])\n",
    "ax[2].set_xticklabels(['MS50','MS55','MS60','MS65'])\n",
    "ax[2].set_title('Fragment Size Distribution of \\nRead Pairs in OSB with a Different \\nSize between OSA and OSB')\n",
    "ax[2].set_yscale('log')\n",
    "\n",
    "fig.tight_layout()\n",
    "\n",
    "pdf.savefig(fig)\n",
    "\n",
    "plt.close('all')"
   ]
  },
  {
   "cell_type": "code",
   "execution_count": 10,
   "metadata": {},
   "outputs": [],
   "source": [
    "fig, ax = plt.subplots(2,1,figsize= (16,5))\n",
    "ax[0].set_title('Normalized Coverage Due to Differentially Orphaned reads in OSA - Genome')\n",
    "ax[0].plot(ms50_coverage['Orphaned']['OSA']['Only'], color = 'red', label = 'MS50')\n",
    "ax[0].legend()\n",
    "ax[1].set_title('Normalized Coverage in OSA Due to Orphaned reads in both OSA and OSB - Genome')\n",
    "ax[1].plot(ms50_coverage['Orphaned']['OSA']['Both'], color = 'red', label = 'MS50')\n",
    "ax[1].legend()\n",
    "fig.tight_layout()\n",
    "pdf.savefig(fig)\n",
    "\n",
    "fig, ax = plt.subplots(2,1,figsize= (16,5))\n",
    "ax[0].set_title('Normalized Coverage Due to Differentially Orphaned reads in OSA - Genome')\n",
    "ax[0].plot(ms55_coverage['Orphaned']['OSA']['Only'], color = 'blue', label = 'MS55')\n",
    "ax[0].legend()\n",
    "ax[1].set_title('Normalized Coverage in OSA Due to Orphaned reads in both OSA and OSB - Genome')\n",
    "ax[1].plot(ms55_coverage['Orphaned']['OSA']['Both'], color = 'blue', label = 'MS55')\n",
    "ax[1].legend()\n",
    "fig.tight_layout()\n",
    "pdf.savefig(fig)\n",
    "\n",
    "fig, ax = plt.subplots(2,1,figsize= (16,5))\n",
    "ax[0].set_title('Normalized Coverage Due to Differentially Orphaned reads in OSA - Genome')\n",
    "ax[0].plot(ms60_coverage['Orphaned']['OSA']['Only'], color = 'green', label = 'MS60')\n",
    "ax[0].legend()\n",
    "ax[1].set_title('Normalized Coverage in OSA Due to Orphaned reads in both OSA and OSB - Genome')\n",
    "ax[1].plot(ms60_coverage['Orphaned']['OSA']['Both'], color = 'green', label = 'MS60')\n",
    "ax[1].legend()\n",
    "fig.tight_layout()\n",
    "pdf.savefig(fig)\n",
    "\n",
    "fig, ax = plt.subplots(2,1,figsize= (16,5))\n",
    "ax[0].set_title('Normalized Coverage Due to Differentially Orphaned reads in OSA - Genome')\n",
    "ax[0].plot(ms65_coverage['Orphaned']['OSA']['Only'], color = 'orange', label = 'MS65')\n",
    "ax[0].legend()\n",
    "ax[1].set_title('Normalized Coverage in OSA Due to Orphaned reads in both OSA and OSB - Genome')\n",
    "ax[1].plot(ms65_coverage['Orphaned']['OSA']['Both'], color = 'orange', label = 'MS65')\n",
    "ax[1].legend()\n",
    "fig.tight_layout()\n",
    "pdf.savefig(fig)\n",
    "\n",
    "plt.close('all')"
   ]
  },
  {
   "cell_type": "code",
   "execution_count": 11,
   "metadata": {},
   "outputs": [],
   "source": [
    "fig, ax = plt.subplots(2,1,figsize= (16,5))\n",
    "ax[0].set_title('Normalized Coverage Due to Differentially Orphaned reads in OSB - Genome')\n",
    "ax[0].plot(ms50_coverage['Orphaned']['OSB']['Only'], color = 'red', label = 'MS50')\n",
    "ax[0].legend()\n",
    "ax[1].set_title('Normalized Coverage in OSB Due to Orphaned reads in both OSA and OSB - Genome')\n",
    "ax[1].plot(ms50_coverage['Orphaned']['OSB']['Both'], color = 'red', label = 'MS50')\n",
    "ax[1].legend()\n",
    "fig.tight_layout()\n",
    "pdf.savefig(fig)\n",
    "\n",
    "fig, ax = plt.subplots(2,1,figsize= (16,5))\n",
    "ax[0].set_title('Normalized Coverage Due to Differentially Orphaned reads in OSB - Genome')\n",
    "ax[0].plot(ms55_coverage['Orphaned']['OSB']['Only'], color = 'blue', label = 'MS55')\n",
    "ax[0].legend()\n",
    "ax[1].set_title('Normalized Coverage in OSB Due to Orphaned reads in both OSA and OSB - Genome')\n",
    "ax[1].plot(ms55_coverage['Orphaned']['OSB']['Both'], color = 'blue', label = 'MS55')\n",
    "ax[1].legend()\n",
    "fig.tight_layout()\n",
    "pdf.savefig(fig)\n",
    "\n",
    "fig, ax = plt.subplots(2,1,figsize= (16,5))\n",
    "ax[0].set_title('Normalized Coverage Due to Differentially Orphaned reads in OSB - Genome')\n",
    "ax[0].plot(ms60_coverage['Orphaned']['OSB']['Only'], color = 'green', label = 'MS60')\n",
    "ax[0].legend()\n",
    "ax[1].set_title('Normalized Coverage in OSB Due to Orphaned reads in both OSA and OSB - Genome')\n",
    "ax[1].plot(ms60_coverage['Orphaned']['OSB']['Both'], color = 'green', label = 'MS60')\n",
    "ax[1].legend()\n",
    "fig.tight_layout()\n",
    "pdf.savefig(fig)\n",
    "\n",
    "fig, ax = plt.subplots(2,1,figsize= (16,5))\n",
    "ax[0].set_title('Normalized Coverage Due to Differentially Orphaned reads in OSB - Genome')\n",
    "ax[0].plot(ms65_coverage['Orphaned']['OSB']['Only'], color = 'orange', label = 'MS65')\n",
    "ax[0].legend()\n",
    "ax[1].set_title('Normalized Coverage in OSB Due to Orphaned reads in both OSA and OSB - Genome')\n",
    "ax[1].plot(ms65_coverage['Orphaned']['OSB']['Both'], color = 'orange', label = 'MS65')\n",
    "ax[1].legend()\n",
    "fig.tight_layout()\n",
    "pdf.savefig(fig)\n",
    "\n",
    "plt.close('all')"
   ]
  },
  {
   "cell_type": "code",
   "execution_count": 12,
   "metadata": {},
   "outputs": [],
   "source": [
    "fig, ax = plt.subplots(2,1,figsize= (16,5))\n",
    "ax[0].set_title('Normalized Coverage Due to Differentially Mispaired reads in OSA - Genome')\n",
    "ax[0].plot(ms50_coverage['Mispaired']['OSA']['Only'], color = 'red', label = 'MS50')\n",
    "ax[0].legend()\n",
    "ax[1].set_title('Normalized Coverage in OSA Due to Mispaired reads in both OSA and OSB - Genome')\n",
    "ax[1].plot(ms50_coverage['Mispaired']['OSA']['Both'], color = 'red', label = 'MS50')\n",
    "ax[1].legend()\n",
    "fig.tight_layout()\n",
    "pdf.savefig(fig)\n",
    "\n",
    "fig, ax = plt.subplots(2,1,figsize= (16,5))\n",
    "ax[0].set_title('Normalized Coverage Due to Differentially Mispaired reads in OSA - Genome')\n",
    "ax[0].plot(ms55_coverage['Mispaired']['OSA']['Only'], color = 'blue', label = 'MS55')\n",
    "ax[0].legend()\n",
    "ax[1].set_title('Normalized Coverage in OSA Due to Mispaired reads in both OSA and OSB - Genome')\n",
    "ax[1].plot(ms55_coverage['Mispaired']['OSA']['Both'], color = 'blue', label = 'MS55')\n",
    "ax[1].legend()\n",
    "fig.tight_layout()\n",
    "pdf.savefig(fig)\n",
    "\n",
    "fig, ax = plt.subplots(2,1,figsize= (16,5))\n",
    "ax[0].set_title('Normalized Coverage Due to Differentially Mispaired reads in OSA - Genome')\n",
    "ax[0].plot(ms60_coverage['Mispaired']['OSA']['Only'], color = 'green', label = 'MS60')\n",
    "ax[0].legend()\n",
    "ax[1].set_title('Normalized Coverage in OSA Due to Mispaired reads in both OSA and OSB - Genome')\n",
    "ax[1].plot(ms60_coverage['Mispaired']['OSA']['Both'], color = 'green', label = 'MS60')\n",
    "ax[1].legend()\n",
    "fig.tight_layout()\n",
    "pdf.savefig(fig)\n",
    "\n",
    "fig, ax = plt.subplots(2,1,figsize= (16,5))\n",
    "ax[0].set_title('Normalized Coverage Due to Differentially Mispaired reads in OSA - Genome')\n",
    "ax[0].plot(ms65_coverage['Mispaired']['OSA']['Only'], color = 'orange', label = 'MS65')\n",
    "ax[0].legend()\n",
    "ax[1].set_title('Normalized Coverage in OSA Due to Mispaired reads in both OSA and OSB - Genome')\n",
    "ax[1].plot(ms65_coverage['Mispaired']['OSA']['Both'], color = 'orange', label = 'MS65')\n",
    "ax[1].legend()\n",
    "fig.tight_layout()\n",
    "pdf.savefig(fig)\n",
    "\n",
    "plt.close('all')"
   ]
  },
  {
   "cell_type": "code",
   "execution_count": 13,
   "metadata": {},
   "outputs": [],
   "source": [
    "fig, ax = plt.subplots(2,1,figsize= (16,5))\n",
    "ax[0].set_title('Normalized Coverage Due to Differentially Mispaired reads in OSB - Genome')\n",
    "ax[0].plot(ms50_coverage['Mispaired']['OSB']['Only'], color = 'red', label = 'MS50')\n",
    "ax[0].legend()\n",
    "ax[1].set_title('Normalized Coverage in OSB Due to Mispaired reads in both OSA and OSB - Genome')\n",
    "ax[1].plot(ms50_coverage['Mispaired']['OSB']['Both'], color = 'red', label = 'MS50')\n",
    "ax[1].legend()\n",
    "fig.tight_layout()\n",
    "pdf.savefig(fig)\n",
    "\n",
    "fig, ax = plt.subplots(2,1,figsize= (16,5))\n",
    "ax[0].set_title('Normalized Coverage Due to Differentially Mispaired reads in OSB - Genome')\n",
    "ax[0].plot(ms55_coverage['Mispaired']['OSB']['Only'], color = 'blue', label = 'MS55')\n",
    "ax[0].legend()\n",
    "ax[1].set_title('Normalized Coverage in OSB Due to Mispaired reads in both OSA and OSB - Genome')\n",
    "ax[1].plot(ms55_coverage['Mispaired']['OSB']['Both'], color = 'blue', label = 'MS55')\n",
    "ax[1].legend()\n",
    "fig.tight_layout()\n",
    "pdf.savefig(fig)\n",
    "\n",
    "fig, ax = plt.subplots(2,1,figsize= (16,5))\n",
    "ax[0].set_title('Normalized Coverage Due to Differentially Mispaired reads in OSB - Genome')\n",
    "ax[0].plot(ms60_coverage['Mispaired']['OSB']['Only'], color = 'green', label = 'MS60')\n",
    "ax[0].legend()\n",
    "ax[0].set_ylim([0,3.5])\n",
    "ax[1].set_title('Normalized Coverage in OSB Due to Mispaired reads in both OSA and OSB - Genome')\n",
    "ax[1].plot(ms60_coverage['Mispaired']['OSB']['Both'], color = 'green', label = 'MS60')\n",
    "ax[1].legend()\n",
    "ax[1].set_ylim([0,3.5])\n",
    "fig.tight_layout()\n",
    "pdf.savefig(fig)\n",
    "\n",
    "fig, ax = plt.subplots(2,1,figsize= (16,5))\n",
    "ax[0].set_title('Normalized Coverage Due to Differentially Mispaired reads in OSB - Genome')\n",
    "ax[0].plot(ms65_coverage['Mispaired']['OSB']['Only'], color = 'orange', label = 'MS65')\n",
    "ax[0].set_ylim([0,3.5])\n",
    "ax[0].legend()\n",
    "ax[1].set_title('Normalized Coverage in OSB Due to Mispaired reads in both OSA and OSB - Genome')\n",
    "ax[1].plot(ms65_coverage['Mispaired']['OSB']['Both'], color = 'orange', label = 'MS65')\n",
    "ax[1].legend()\n",
    "ax[1].set_ylim([0,3.5])\n",
    "fig.tight_layout()\n",
    "pdf.savefig(fig)\n",
    "\n",
    "plt.close('all')"
   ]
  },
  {
   "cell_type": "code",
   "execution_count": 14,
   "metadata": {},
   "outputs": [],
   "source": [
    "fig, ax = plt.subplots(2,1,figsize= (16,5))\n",
    "ax[0].set_title('Normalized Coverage Due to Differentially Partially Aligned reads in OSA - Genome')\n",
    "ax[0].plot(ms50_coverage['Misaligned']['OSA']['Only'], color = 'red', label = 'MS50')\n",
    "ax[0].legend()\n",
    "ax[1].set_title('Normalized Coverage in OSA Due to Partially Aligned reads in both OSA and OSB - Genome')\n",
    "ax[1].plot(ms50_coverage['Misaligned']['OSA']['Both'], color = 'red', label = 'MS50')\n",
    "ax[1].legend()\n",
    "fig.tight_layout()\n",
    "pdf.savefig(fig)\n",
    "\n",
    "fig, ax = plt.subplots(2,1,figsize= (16,5))\n",
    "ax[0].set_title('Normalized Coverage Due to Differentially Partially Aligned reads in OSA - Genome')\n",
    "ax[0].plot(ms55_coverage['Misaligned']['OSA']['Only'], color = 'blue', label = 'MS55')\n",
    "ax[0].legend()\n",
    "ax[1].set_title('Normalized Coverage in OSA Due to Partially Aligned reads in both OSA and OSB - Genome')\n",
    "ax[1].plot(ms55_coverage['Misaligned']['OSA']['Both'], color = 'blue', label = 'MS55')\n",
    "ax[1].legend()\n",
    "fig.tight_layout()\n",
    "pdf.savefig(fig)\n",
    "\n",
    "fig, ax = plt.subplots(2,1,figsize= (16,5))\n",
    "ax[0].set_title('Normalized Coverage Due to Differentially Partially Aligned reads in OSA - Genome')\n",
    "ax[0].plot(ms60_coverage['Misaligned']['OSA']['Only'], color = 'green', label = 'MS60')\n",
    "ax[0].legend()\n",
    "ax[1].set_title('Normalized Coverage in OSA Due to Partially Aligned reads in both OSA and OSB - Genome')\n",
    "ax[1].plot(ms60_coverage['Misaligned']['OSA']['Both'], color = 'green', label = 'MS60')\n",
    "ax[1].legend()\n",
    "fig.tight_layout()\n",
    "pdf.savefig(fig)\n",
    "\n",
    "fig, ax = plt.subplots(2,1,figsize= (16,5))\n",
    "ax[0].set_title('Normalized Coverage Due to Differentially Partially Aligned reads in OSA - Genome')\n",
    "ax[0].plot(ms65_coverage['Misaligned']['OSA']['Only'], color = 'orange', label = 'MS65')\n",
    "ax[0].legend()\n",
    "ax[1].set_title('Normalized Coverage in OSA Due to Partially Aligned reads in both OSA and OSB - Genome')\n",
    "ax[1].plot(ms65_coverage['Misaligned']['OSA']['Both'], color = 'orange', label = 'MS65')\n",
    "ax[1].legend()\n",
    "fig.tight_layout()\n",
    "pdf.savefig(fig)\n",
    "\n",
    "plt.close('all')"
   ]
  },
  {
   "cell_type": "code",
   "execution_count": 15,
   "metadata": {},
   "outputs": [],
   "source": [
    "fig, ax = plt.subplots(2,1,figsize= (16,5))\n",
    "ax[0].set_title('Normalized Coverage Due to Differentially Partially Aligned reads in OSB - Genome')\n",
    "ax[0].plot(ms50_coverage['Misaligned']['OSB']['Only'], color = 'red', label = 'MS50')\n",
    "ax[0].legend()\n",
    "ax[1].set_title('Normalized Coverage in OSB Due to Partially Aligned reads in both OSA and OSB - Genome')\n",
    "ax[1].plot(ms50_coverage['Misaligned']['OSB']['Both'], color = 'red', label = 'MS50')\n",
    "ax[1].legend()\n",
    "fig.tight_layout()\n",
    "pdf.savefig(fig)\n",
    "\n",
    "fig, ax = plt.subplots(2,1,figsize= (16,5))\n",
    "ax[0].set_title('Normalized Coverage Due to Differentially Partially Aligned reads in OSB - Genome')\n",
    "ax[0].plot(ms55_coverage['Misaligned']['OSB']['Only'], color = 'blue', label = 'MS55')\n",
    "ax[0].legend()\n",
    "ax[1].set_title('Normalized Coverage in OSB Due to Partially Aligned reads in both OSA and OSB - Genome')\n",
    "ax[1].plot(ms55_coverage['Misaligned']['OSB']['Both'], color = 'blue', label = 'MS55')\n",
    "ax[1].legend()\n",
    "fig.tight_layout()\n",
    "pdf.savefig(fig)\n",
    "\n",
    "fig, ax = plt.subplots(2,1,figsize= (16,5))\n",
    "ax[0].set_title('Normalized Coverage Due to Differentially Partially Aligned reads in OSB - Genome')\n",
    "ax[0].plot(ms60_coverage['Misaligned']['OSB']['Only'], color = 'green', label = 'MS60')\n",
    "ax[0].legend()\n",
    "ax[1].set_title('Normalized Coverage in OSB Due to Partially Aligned reads in both OSA and OSB - Genome')\n",
    "ax[1].plot(ms60_coverage['Misaligned']['OSB']['Both'], color = 'green', label = 'MS60')\n",
    "ax[1].legend()\n",
    "fig.tight_layout()\n",
    "pdf.savefig(fig)\n",
    "\n",
    "fig, ax = plt.subplots(2,1,figsize= (16,5))\n",
    "ax[0].set_title('Normalized Coverage Due to Differentially Partially Aligned reads in OSB - Genome')\n",
    "ax[0].plot(ms65_coverage['Misaligned']['OSB']['Only'], color = 'orange', label = 'MS65')\n",
    "ax[0].legend()\n",
    "ax[1].set_title('Normalized Coverage in OSB Due to Partially Aligned reads in both OSA and OSB - Genome')\n",
    "ax[1].plot(ms65_coverage['Misaligned']['OSB']['Both'], color = 'orange', label = 'MS65')\n",
    "ax[1].legend()\n",
    "fig.tight_layout()\n",
    "pdf.savefig(fig)\n",
    "\n",
    "plt.close('all')"
   ]
  },
  {
   "cell_type": "code",
   "execution_count": 16,
   "metadata": {},
   "outputs": [],
   "source": [
    "fig, ax = plt.subplots(4,1,figsize= (16,10))\n",
    "ax[0].set_title('Normalized Coverage in OSA Due to Read Pairs with the Same Fragment Size in Both OSA and OSB')\n",
    "ax[0].plot(ms50_coverage['Fragment']['OSA']['Same'], color = 'red', label = 'MS50')\n",
    "ax[0].legend()\n",
    "ax[1].plot(ms55_coverage['Fragment']['OSA']['Same'], color = 'blue', label = 'MS55')\n",
    "ax[1].legend()\n",
    "ax[2].plot(ms60_coverage['Fragment']['OSA']['Same'], color = 'green', label = 'MS60')\n",
    "ax[2].legend()\n",
    "ax[3].plot(ms65_coverage['Fragment']['OSA']['Same'], color = 'orange', label = 'MS65')\n",
    "ax[3].legend()\n",
    "fig.tight_layout()\n",
    "pdf.savefig(fig)\n",
    "\n",
    "fig, ax = plt.subplots(4,1,figsize= (16,10))\n",
    "ax[0].set_title('Normalized Coverage in OSB Due to Read Pairs with the Same Fragment Size in Both OSA and OSB')\n",
    "ax[0].plot(ms50_coverage['Fragment']['OSB']['Same'], color = 'red', label = 'MS50')\n",
    "ax[0].legend()\n",
    "ax[1].plot(ms55_coverage['Fragment']['OSB']['Same'], color = 'blue', label = 'MS55')\n",
    "ax[1].legend()\n",
    "ax[2].plot(ms60_coverage['Fragment']['OSB']['Same'], color = 'green', label = 'MS60')\n",
    "ax[2].legend()\n",
    "ax[3].plot(ms65_coverage['Fragment']['OSB']['Same'], color = 'orange', label = 'MS65')\n",
    "ax[3].legend()\n",
    "fig.tight_layout()\n",
    "pdf.savefig(fig)\n",
    "\n",
    "plt.close('all')"
   ]
  },
  {
   "cell_type": "code",
   "execution_count": 17,
   "metadata": {
    "scrolled": true
   },
   "outputs": [],
   "source": [
    "fig, ax = plt.subplots(4,1,figsize= (16,10))\n",
    "ax[0].set_title('Normalized Coverage in OSA Due to Read Pairs with the Different Fragment Size in Both OSA and OSB')\n",
    "ax[0].plot(ms50_coverage['Fragment']['OSA']['Diff'], color = 'red', label = 'MS50')\n",
    "ax[0].legend()\n",
    "ax[1].plot(ms55_coverage['Fragment']['OSA']['Diff'], color = 'blue', label = 'MS55')\n",
    "ax[1].legend()\n",
    "ax[2].plot(ms60_coverage['Fragment']['OSA']['Diff'], color = 'green', label = 'MS60')\n",
    "ax[2].legend()\n",
    "ax[3].plot(ms65_coverage['Fragment']['OSA']['Diff'], color = 'orange', label = 'MS65')\n",
    "ax[3].legend()\n",
    "fig.tight_layout()\n",
    "pdf.savefig(fig)\n",
    "\n",
    "fig, ax = plt.subplots(4,1,figsize= (16,10))\n",
    "ax[0].set_title('Normalized Coverage in OSB Due to Read Pairs with the Different Fragment Size in Both OSA and OSB')\n",
    "ax[0].plot(ms50_coverage['Fragment']['OSB']['Diff'], color = 'red', label = 'MS50')\n",
    "ax[0].legend()\n",
    "ax[1].plot(ms55_coverage['Fragment']['OSB']['Diff'], color = 'blue', label = 'MS55')\n",
    "ax[1].legend()\n",
    "ax[2].plot(ms60_coverage['Fragment']['OSB']['Diff'], color = 'green', label = 'MS60')\n",
    "ax[2].legend()\n",
    "ax[2].set_ylim([0,10])\n",
    "ax[3].plot(ms65_coverage['Fragment']['OSB']['Diff'], color = 'orange', label = 'MS65')\n",
    "ax[3].legend()\n",
    "ax[3].set_ylim([0,10])\n",
    "fig.tight_layout()\n",
    "pdf.savefig(fig)\n",
    "plt.close('all')"
   ]
  },
  {
   "cell_type": "code",
   "execution_count": 18,
   "metadata": {},
   "outputs": [],
   "source": [
    "pdf.close()"
   ]
  },
  {
   "cell_type": "code",
   "execution_count": 8,
   "metadata": {},
   "outputs": [],
   "source": [
    "fig,ax = plt.subplots(2,2,figsize = (16,10))\n",
    "ax[0][0].scatter(ms50_coverage['Mispaired']['OSA']['Only'], \n",
    "                 ms50_coverage['Mispaired']['OSA']['Both'], alpha = 0.05)\n",
    "ax[0][0].set_ylabel('Differentially Mispaired Reads in OSA')\n",
    "ax[0][0].set_title('MS50')\n",
    "\n",
    "ax[0][1].scatter(ms55_coverage['Mispaired']['OSA']['Only'], \n",
    "                 ms55_coverage['Mispaired']['OSA']['Both'], alpha = 0.05)\n",
    "ax[0][1].set_title('MS55')\n",
    "\n",
    "ax[1][0].scatter(ms60_coverage['Mispaired']['OSA']['Only'], \n",
    "                 ms60_coverage['Mispaired']['OSA']['Both'], alpha = 0.05)\n",
    "ax[1][0].set_ylabel('Differentially Mispaired Reads in OSA')\n",
    "ax[1][0].set_xlabel('Mispaired Reads in OSA and OSB')\n",
    "ax[1][0].set_title('MS60')\n",
    "\n",
    "ax[1][1].scatter(ms65_coverage['Mispaired']['OSA']['Only'], \n",
    "                 ms65_coverage['Mispaired']['OSA']['Both'], alpha = 0.05)\n",
    "ax[1][1].set_xlabel('Mispaired Reads in OSA and OSB')\n",
    "ax[1][1].set_title('MS65')\n",
    "\n",
    "fig.tight_layout()\n",
    "fig.savefig('OSA-Mispaired.png')\n",
    "#pdf.savefig(fig)\n",
    "plt.close('all')"
   ]
  },
  {
   "cell_type": "code",
   "execution_count": 9,
   "metadata": {},
   "outputs": [],
   "source": [
    "fig,ax = plt.subplots(2,2,figsize = (16,10))\n",
    "ax[0][0].scatter(ms50_coverage['Mispaired']['OSB']['Only'], \n",
    "                 ms50_coverage['Mispaired']['OSB']['Both'], alpha = 0.05)\n",
    "ax[0][0].set_ylabel('Differentially Mispaired Reads in OSB')\n",
    "ax[0][0].set_title('MS50')\n",
    "\n",
    "ax[0][1].scatter(ms55_coverage['Mispaired']['OSB']['Only'], \n",
    "                 ms55_coverage['Mispaired']['OSB']['Both'], alpha = 0.05)\n",
    "ax[0][1].set_title('MS55')\n",
    "\n",
    "ax[1][0].scatter(ms60_coverage['Mispaired']['OSB']['Only'], \n",
    "                 ms60_coverage['Mispaired']['OSB']['Both'], alpha = 0.05)\n",
    "ax[1][0].set_ylabel('Differentially Mispaired Reads in OSB')\n",
    "ax[1][0].set_xlabel('Mispaired Reads in OSA and OSB')\n",
    "ax[1][0].set_title('MS60')\n",
    "\n",
    "ax[1][1].scatter(ms65_coverage['Mispaired']['OSB']['Only'], \n",
    "                 ms65_coverage['Mispaired']['OSB']['Both'], alpha = 0.05)\n",
    "ax[1][1].set_xlabel('Mispaired Reads in OSA and OSB')\n",
    "ax[1][1].set_title('MS65')\n",
    "\n",
    "fig.tight_layout()\n",
    "fig.savefig('OSB-Mispaired.png')\n",
    "#pdf.savefig(fig)\n",
    "plt.close('all')"
   ]
  },
  {
   "cell_type": "code",
   "execution_count": 10,
   "metadata": {},
   "outputs": [],
   "source": [
    "fig,ax = plt.subplots(2,2,figsize = (16,10))\n",
    "ax[0][0].scatter(ms50_coverage['Orphaned']['OSA']['Only'], \n",
    "                 ms50_coverage['Orphaned']['OSA']['Both'], alpha = 0.05)\n",
    "ax[0][0].set_ylabel('Differentially Orphaned Reads in OSA')\n",
    "ax[0][0].set_title('MS50')\n",
    "\n",
    "ax[0][1].scatter(ms55_coverage['Orphaned']['OSA']['Only'], \n",
    "                 ms55_coverage['Orphaned']['OSA']['Both'], alpha = 0.05)\n",
    "ax[0][1].set_title('MS55')\n",
    "\n",
    "ax[1][0].scatter(ms60_coverage['Orphaned']['OSA']['Only'], \n",
    "                 ms60_coverage['Orphaned']['OSA']['Both'], alpha = 0.05)\n",
    "ax[1][0].set_ylabel('Differentially Orphaned Reads in OSA')\n",
    "ax[1][0].set_xlabel('Orphaned Reads in OSA and OSB')\n",
    "ax[1][0].set_title('MS60')\n",
    "\n",
    "ax[1][1].scatter(ms65_coverage['Orphaned']['OSA']['Only'], \n",
    "                 ms65_coverage['Orphaned']['OSA']['Both'], alpha = 0.05)\n",
    "ax[1][1].set_xlabel('Orphaned Reads in OSA and OSB')\n",
    "ax[1][1].set_title('MS65')\n",
    "\n",
    "fig.tight_layout()\n",
    "fig.savefig('OSA-Orphaned.png')\n",
    "#pdf.savefig(fig)\n",
    "plt.close('all')"
   ]
  },
  {
   "cell_type": "code",
   "execution_count": 11,
   "metadata": {},
   "outputs": [],
   "source": [
    "fig,ax = plt.subplots(2,2,figsize = (16,10))\n",
    "ax[0][0].scatter(ms50_coverage['Orphaned']['OSB']['Only'], \n",
    "                 ms50_coverage['Orphaned']['OSB']['Both'], alpha = 0.05)\n",
    "ax[0][0].set_ylabel('Differentially Orphaned Reads in OSB')\n",
    "ax[0][0].set_title('MS50')\n",
    "\n",
    "ax[0][1].scatter(ms55_coverage['Orphaned']['OSB']['Only'], \n",
    "                 ms55_coverage['Orphaned']['OSB']['Both'], alpha = 0.05)\n",
    "ax[0][1].set_title('MS55')\n",
    "\n",
    "ax[1][0].scatter(ms60_coverage['Orphaned']['OSB']['Only'], \n",
    "                 ms60_coverage['Orphaned']['OSB']['Both'], alpha = 0.05)\n",
    "ax[1][0].set_ylabel('Differentially Orphaned Reads in OSB')\n",
    "ax[1][0].set_xlabel('Orphaned Reads in OSA and OSB')\n",
    "ax[1][0].set_title('MS60')\n",
    "\n",
    "ax[1][1].scatter(ms65_coverage['Orphaned']['OSB']['Only'], \n",
    "                 ms65_coverage['Orphaned']['OSB']['Both'], alpha = 0.05)\n",
    "ax[1][1].set_xlabel('Orphaned Reads in OSA and OSB')\n",
    "ax[1][1].set_title('MS65')\n",
    "\n",
    "fig.tight_layout()\n",
    "fig.savefig('OSB-Orphaned.png')\n",
    "#pdf.savefig(fig)\n",
    "plt.close('all')"
   ]
  },
  {
   "cell_type": "code",
   "execution_count": 20,
   "metadata": {},
   "outputs": [],
   "source": [
    "fig,ax = plt.subplots(2,3,figsize = (16,10))\n",
    "fig.suptitle('Comparing Reads Orphaned in OSA Only')\n",
    "\n",
    "ax[0][0].scatter(ms50_coverage['Orphaned']['OSA']['Only'], ms55_coverage['Orphaned']['OSA']['Only'], alpha = 0.05)\n",
    "ax[0][0].set_ylabel('MS55')\n",
    "ax[0][0].set_xlabel('MS50')\n",
    "\n",
    "ax[0][1].scatter(ms50_coverage['Orphaned']['OSA']['Only'], ms60_coverage['Orphaned']['OSA']['Only'], alpha = 0.05)\n",
    "ax[0][1].set_ylabel('MS60')\n",
    "ax[0][1].set_xlabel('MS50')\n",
    "\n",
    "ax[0][2].scatter(ms50_coverage['Orphaned']['OSA']['Only'], ms65_coverage['Orphaned']['OSA']['Only'], alpha = 0.05)\n",
    "ax[0][2].set_ylabel('MS65')\n",
    "ax[0][2].set_xlabel('MS50')\n",
    "\n",
    "ax[1][0].scatter(ms55_coverage['Orphaned']['OSA']['Only'], ms60_coverage['Orphaned']['OSA']['Only'], alpha = 0.05)\n",
    "ax[1][0].set_ylabel('MS60')\n",
    "ax[1][0].set_xlabel('MS55')\n",
    "\n",
    "ax[1][1].scatter(ms55_coverage['Orphaned']['OSA']['Only'], ms65_coverage['Orphaned']['OSA']['Only'], alpha = 0.05)\n",
    "ax[1][1].set_ylabel('MS65')\n",
    "ax[1][1].set_xlabel('MS55')\n",
    "\n",
    "ax[1][2].scatter(ms60_coverage['Orphaned']['OSA']['Only'], ms65_coverage['Orphaned']['OSA']['Only'], alpha = 0.05)\n",
    "ax[1][2].set_ylabel('MS65')\n",
    "ax[1][2].set_xlabel('MS60')\n",
    "\n",
    "fig.tight_layout()\n",
    "fig.subplots_adjust(top = 0.92)\n",
    "fig.savefig('OSA-Only-Orphaned.png')\n",
    "#pdf.savefig(fig)\n",
    "plt.close('all')"
   ]
  },
  {
   "cell_type": "code",
   "execution_count": 23,
   "metadata": {},
   "outputs": [],
   "source": [
    "fig,ax = plt.subplots(2,3,figsize = (16,10))\n",
    "fig.suptitle('Comparing Reads Orphaned in OSB Only')\n",
    "\n",
    "ax[0][0].scatter(ms50_coverage['Orphaned']['OSB']['Only'], ms55_coverage['Orphaned']['OSB']['Only'], alpha = 0.05)\n",
    "ax[0][0].set_ylabel('MS55')\n",
    "ax[0][0].set_xlabel('MS50')\n",
    "\n",
    "ax[0][1].scatter(ms50_coverage['Orphaned']['OSB']['Only'], ms60_coverage['Orphaned']['OSB']['Only'], alpha = 0.05)\n",
    "ax[0][1].set_ylabel('MS60')\n",
    "ax[0][1].set_xlabel('MS50')\n",
    "\n",
    "ax[0][2].scatter(ms50_coverage['Orphaned']['OSB']['Only'], ms65_coverage['Orphaned']['OSB']['Only'], alpha = 0.05)\n",
    "ax[0][2].set_ylabel('MS65')\n",
    "ax[0][2].set_xlabel('MS50')\n",
    "\n",
    "ax[1][0].scatter(ms55_coverage['Orphaned']['OSB']['Only'], ms60_coverage['Orphaned']['OSB']['Only'], alpha = 0.05)\n",
    "ax[1][0].set_ylabel('MS60')\n",
    "ax[1][0].set_xlabel('MS55')\n",
    "\n",
    "ax[1][1].scatter(ms55_coverage['Orphaned']['OSB']['Only'], ms65_coverage['Orphaned']['OSB']['Only'], alpha = 0.05)\n",
    "ax[1][1].set_ylabel('MS65')\n",
    "ax[1][1].set_xlabel('MS55')\n",
    "\n",
    "ax[1][2].scatter(ms60_coverage['Orphaned']['OSB']['Only'], ms65_coverage['Orphaned']['OSB']['Only'], alpha = 0.05)\n",
    "ax[1][2].set_ylabel('MS65')\n",
    "ax[1][2].set_xlabel('MS60')\n",
    "\n",
    "fig.tight_layout()\n",
    "fig.subplots_adjust(top = 0.92)\n",
    "fig.savefig('OSB-Only-Orphaned.png')\n",
    "#pdf.savefig(fig)\n",
    "plt.close('all')"
   ]
  },
  {
   "cell_type": "code",
   "execution_count": 24,
   "metadata": {},
   "outputs": [],
   "source": [
    "fig,ax = plt.subplots(2,3,figsize = (16,10))\n",
    "fig.suptitle('Comparing Reads along OSB Orphaned in Both OSA and OSB')\n",
    "\n",
    "ax[0][0].scatter(ms50_coverage['Orphaned']['OSB']['Both'], ms55_coverage['Orphaned']['OSB']['Both'], alpha = 0.05)\n",
    "ax[0][0].set_ylabel('MS55')\n",
    "ax[0][0].set_xlabel('MS50')\n",
    "\n",
    "ax[0][1].scatter(ms50_coverage['Orphaned']['OSB']['Both'], ms60_coverage['Orphaned']['OSB']['Both'], alpha = 0.05)\n",
    "ax[0][1].set_ylabel('MS60')\n",
    "ax[0][1].set_xlabel('MS50')\n",
    "\n",
    "ax[0][2].scatter(ms50_coverage['Orphaned']['OSB']['Both'], ms65_coverage['Orphaned']['OSB']['Both'], alpha = 0.05)\n",
    "ax[0][2].set_ylabel('MS65')\n",
    "ax[0][2].set_xlabel('MS50')\n",
    "\n",
    "ax[1][0].scatter(ms55_coverage['Orphaned']['OSB']['Both'], ms60_coverage['Orphaned']['OSB']['Both'], alpha = 0.05)\n",
    "ax[1][0].set_ylabel('MS60')\n",
    "ax[1][0].set_xlabel('MS55')\n",
    "\n",
    "ax[1][1].scatter(ms55_coverage['Orphaned']['OSB']['Both'], ms65_coverage['Orphaned']['OSB']['Both'], alpha = 0.05)\n",
    "ax[1][1].set_ylabel('MS65')\n",
    "ax[1][1].set_xlabel('MS55')\n",
    "\n",
    "ax[1][2].scatter(ms60_coverage['Orphaned']['OSB']['Both'], ms65_coverage['Orphaned']['OSB']['Both'], alpha = 0.05)\n",
    "ax[1][2].set_ylabel('MS65')\n",
    "ax[1][2].set_xlabel('MS60')\n",
    "\n",
    "fig.tight_layout()\n",
    "fig.subplots_adjust(top = 0.92)\n",
    "fig.savefig('OSB-Both-Orphaned.png')\n",
    "#pdf.savefig(fig)\n",
    "plt.close('all')"
   ]
  },
  {
   "cell_type": "code",
   "execution_count": 25,
   "metadata": {},
   "outputs": [],
   "source": [
    "fig,ax = plt.subplots(2,3,figsize = (16,10))\n",
    "fig.suptitle('Comparing Reads along OSA Orphaned in Both OSA and OSB')\n",
    "\n",
    "ax[0][0].scatter(ms50_coverage['Orphaned']['OSA']['Both'], ms55_coverage['Orphaned']['OSA']['Both'], alpha = 0.05)\n",
    "ax[0][0].set_ylabel('MS55')\n",
    "ax[0][0].set_xlabel('MS50')\n",
    "\n",
    "ax[0][1].scatter(ms50_coverage['Orphaned']['OSA']['Both'], ms60_coverage['Orphaned']['OSA']['Both'], alpha = 0.05)\n",
    "ax[0][1].set_ylabel('MS60')\n",
    "ax[0][1].set_xlabel('MS50')\n",
    "\n",
    "ax[0][2].scatter(ms50_coverage['Orphaned']['OSA']['Both'], ms65_coverage['Orphaned']['OSA']['Both'], alpha = 0.05)\n",
    "ax[0][2].set_ylabel('MS65')\n",
    "ax[0][2].set_xlabel('MS50')\n",
    "\n",
    "ax[1][0].scatter(ms55_coverage['Orphaned']['OSA']['Both'], ms60_coverage['Orphaned']['OSA']['Both'], alpha = 0.05)\n",
    "ax[1][0].set_ylabel('MS60')\n",
    "ax[1][0].set_xlabel('MS55')\n",
    "\n",
    "ax[1][1].scatter(ms55_coverage['Orphaned']['OSA']['Both'], ms65_coverage['Orphaned']['OSA']['Both'], alpha = 0.05)\n",
    "ax[1][1].set_ylabel('MS65')\n",
    "ax[1][1].set_xlabel('MS55')\n",
    "\n",
    "ax[1][2].scatter(ms60_coverage['Orphaned']['OSA']['Both'], ms65_coverage['Orphaned']['OSA']['Both'], alpha = 0.05)\n",
    "ax[1][2].set_ylabel('MS65')\n",
    "ax[1][2].set_xlabel('MS60')\n",
    "\n",
    "fig.tight_layout()\n",
    "fig.subplots_adjust(top = 0.92)\n",
    "fig.savefig('OSA-Both-Orphaned.png')\n",
    "#pdf.savefig(fig)\n",
    "plt.close('all')"
   ]
  },
  {
   "cell_type": "code",
   "execution_count": 26,
   "metadata": {},
   "outputs": [],
   "source": [
    "fig,ax = plt.subplots(2,3,figsize = (16,10))\n",
    "fig.suptitle('Comparing Reads Mispaired in OSA Only')\n",
    "\n",
    "ax[0][0].scatter(ms50_coverage['Mispaired']['OSA']['Only'], ms55_coverage['Mispaired']['OSA']['Only'], alpha = 0.05)\n",
    "ax[0][0].set_ylabel('MS55')\n",
    "ax[0][0].set_xlabel('MS50')\n",
    "\n",
    "ax[0][1].scatter(ms50_coverage['Mispaired']['OSA']['Only'], ms60_coverage['Mispaired']['OSA']['Only'], alpha = 0.05)\n",
    "ax[0][1].set_ylabel('MS60')\n",
    "ax[0][1].set_xlabel('MS50')\n",
    "\n",
    "ax[0][2].scatter(ms50_coverage['Mispaired']['OSA']['Only'], ms65_coverage['Mispaired']['OSA']['Only'], alpha = 0.05)\n",
    "ax[0][2].set_ylabel('MS65')\n",
    "ax[0][2].set_xlabel('MS50')\n",
    "\n",
    "ax[1][0].scatter(ms55_coverage['Mispaired']['OSA']['Only'], ms60_coverage['Mispaired']['OSA']['Only'], alpha = 0.05)\n",
    "ax[1][0].set_ylabel('MS60')\n",
    "ax[1][0].set_xlabel('MS55')\n",
    "\n",
    "ax[1][1].scatter(ms55_coverage['Mispaired']['OSA']['Only'], ms65_coverage['Mispaired']['OSA']['Only'], alpha = 0.05)\n",
    "ax[1][1].set_ylabel('MS65')\n",
    "ax[1][1].set_xlabel('MS55')\n",
    "\n",
    "ax[1][2].scatter(ms60_coverage['Mispaired']['OSA']['Only'], ms65_coverage['Mispaired']['OSA']['Only'], alpha = 0.05)\n",
    "ax[1][2].set_ylabel('MS65')\n",
    "ax[1][2].set_xlabel('MS60')\n",
    "\n",
    "fig.tight_layout()\n",
    "fig.subplots_adjust(top = 0.92)\n",
    "fig.savefig('OSA-Only-Mispaired.png')\n",
    "#pdf.savefig(fig)\n",
    "plt.close('all')"
   ]
  },
  {
   "cell_type": "code",
   "execution_count": 27,
   "metadata": {},
   "outputs": [],
   "source": [
    "fig,ax = plt.subplots(2,3,figsize = (16,10))\n",
    "fig.suptitle('Comparing Reads Mispaired in OSB Only')\n",
    "\n",
    "ax[0][0].scatter(ms50_coverage['Mispaired']['OSB']['Only'], ms55_coverage['Mispaired']['OSB']['Only'], alpha = 0.05)\n",
    "ax[0][0].set_ylabel('MS55')\n",
    "ax[0][0].set_xlabel('MS50')\n",
    "\n",
    "ax[0][1].scatter(ms50_coverage['Mispaired']['OSB']['Only'], ms60_coverage['Mispaired']['OSB']['Only'], alpha = 0.05)\n",
    "ax[0][1].set_ylabel('MS60')\n",
    "ax[0][1].set_xlabel('MS50')\n",
    "\n",
    "ax[0][2].scatter(ms50_coverage['Mispaired']['OSB']['Only'], ms65_coverage['Mispaired']['OSB']['Only'], alpha = 0.05)\n",
    "ax[0][2].set_ylabel('MS65')\n",
    "ax[0][2].set_xlabel('MS50')\n",
    "\n",
    "ax[1][0].scatter(ms55_coverage['Mispaired']['OSB']['Only'], ms60_coverage['Mispaired']['OSB']['Only'], alpha = 0.05)\n",
    "ax[1][0].set_ylabel('MS60')\n",
    "ax[1][0].set_xlabel('MS55')\n",
    "\n",
    "ax[1][1].scatter(ms55_coverage['Mispaired']['OSB']['Only'], ms65_coverage['Mispaired']['OSB']['Only'], alpha = 0.05)\n",
    "ax[1][1].set_ylabel('MS65')\n",
    "ax[1][1].set_xlabel('MS55')\n",
    "\n",
    "ax[1][2].scatter(ms60_coverage['Mispaired']['OSB']['Only'], ms65_coverage['Mispaired']['OSB']['Only'], alpha = 0.05)\n",
    "ax[1][2].set_ylabel('MS65')\n",
    "ax[1][2].set_xlabel('MS60')\n",
    "\n",
    "fig.tight_layout()\n",
    "fig.subplots_adjust(top = 0.92)\n",
    "fig.savefig('OSB-Only-Mispaired.png')\n",
    "#pdf.savefig(fig)\n",
    "plt.close('all')"
   ]
  },
  {
   "cell_type": "code",
   "execution_count": 28,
   "metadata": {},
   "outputs": [],
   "source": [
    "fig,ax = plt.subplots(2,3,figsize = (16,10))\n",
    "fig.suptitle('Comparing Reads along OSB Mispaired in Both OSA and OSB')\n",
    "\n",
    "ax[0][0].scatter(ms50_coverage['Mispaired']['OSB']['Both'], ms55_coverage['Mispaired']['OSB']['Both'], alpha = 0.05)\n",
    "ax[0][0].set_ylabel('MS55')\n",
    "ax[0][0].set_xlabel('MS50')\n",
    "\n",
    "ax[0][1].scatter(ms50_coverage['Mispaired']['OSB']['Both'], ms60_coverage['Mispaired']['OSB']['Both'], alpha = 0.05)\n",
    "ax[0][1].set_ylabel('MS60')\n",
    "ax[0][1].set_xlabel('MS50')\n",
    "\n",
    "ax[0][2].scatter(ms50_coverage['Mispaired']['OSB']['Both'], ms65_coverage['Mispaired']['OSB']['Both'], alpha = 0.05)\n",
    "ax[0][2].set_ylabel('MS65')\n",
    "ax[0][2].set_xlabel('MS50')\n",
    "\n",
    "ax[1][0].scatter(ms55_coverage['Mispaired']['OSB']['Both'], ms60_coverage['Mispaired']['OSB']['Both'], alpha = 0.05)\n",
    "ax[1][0].set_ylabel('MS60')\n",
    "ax[1][0].set_xlabel('MS55')\n",
    "\n",
    "ax[1][1].scatter(ms55_coverage['Mispaired']['OSB']['Both'], ms65_coverage['Mispaired']['OSB']['Both'], alpha = 0.05)\n",
    "ax[1][1].set_ylabel('MS65')\n",
    "ax[1][1].set_xlabel('MS55')\n",
    "\n",
    "ax[1][2].scatter(ms60_coverage['Mispaired']['OSB']['Both'], ms65_coverage['Mispaired']['OSB']['Both'], alpha = 0.05)\n",
    "ax[1][2].set_ylabel('MS65')\n",
    "ax[1][2].set_xlabel('MS60')\n",
    "\n",
    "fig.tight_layout()\n",
    "fig.subplots_adjust(top = 0.92)\n",
    "fig.savefig('OSB-Both-Mispaired.png')\n",
    "#pdf.savefig(fig)\n",
    "plt.close('all')"
   ]
  },
  {
   "cell_type": "code",
   "execution_count": 29,
   "metadata": {},
   "outputs": [],
   "source": [
    "fig,ax = plt.subplots(2,3,figsize = (16,10))\n",
    "fig.suptitle('Comparing Reads along OSA Mispaired in Both OSA and OSB')\n",
    "\n",
    "ax[0][0].scatter(ms50_coverage['Mispaired']['OSA']['Both'], ms55_coverage['Mispaired']['OSA']['Both'], alpha = 0.05)\n",
    "ax[0][0].set_ylabel('MS55')\n",
    "ax[0][0].set_xlabel('MS50')\n",
    "\n",
    "ax[0][1].scatter(ms50_coverage['Mispaired']['OSA']['Both'], ms60_coverage['Mispaired']['OSA']['Both'], alpha = 0.05)\n",
    "ax[0][1].set_ylabel('MS60')\n",
    "ax[0][1].set_xlabel('MS50')\n",
    "\n",
    "ax[0][2].scatter(ms50_coverage['Mispaired']['OSA']['Both'], ms65_coverage['Mispaired']['OSA']['Both'], alpha = 0.05)\n",
    "ax[0][2].set_ylabel('MS65')\n",
    "ax[0][2].set_xlabel('MS50')\n",
    "\n",
    "ax[1][0].scatter(ms55_coverage['Mispaired']['OSA']['Both'], ms60_coverage['Mispaired']['OSA']['Both'], alpha = 0.05)\n",
    "ax[1][0].set_ylabel('MS60')\n",
    "ax[1][0].set_xlabel('MS55')\n",
    "\n",
    "ax[1][1].scatter(ms55_coverage['Mispaired']['OSA']['Both'], ms65_coverage['Mispaired']['OSA']['Both'], alpha = 0.05)\n",
    "ax[1][1].set_ylabel('MS65')\n",
    "ax[1][1].set_xlabel('MS55')\n",
    "\n",
    "ax[1][2].scatter(ms60_coverage['Mispaired']['OSA']['Both'], ms65_coverage['Mispaired']['OSA']['Both'], alpha = 0.05)\n",
    "ax[1][2].set_ylabel('MS65')\n",
    "ax[1][2].set_xlabel('MS60')\n",
    "\n",
    "fig.tight_layout()\n",
    "fig.subplots_adjust(top = 0.92)\n",
    "fig.savefig('OSA-Both-Mispaired.png')\n",
    "#pdf.savefig(fig)\n",
    "plt.close('all')"
   ]
  },
  {
   "cell_type": "code",
   "execution_count": 30,
   "metadata": {},
   "outputs": [
    {
     "data": {
      "text/plain": [
       "368345"
      ]
     },
     "execution_count": 30,
     "metadata": {},
     "output_type": "execute_result"
    }
   ],
   "source": [
    "len(ms50_coverage['Fragment']['OSA']['Diff_Dist'])"
   ]
  },
  {
   "cell_type": "code",
   "execution_count": 31,
   "metadata": {},
   "outputs": [
    {
     "data": {
      "text/plain": [
       "264747"
      ]
     },
     "execution_count": 31,
     "metadata": {},
     "output_type": "execute_result"
    }
   ],
   "source": [
    "len(ms55_coverage['Fragment']['OSA']['Diff_Dist'])"
   ]
  },
  {
   "cell_type": "code",
   "execution_count": 32,
   "metadata": {},
   "outputs": [
    {
     "data": {
      "text/plain": [
       "341370"
      ]
     },
     "execution_count": 32,
     "metadata": {},
     "output_type": "execute_result"
    }
   ],
   "source": [
    "len(ms60_coverage['Fragment']['OSA']['Diff_Dist'])"
   ]
  },
  {
   "cell_type": "code",
   "execution_count": 33,
   "metadata": {},
   "outputs": [
    {
     "data": {
      "text/plain": [
       "495282"
      ]
     },
     "execution_count": 33,
     "metadata": {},
     "output_type": "execute_result"
    }
   ],
   "source": [
    "len(ms65_coverage['Fragment']['OSA']['Diff_Dist'])"
   ]
  },
  {
   "cell_type": "code",
   "execution_count": 34,
   "metadata": {},
   "outputs": [
    {
     "data": {
      "text/plain": [
       "368345"
      ]
     },
     "execution_count": 34,
     "metadata": {},
     "output_type": "execute_result"
    }
   ],
   "source": [
    "len(ms50_coverage['Fragment']['OSB']['Diff_Dist'])"
   ]
  },
  {
   "cell_type": "code",
   "execution_count": 35,
   "metadata": {},
   "outputs": [
    {
     "data": {
      "text/plain": [
       "264747"
      ]
     },
     "execution_count": 35,
     "metadata": {},
     "output_type": "execute_result"
    }
   ],
   "source": [
    "len(ms55_coverage['Fragment']['OSB']['Diff_Dist'])"
   ]
  },
  {
   "cell_type": "code",
   "execution_count": 36,
   "metadata": {},
   "outputs": [
    {
     "data": {
      "text/plain": [
       "341370"
      ]
     },
     "execution_count": 36,
     "metadata": {},
     "output_type": "execute_result"
    }
   ],
   "source": [
    "len(ms60_coverage['Fragment']['OSB']['Diff_Dist'])"
   ]
  },
  {
   "cell_type": "code",
   "execution_count": 37,
   "metadata": {},
   "outputs": [
    {
     "data": {
      "text/plain": [
       "495282"
      ]
     },
     "execution_count": 37,
     "metadata": {},
     "output_type": "execute_result"
    }
   ],
   "source": [
    "len(ms65_coverage['Fragment']['OSB']['Diff_Dist'])"
   ]
  },
  {
   "cell_type": "code",
   "execution_count": null,
   "metadata": {},
   "outputs": [],
   "source": []
  }
 ],
 "metadata": {
  "kernelspec": {
   "display_name": "Python 3",
   "language": "python",
   "name": "python3"
  },
  "language_info": {
   "codemirror_mode": {
    "name": "ipython",
    "version": 3
   },
   "file_extension": ".py",
   "mimetype": "text/x-python",
   "name": "python",
   "nbconvert_exporter": "python",
   "pygments_lexer": "ipython3",
   "version": "3.7.3"
  }
 },
 "nbformat": 4,
 "nbformat_minor": 2
}
