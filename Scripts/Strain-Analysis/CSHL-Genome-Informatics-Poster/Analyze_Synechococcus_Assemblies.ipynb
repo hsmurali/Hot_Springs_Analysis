{
 "cells": [
  {
   "cell_type": "code",
   "execution_count": 7,
   "metadata": {},
   "outputs": [],
   "source": [
    "import pandas as pd\n",
    "import matplotlib.pyplot as plt\n",
    "\n",
    "rcParams = {'font.size': 16 , 'font.weight': 'normal', 'font.family': 'sans-serif',\n",
    "            'axes.unicode_minus':False, 'axes.labelweight':'normal'}\n",
    "\n",
    "plt.rcParams.update(rcParams)\n",
    "\n",
    "def Return_Continuous_Fragments(filepath, length_path):\n",
    "    df = pd.read_csv(filepath, sep = '\\t', skiprows=1, \n",
    "                     names = ['Start','End','Gaps','Length','QCover','Pident','Orient','ContigID'])\n",
    "    df_len = pd.read_csv(length_path, sep = '\\t', names = ['ContigID','Len','1','2','3','4'])\n",
    "    del df_len['1'], df_len['2'], df_len['3'], df_len['4']\n",
    "    df_temp = pd.merge(df, df_len, on = 'ContigID', how = 'right')\n",
    "    df_temp = df_temp.fillna(-1)\n",
    "    df_temp = df_temp[df_temp['Start'] == -1]\n",
    "    print(df_temp['Len'].min(), df_temp['Len'].max(), len(df_temp), df_temp['Len'].sum())\n",
    "    \n",
    "    \n",
    "    Cont_Fragments = []\n",
    "    start, end = df.iloc[0]['Start'], df.iloc[0]['End']\n",
    "    gaps = df.iloc[0]['Gaps']\n",
    "    for i in range(1, len(df)):\n",
    "        if gaps <= 0:\n",
    "            #print('Merging', df.iloc[i]['Start'], df.iloc[i]['End'])\n",
    "            end = df.iloc[i]['End']\n",
    "        else:\n",
    "            #print('--->',start,end)\n",
    "            Cont_Fragments.append((start, end))\n",
    "            start, end = df.iloc[i]['Start'], df.iloc[i]['End']\n",
    "        gaps = df.iloc[i]['Gaps']\n",
    "    return Cont_Fragments"
   ]
  },
  {
   "cell_type": "code",
   "execution_count": 4,
   "metadata": {},
   "outputs": [
    {
     "name": "stdout",
     "output_type": "stream",
     "text": [
      "MS50\n",
      "200 7882 13937 6351507\n",
      "200 3972 37437 11636485\n",
      "MS55\n",
      "200 33573 12825 6728873\n",
      "200 11038 30143 11121344\n",
      "MS60\n",
      "200 25322 12611 6987624\n",
      "200 11297 23344 10144548\n",
      "MS65\n",
      "200 23260 14248 6428399\n",
      "200 11457 8962 5917867\n"
     ]
    }
   ],
   "source": [
    "filedir = 'Mount/Hot_Springs_Analysis/OSA_OSB_Ressembly_Mummer/'\n",
    "\n",
    "print('MS50')\n",
    "MS50_OSA = Return_Continuous_Fragments(filedir+'MS50/OSA/MS50_OSA.tiling', \n",
    "                                       'Mount-2/MS50_megahit_assembled_contigs_osa/MS50_osa.contigs.fa.fai')\n",
    "MS50_OSB = Return_Continuous_Fragments(filedir+'MS50/OSB/MS50_OSB.tiling',\n",
    "                                      'Mount-2/MS50_megahit_assembled_contigs_osb/MS50_osb.contigs.fa.fai')\n",
    "\n",
    "print('MS55')\n",
    "MS55_OSA = Return_Continuous_Fragments(filedir+'MS55/OSA/MS55_OSA.tiling',\n",
    "                                       'Mount-2/MS55_megahit_assembled_contigs_osa/MS55_osa.contigs.fa.fai')\n",
    "MS55_OSB = Return_Continuous_Fragments(filedir+'MS55/OSB/MS55_OSB.tiling',\n",
    "                                      'Mount-2/MS55_megahit_assembled_contigs_osb/MS55_osb.contigs.fa.fai')\n",
    "\n",
    "print('MS60')\n",
    "MS60_OSA = Return_Continuous_Fragments(filedir+'MS60/OSA/MS60_OSA.tiling',\n",
    "                                      'Mount-2/MS60_megahit_assembled_contigs_osa/MS60_osa.contigs.fa.fai')\n",
    "MS60_OSB = Return_Continuous_Fragments(filedir+'MS60/OSB/MS60_OSB.tiling',\n",
    "                                      'Mount-2/MS60_megahit_assembled_contigs_osb/MS60_osb.contigs.fa.fai')\n",
    "\n",
    "print('MS65')\n",
    "MS65_OSA = Return_Continuous_Fragments(filedir+'MS65/OSA/MS65_OSA.tiling',\n",
    "                                      'Mount-2/MS65_megahit_assembled_contigs_osa/MS65_osa.contigs.fa.fai')\n",
    "MS65_OSB = Return_Continuous_Fragments(filedir+'MS65/OSB/MS65_OSB.tiling',\n",
    "                                      'Mount-2/MS65_megahit_assembled_contigs_osb/MS65_osb.contigs.fa.fai')\n"
   ]
  },
  {
   "cell_type": "code",
   "execution_count": 5,
   "metadata": {},
   "outputs": [],
   "source": [
    "OSA_Len = 2932766\n",
    "OSB_Len = 3046682"
   ]
  },
  {
   "cell_type": "code",
   "execution_count": 9,
   "metadata": {},
   "outputs": [
    {
     "data": {
      "image/png": "[encoded data removed]",
      "text/plain": [
       "<Figure size 1800x216 with 1 Axes>"
      ]
     },
     "metadata": {
      "needs_background": "light"
     },
     "output_type": "display_data"
    }
   ],
   "source": [
    "fig,ax = plt.subplots(1,1,figsize = (25,3))\n",
    "ctr = 0\n",
    "l=5\n",
    "ax.plot([0,OSA_Len],[l,l], linewidth = 10, color = 'black')\n",
    "for c in MS50_OSA:\n",
    "    #ax.plot([c[0], c[1]], [l-0.5,l-0.5], color = 'red', linewidth = 5)\n",
    "    ax.plot([c[0], c[1]], [ctr, ctr], color = 'black', linewidth=3)\n",
    "    ctr += 1\n",
    "    ctr = ctr%l\n",
    "ax.set_yticks([])\n",
    "#ax.set_title('MS50 OSA')\n",
    "fig.tight_layout()\n",
    "fig.savefig('fig-1.png',transparent=True, dpi = 100)"
   ]
  },
  {
   "cell_type": "code",
   "execution_count": null,
   "metadata": {},
   "outputs": [],
   "source": [
    "fig,ax = plt.subplots(1,1,figsize = (20,4))\n",
    "ctr = 0\n",
    "l=4\n",
    "ax.plot([0,OSA_Len],[l,l], linewidth = 10, color = 'black')\n",
    "for c in MS55_OSA:\n",
    "    ax.plot([c[0], c[1]], [l-0.5, l-0.5], color = 'red')\n",
    "    ax.plot([c[0], c[1]], [ctr, ctr], color = 'black')\n",
    "    ctr += 1\n",
    "    ctr = ctr%l\n",
    "ax.set_yticks([])\n",
    "ax.set_title('MS55 OSA')\n",
    "fig.tight_layout()\n",
    "fig.savefig('Research-Activities/Plots/Hot_Spring_Plots/OSA_OSB_Reassembly/MS55-OSA-Assembly-Mapping.png')"
   ]
  },
  {
   "cell_type": "code",
   "execution_count": null,
   "metadata": {},
   "outputs": [],
   "source": [
    "fig,ax = plt.subplots(1,1,figsize = (20,4))\n",
    "ctr = 0\n",
    "l=4\n",
    "ax.plot([0,OSA_Len],[l,l], linewidth = 10, color = 'black')\n",
    "for c in MS60_OSA:\n",
    "    ax.plot([c[0], c[1]], [l-0.5, l-0.5], color = 'red')\n",
    "    ax.plot([c[0], c[1]], [ctr, ctr], color = 'black')\n",
    "    ctr += 1\n",
    "    ctr = ctr%l\n",
    "ax.set_yticks([])\n",
    "ax.set_title('MS60 OSA')\n",
    "fig.tight_layout()\n",
    "fig.savefig('Research-Activities/Plots/Hot_Spring_Plots/OSA_OSB_Reassembly/MS60-OSA-Assembly-Mapping.png')"
   ]
  },
  {
   "cell_type": "code",
   "execution_count": null,
   "metadata": {},
   "outputs": [],
   "source": [
    "fig,ax = plt.subplots(1,1,figsize = (20,4))\n",
    "ctr = 0\n",
    "l=4\n",
    "ax.plot([0,OSA_Len],[l,l], linewidth = 10, color = 'black')\n",
    "for c in MS65_OSA:\n",
    "    ax.plot([c[0], c[1]], [l-0.5, l-0.5], color = 'red')\n",
    "    ax.plot([c[0], c[1]], [ctr, ctr], color = 'black')\n",
    "    ctr += 1\n",
    "    ctr = ctr%l\n",
    "ax.set_yticks([])\n",
    "ax.set_title('MS65 OSA')\n",
    "fig.tight_layout()\n",
    "fig.savefig('Research-Activities/Plots/Hot_Spring_Plots/OSA_OSB_Reassembly/MS65-OSA-Assembly-Mapping.png')"
   ]
  },
  {
   "cell_type": "code",
   "execution_count": null,
   "metadata": {},
   "outputs": [],
   "source": [
    "fig,ax = plt.subplots(1,1,figsize = (20,4))\n",
    "ctr = 0\n",
    "l=4\n",
    "ax.plot([0,OSB_Len],[l,l], linewidth = 10, color = 'black')\n",
    "for c in MS50_OSB:\n",
    "    ax.plot([c[0], c[1]], [l-0.5, l-0.5], color = 'red')\n",
    "    ax.plot([c[0], c[1]], [ctr, ctr], color = 'black')\n",
    "    ctr += 1\n",
    "    ctr = ctr%l\n",
    "ax.set_yticks([])\n",
    "ax.set_title('MS50 OSB')\n",
    "fig.tight_layout()\n",
    "fig.savefig('Research-Activities/Plots/Hot_Spring_Plots/OSA_OSB_Reassembly/MS50-OSB-Assembly-Mapping.png')"
   ]
  },
  {
   "cell_type": "code",
   "execution_count": null,
   "metadata": {},
   "outputs": [],
   "source": [
    "fig,ax = plt.subplots(1,1,figsize = (20,4))\n",
    "ctr = 0\n",
    "l=4\n",
    "ax.plot([0,OSB_Len],[l,l], linewidth = 10, color = 'black')\n",
    "for c in MS55_OSB:\n",
    "    ax.plot([c[0], c[1]], [l-0.5, l-0.5], color = 'red')\n",
    "    ax.plot([c[0], c[1]], [ctr, ctr], color = 'black')\n",
    "    ctr += 1\n",
    "    ctr = ctr%l\n",
    "ax.set_yticks([])\n",
    "ax.set_title('MS55 OSB')\n",
    "fig.tight_layout()\n",
    "fig.savefig('Research-Activities/Plots/Hot_Spring_Plots/OSA_OSB_Reassembly/MS55-OSB-Assembly-Mapping.png')"
   ]
  },
  {
   "cell_type": "code",
   "execution_count": null,
   "metadata": {},
   "outputs": [],
   "source": [
    "fig,ax = plt.subplots(1,1,figsize = (20,4))\n",
    "ctr = 0\n",
    "ax.plot([0,OSB_Len],[l,l], linewidth = 10, color = 'black')\n",
    "for c in MS60_OSB:\n",
    "    ax.plot([c[0], c[1]], [l-0.5, l-0.5], color = 'red')\n",
    "    ax.plot([c[0], c[1]], [ctr, ctr], color = 'black')\n",
    "    ctr += 1\n",
    "    ctr = ctr%l\n",
    "ax.set_yticks([])\n",
    "ax.set_title('MS60 OSB')\n",
    "fig.tight_layout()\n",
    "fig.savefig('Research-Activities/Plots/Hot_Spring_Plots/OSA_OSB_Reassembly/MS60-OSB-Assembly-Mapping.png')"
   ]
  },
  {
   "cell_type": "code",
   "execution_count": null,
   "metadata": {},
   "outputs": [],
   "source": [
    "fig,ax = plt.subplots(1,1,figsize = (20,4))\n",
    "ctr = 0\n",
    "ax.plot([0,OSB_Len],[l,l], linewidth = 10, color = 'black')\n",
    "for c in MS65_OSB:\n",
    "    ax.plot([c[0], c[1]], [l-0.5, l-0.5], color = 'red')\n",
    "    ax.plot([c[0], c[1]], [ctr, ctr], color = 'black')\n",
    "    ctr += 1\n",
    "    ctr = ctr%l\n",
    "ax.set_yticks([])\n",
    "ax.set_title('MS65 OSB')\n",
    "fig.tight_layout()\n",
    "fig.savefig('Research-Activities/Plots/Hot_Spring_Plots/OSA_OSB_Reassembly/MS65-OSB-Assembly-Mapping.png')"
   ]
  },
  {
   "cell_type": "code",
   "execution_count": null,
   "metadata": {},
   "outputs": [],
   "source": [
    "len(MS50_OSA), len(MS50_OSB)"
   ]
  },
  {
   "cell_type": "code",
   "execution_count": null,
   "metadata": {},
   "outputs": [],
   "source": [
    "len(MS55_OSA), len(MS55_OSB)"
   ]
  },
  {
   "cell_type": "code",
   "execution_count": null,
   "metadata": {},
   "outputs": [],
   "source": [
    "len(MS60_OSA), len(MS60_OSB)"
   ]
  },
  {
   "cell_type": "code",
   "execution_count": null,
   "metadata": {},
   "outputs": [],
   "source": [
    "len(MS65_OSA), len(MS65_OSB)"
   ]
  },
  {
   "cell_type": "code",
   "execution_count": null,
   "metadata": {},
   "outputs": [],
   "source": [
    "MS50_OSA"
   ]
  },
  {
   "cell_type": "code",
   "execution_count": null,
   "metadata": {},
   "outputs": [],
   "source": []
  }
 ],
 "metadata": {
  "kernelspec": {
   "display_name": "Python 3",
   "language": "python",
   "name": "python3"
  },
  "language_info": {
   "codemirror_mode": {
    "name": "ipython",
    "version": 3
   },
   "file_extension": ".py",
   "mimetype": "text/x-python",
   "name": "python",
   "nbconvert_exporter": "python",
   "pygments_lexer": "ipython3",
   "version": "3.7.3"
  }
 },
 "nbformat": 4,
 "nbformat_minor": 2
}
