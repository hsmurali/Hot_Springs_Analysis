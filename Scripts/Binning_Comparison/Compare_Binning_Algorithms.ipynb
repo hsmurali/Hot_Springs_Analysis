{
 "cells": [
  {
   "cell_type": "code",
   "execution_count": 1,
   "metadata": {},
   "outputs": [],
   "source": [
    "import numpy as np\n",
    "import pandas as pd\n",
    "from os import listdir\n",
    "\n",
    "filepath ='/Users/harihara/Mount/Hot_Springs_Analysis/Binning_Comparison/'\n",
    "files = listdir(filepath)"
   ]
  },
  {
   "cell_type": "code",
   "execution_count": 8,
   "metadata": {},
   "outputs": [
    {
     "name": "stdout",
     "output_type": "stream",
     "text": [
      "                    Node     Bin  Connected_Component            Sample  \\\n",
      "35494  Ga0308421_1000001     8.0                 2557  HotsprSampleMS60   \n",
      "20855  Ga0308421_1000002    24.0                  204  HotsprSampleMS60   \n",
      "35208  Ga0308421_1000003     3.0                 2510  HotsprSampleMS60   \n",
      "39598  Ga0308421_1000005     8.0                 3491  HotsprSampleMS60   \n",
      "43203  Ga0308421_1000006  1436.0                 4466  HotsprSampleMS60   \n",
      "\n",
      "       Length  \n",
      "35494  177589  \n",
      "20855  154001  \n",
      "35208  136122  \n",
      "39598  106272  \n",
      "43203  102702  \n",
      "                    Node     Bin  Connected_Component            Sample  \\\n",
      "35494  Ga0308421_1000001     8.0                 2557  HotsprSampleMS60   \n",
      "20855  Ga0308421_1000002    24.0                  204  HotsprSampleMS60   \n",
      "35208  Ga0308421_1000003     3.0                 2510  HotsprSampleMS60   \n",
      "39598  Ga0308421_1000005     8.0                 3491  HotsprSampleMS60   \n",
      "43203  Ga0308421_1000006  1436.0                 4466  HotsprSampleMS60   \n",
      "\n",
      "       Length  \n",
      "35494  177589  \n",
      "20855  154001  \n",
      "35208  136122  \n",
      "39598  106272  \n",
      "43203  102702  \n"
     ]
    }
   ],
   "source": [
    "df_op = pd.DataFrame()\n",
    "for f in files:\n",
    "    if f[0] == '.':\n",
    "        continue\n",
    "    df = pd.read_csv(filepath+f, low_memory = False)\n",
    "    df = df.drop_duplicates(subset = ['Node'])\n",
    "    df['Bin'].fillna(-1, inplace = True)\n",
    "    df = df.sort_values(by = 'Node')\n",
    "    binned_length = df[df['Bin'] > 0]['Length'].sum()\n",
    "    unbinned_length = df[df['Bin']<=0]['Length'].sum()\n",
    "    unbinned_gr_3000 = len(df[(df['Bin'] <= 0) & (df['Length'] >= 3000)])\n",
    "    unbinned_lt_3000 = len(df[(df['Bin'] <= 0) & (df['Length'] < 3000)])\n",
    "    print(df.head())\n",
    "    d = dict()\n",
    "    d = {'Sample':f, \n",
    "         '#Bins':len(df['Bin'].unique()),\n",
    "         '#Connected_Components':len(df['Connected_Component'].unique()),\n",
    "         '#Contigs':len(df),\n",
    "         '#Binned_Contigs':len(df[df['Bin'] > 0]),\n",
    "         '#Contigs_Bin=0' : len(df[df['Bin'] == 0]),\n",
    "         '#Contigs_Bin=-1' : len(df[df['Bin'] == -1]),\n",
    "         'Binned Length':binned_length,\n",
    "         'Unbinned Length':unbinned_length,\n",
    "         'Unbinned Length (>3kb)':unbinned_gr_3000,\n",
    "         'Unbinned Length (<3kb)':unbinned_lt_3000\n",
    "        }\n",
    "    df_op = df_op.append(d, ignore_index = True)"
   ]
  },
  {
   "cell_type": "code",
   "execution_count": 9,
   "metadata": {},
   "outputs": [
    {
     "data": {
      "text/html": [
       "<div>\n",
       "<style scoped>\n",
       "    .dataframe tbody tr th:only-of-type {\n",
       "        vertical-align: middle;\n",
       "    }\n",
       "\n",
       "    .dataframe tbody tr th {\n",
       "        vertical-align: top;\n",
       "    }\n",
       "\n",
       "    .dataframe thead th {\n",
       "        text-align: right;\n",
       "    }\n",
       "</style>\n",
       "<table border=\"1\" class=\"dataframe\">\n",
       "  <thead>\n",
       "    <tr style=\"text-align: right;\">\n",
       "      <th></th>\n",
       "      <th>#Binned_Contigs</th>\n",
       "      <th>#Bins</th>\n",
       "      <th>#Connected_Components</th>\n",
       "      <th>#Contigs</th>\n",
       "      <th>#Contigs_Bin=-1</th>\n",
       "      <th>#Contigs_Bin=0</th>\n",
       "      <th>Binned Length</th>\n",
       "      <th>Sample</th>\n",
       "      <th>Unbinned Length</th>\n",
       "      <th>Unbinned Length (&lt;3kb)</th>\n",
       "      <th>Unbinned Length (&gt;3kb)</th>\n",
       "    </tr>\n",
       "  </thead>\n",
       "  <tbody>\n",
       "    <tr>\n",
       "      <th>0</th>\n",
       "      <td>10071.0</td>\n",
       "      <td>48.0</td>\n",
       "      <td>21696.0</td>\n",
       "      <td>74885.0</td>\n",
       "      <td>40539.0</td>\n",
       "      <td>24275.0</td>\n",
       "      <td>73671097.0</td>\n",
       "      <td>MS60_Metabat_1000.csv</td>\n",
       "      <td>68776396.0</td>\n",
       "      <td>63855.0</td>\n",
       "      <td>959.0</td>\n",
       "    </tr>\n",
       "    <tr>\n",
       "      <th>1</th>\n",
       "      <td>7967.0</td>\n",
       "      <td>45.0</td>\n",
       "      <td>21696.0</td>\n",
       "      <td>74885.0</td>\n",
       "      <td>40539.0</td>\n",
       "      <td>26379.0</td>\n",
       "      <td>67637892.0</td>\n",
       "      <td>MS60_Metabat_3000.csv</td>\n",
       "      <td>74809601.0</td>\n",
       "      <td>65815.0</td>\n",
       "      <td>1103.0</td>\n",
       "    </tr>\n",
       "  </tbody>\n",
       "</table>\n",
       "</div>"
      ],
      "text/plain": [
       "   #Binned_Contigs  #Bins  #Connected_Components  #Contigs  #Contigs_Bin=-1  \\\n",
       "0          10071.0   48.0                21696.0   74885.0          40539.0   \n",
       "1           7967.0   45.0                21696.0   74885.0          40539.0   \n",
       "\n",
       "   #Contigs_Bin=0  Binned Length                 Sample  Unbinned Length  \\\n",
       "0         24275.0     73671097.0  MS60_Metabat_1000.csv       68776396.0   \n",
       "1         26379.0     67637892.0  MS60_Metabat_3000.csv       74809601.0   \n",
       "\n",
       "   Unbinned Length (<3kb)  Unbinned Length (>3kb)  \n",
       "0                 63855.0                   959.0  \n",
       "1                 65815.0                  1103.0  "
      ]
     },
     "execution_count": 9,
     "metadata": {},
     "output_type": "execute_result"
    }
   ],
   "source": [
    "df_op"
   ]
  },
  {
   "cell_type": "code",
   "execution_count": 4,
   "metadata": {},
   "outputs": [
    {
     "data": {
      "text/plain": [
       "array([   8,   24,    3, 1436,   46,   33,  194,   30,   34,  312,   64,\n",
       "         52,   69,  249,  113,  502,  500,  131,  409,  503,  144,  504,\n",
       "        210,  258,  434,    0, 1780, 2935,  741, 1635, 1512,  760, 1539,\n",
       "        727, 7056, 1553, 1052, 1102, 3087, 1335, 3502, 1587, 1990, 3015,\n",
       "       4859])"
      ]
     },
     "execution_count": 4,
     "metadata": {},
     "output_type": "execute_result"
    }
   ],
   "source": []
  },
  {
   "cell_type": "code",
   "execution_count": null,
   "metadata": {},
   "outputs": [],
   "source": []
  }
 ],
 "metadata": {
  "kernelspec": {
   "display_name": "Python 3",
   "language": "python",
   "name": "python3"
  },
  "language_info": {
   "codemirror_mode": {
    "name": "ipython",
    "version": 3
   },
   "file_extension": ".py",
   "mimetype": "text/x-python",
   "name": "python",
   "nbconvert_exporter": "python",
   "pygments_lexer": "ipython3",
   "version": "3.7.3"
  }
 },
 "nbformat": 4,
 "nbformat_minor": 2
}
