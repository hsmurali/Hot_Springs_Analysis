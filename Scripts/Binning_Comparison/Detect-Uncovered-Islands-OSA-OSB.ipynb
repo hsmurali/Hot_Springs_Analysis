{
 "cells": [
  {
   "cell_type": "code",
   "execution_count": 1,
   "metadata": {},
   "outputs": [],
   "source": [
    "from os import listdir, mkdir\n",
    "from os.path import isdir\n",
    "\n",
    "def Return_Islands_List(filepath, thresh = 100):\n",
    "    lines = open(filepath,'r').readlines()\n",
    "    wig_list = lines[0:2]\n",
    "    lines = lines[2:]+['100\\n']\n",
    "    l_start, l_end, flag = -1, -1, True\n",
    "    Break_List, Flag_List = [], ['0\\n']*(len(lines)-1)\n",
    "    for i in range(len(lines)-1):\n",
    "        curr = int(lines[i].replace(\"\\n\",\"\"))\n",
    "        nxt = int(lines[i+1].replace(\"\\n\",\"\"))\n",
    "        if flag == True and curr == 0:\n",
    "            l_start = i\n",
    "            flag = False\n",
    "        if flag == False and curr == 0 and nxt != 0:\n",
    "            l_end = i\n",
    "            flag = True\n",
    "            if (l_end-l_start+1 >= thresh):\n",
    "                Break_List.append(str(l_start)+'\\t'+str(l_end)+'\\n')\n",
    "                Flag_List[l_start:l_end+1] = ['1\\n']*(l_end-l_start+1)\n",
    "    wig_list = wig_list + Flag_List\n",
    "    print(len(wig_list))\n",
    "    return Break_List, wig_list\n",
    "                \n"
   ]
  },
  {
   "cell_type": "code",
   "execution_count": 2,
   "metadata": {},
   "outputs": [
    {
     "name": "stdout",
     "output_type": "stream",
     "text": [
      "2932768\n",
      "3046684\n",
      "MS50\n",
      "2932768\n",
      "3046684\n",
      "MS55\n",
      "2932768\n",
      "3046684\n",
      "MS60\n",
      "2932768\n",
      "3046684\n",
      "MS65\n"
     ]
    }
   ],
   "source": [
    "filedir = 'Mount-3/Strain_Analysis/Synechococcus_pilon/'\n",
    "outdir = 'Mount-3/Strain_Analysis/Synechococcus_Breaks/'\n",
    "if not isdir(outdir):\n",
    "    mkdir(outdir)\n",
    "\n",
    "samples = ['MS50','MS55','MS60','MS65']\n",
    "\n",
    "for s in samples:\n",
    "    if not isdir(outdir+s+'/'):\n",
    "        mkdir(outdir+s+'/')\n",
    "        \n",
    "    Break_List, Wig_List = Return_Islands_List(filedir+s+'_pilon/'+s+'_pilon_osaCoverage.wig')\n",
    "    f = open(outdir+s+'/OSA-BreakList','w')\n",
    "    f.writelines(Break_List)\n",
    "    f.close()\n",
    "    \n",
    "    f = open(outdir+s+'/OSA-BreakFlags.wig','w')\n",
    "    f.writelines(Wig_List)\n",
    "    f.close()\n",
    "    \n",
    "    Break_List, Wig_List = Return_Islands_List(filedir+s+'_pilon/'+s+'_pilon_osbCoverage.wig')\n",
    "    f = open(outdir+s+'/OSB-BreakList','w')\n",
    "    f.writelines(Break_List)\n",
    "    f.close()\n",
    "    \n",
    "    f = open(outdir+s+'/OSB-BreakFlags.wig','w')\n",
    "    f.writelines(Wig_List)\n",
    "    f.close()\n",
    "    \n",
    "    print(s)\n",
    "    "
   ]
  },
  {
   "cell_type": "code",
   "execution_count": null,
   "metadata": {},
   "outputs": [],
   "source": []
  }
 ],
 "metadata": {
  "kernelspec": {
   "display_name": "Python 3",
   "language": "python",
   "name": "python3"
  },
  "language_info": {
   "codemirror_mode": {
    "name": "ipython",
    "version": 3
   },
   "file_extension": ".py",
   "mimetype": "text/x-python",
   "name": "python",
   "nbconvert_exporter": "python",
   "pygments_lexer": "ipython3",
   "version": "3.7.3"
  }
 },
 "nbformat": 4,
 "nbformat_minor": 2
}
