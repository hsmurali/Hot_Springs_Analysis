{
 "cells": [
  {
   "cell_type": "code",
   "execution_count": 1,
   "metadata": {},
   "outputs": [],
   "source": [
    "import numpy as np\n",
    "import pandas as pd\n",
    "from os import listdir\n",
    "\n",
    "def Breadth_of_Coverage(group):\n",
    "    length = group.iloc[0]['SLen']\n",
    "    cov = np.zeros(length)\n",
    "    starts = group['SStart'].tolist()\n",
    "    ends = group['SEnd'].tolist()\n",
    "    for i in range(0, len(starts)):\n",
    "        cov[starts[i]:ends[i]]=1\n",
    "    return cov.sum()/length*100.0\n",
    "\n",
    "def Avg_Depth_of_Coverage(group):\n",
    "    length = group.iloc[0]['SLen']\n",
    "    cov = np.zeros(length)\n",
    "    starts = group['SStart'].tolist()\n",
    "    ends = group['SEnd'].tolist()\n",
    "    for i in range(0, len(starts)):\n",
    "        cov[starts[i]:ends[i]]+=1\n",
    "    return cov.mean()"
   ]
  },
  {
   "cell_type": "code",
   "execution_count": 2,
   "metadata": {},
   "outputs": [],
   "source": [
    "data_dir = '/Users/harihara/Mount-2/hotspring_metagenome/single_cell_analysis_with_Gabe_Birzu/map_to_O_allele/Filtered_O_Allele_Alignments_Bowtie2.txt'\n",
    "df = pd.read_csv(data_dir, sep = \"\\t\")\n",
    "df_grouped = df.groupby(['Sample', 'Subject'])"
   ]
  },
  {
   "cell_type": "code",
   "execution_count": 3,
   "metadata": {},
   "outputs": [],
   "source": [
    "df_stats = pd.DataFrame()\n",
    "df_stats['Breadth_Coverage'] = df_grouped.apply(Breadth_of_Coverage)\n",
    "df_stats['Avg_Depth_Coverage'] = df_grouped.apply(Avg_Depth_of_Coverage)\n",
    "df_stats['Num_Reads'] = df_grouped['Query'].agg(['count'])\n",
    "df_stats[['Breadth_Coverage','Avg_Depth_Coverage']] = df_stats[['Breadth_Coverage','Avg_Depth_Coverage']].round(2)\n",
    "df_stats = df_stats.reset_index()"
   ]
  },
  {
   "cell_type": "code",
   "execution_count": 5,
   "metadata": {},
   "outputs": [],
   "source": [
    "T = df_stats.pivot_table(index = 'Subject', columns = 'Sample',\n",
    "                         values = ['Breadth_Coverage', 'Avg_Depth_Coverage', 'Num_Reads'])\n",
    "X = T.swaplevel(0,1,axis = 'columns')\n",
    "cols = df_stats['Sample'].unique().tolist()\n",
    "X = X.reindex(columns=X.columns.reindex(cols, level=0)[0])\n",
    "X.columns.names = ('Sample', 'Stat')\n",
    "X = X.fillna(0)"
   ]
  },
  {
   "cell_type": "code",
   "execution_count": 6,
   "metadata": {},
   "outputs": [],
   "source": [
    "X.to_excel('/Users/harihara/Research-Activities/Data/Hot-Spring/O_Ortholog_Allele_Bowtie2.xlsx')"
   ]
  },
  {
   "cell_type": "code",
   "execution_count": null,
   "metadata": {},
   "outputs": [],
   "source": []
  }
 ],
 "metadata": {
  "kernelspec": {
   "display_name": "Python 3",
   "language": "python",
   "name": "python3"
  },
  "language_info": {
   "codemirror_mode": {
    "name": "ipython",
    "version": 3
   },
   "file_extension": ".py",
   "mimetype": "text/x-python",
   "name": "python",
   "nbconvert_exporter": "python",
   "pygments_lexer": "ipython3",
   "version": "3.7.3"
  }
 },
 "nbformat": 4,
 "nbformat_minor": 2
}
