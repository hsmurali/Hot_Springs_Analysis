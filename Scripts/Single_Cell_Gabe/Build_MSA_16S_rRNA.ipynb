{
 "cells": [
  {
   "cell_type": "code",
   "execution_count": 1,
   "metadata": {},
   "outputs": [],
   "source": [
    "from Utils_MSA import *\n",
    "from importlib import reload\n",
    "    \n",
    "rcParams = {'font.size': 24, 'font.weight': 'normal', 'font.family': 'sans-serif',\n",
    "            'axes.unicode_minus':False, 'axes.labelweight':'normal'}\n",
    "plt.rcParams.update(rcParams)\n",
    "\n",
    "import warnings\n",
    "warnings.filterwarnings('ignore')\n",
    "warnings.simplefilter('ignore')"
   ]
  },
  {
   "cell_type": "code",
   "execution_count": 2,
   "metadata": {},
   "outputs": [],
   "source": [
    "filedir = '/Users/harihara/Mount-2/hotspring_metagenome/single_cell_analysis_with_Gabe_Birzu/16S_Read_Alignments/'\n",
    "samples = listdir(filedir+'Alpha_Alleles/paf_files/')\n",
    "\n",
    "fdir = '/Users/harihara/Mount-2/hotspring_metagenome/single_cell_analysis_with_Gabe_Birzu/16S_Gene_Segments/'\n",
    "out = {}\n",
    "for f in ['Synechococcus_Alpha_16SrRNA','Synechococcus_Beta_16SrRNA','Synechococcus_Gamma_16SrRNA']:\n",
    "    lines = open(fdir+f+'.fna').readlines()\n",
    "    s = ''\n",
    "    for l in lines:\n",
    "        if not l.startswith('>'):\n",
    "            s += l.replace(\"\\n\",\"\")\n",
    "    out[f.replace(\"Synechococcus_\",\"\").replace(\"_16SrRNA\",\"\")] = s    "
   ]
  },
  {
   "cell_type": "code",
   "execution_count": 9,
   "metadata": {
    "scrolled": true
   },
   "outputs": [
    {
     "name": "stdout",
     "output_type": "stream",
     "text": [
      "HotsprSampOS1265_FD.paf\n",
      "365 23271\n",
      "192 22459\n",
      "1427 27198\n",
      "dict_keys(['Alpha', 'Beta', 'Gamma'])\n",
      "Alpha 135 136\n",
      "Beta 4 5\n",
      "Gamma 38 39\n",
      "HotsprSampleOS50_FD.paf\n",
      "1671 12940\n",
      "291 12749\n",
      "2192 14706\n",
      "dict_keys(['Alpha', 'Beta', 'Gamma'])\n",
      "Alpha 135 136\n",
      "Beta 141 142\n",
      "Gamma 38 39\n",
      "HotsprSampleOS60_FD.paf\n",
      "1542 45194\n",
      "384 42930\n",
      "5497 54200\n",
      "dict_keys(['Alpha', 'Beta', 'Gamma'])\n",
      "Alpha 311 312\n",
      "Beta 143 144\n",
      "Gamma 45 46\n",
      "HotsprSampleOSM1_FD.paf\n",
      "944 43054\n",
      "545 42032\n",
      "4660 51885\n",
      "dict_keys(['Alpha', 'Beta', 'Gamma'])\n",
      "Alpha 487 488\n",
      "Beta 149 150\n",
      "Gamma 49 50\n",
      "HotsprSampOS1260_FD.paf\n",
      "717 40258\n",
      "365 39356\n",
      "3818 48132\n",
      "dict_keys(['Alpha', 'Beta', 'Gamma'])\n",
      "Alpha 606 607\n",
      "Beta 155 156\n",
      "Gamma 51 52\n",
      "HotsprSampleOSM2_FD.paf\n",
      "765 11573\n",
      "285 11161\n",
      "3360 15915\n",
      "dict_keys(['Alpha', 'Beta', 'Gamma'])\n",
      "Alpha 642 643\n",
      "Beta 165 166\n",
      "Gamma 52 53\n",
      "HotsprSampleOSM3_FD.paf\n",
      "1778 32374\n",
      "332 31485\n",
      "5267 39842\n",
      "dict_keys(['Alpha', 'Beta', 'Gamma'])\n",
      "Alpha 730 731\n",
      "Beta 204 205\n",
      "Gamma 58 59\n",
      "HotsprSampleOS65_FD.paf\n",
      "1939 13556\n",
      "324 13245\n",
      "4455 17643\n",
      "dict_keys(['Alpha', 'Beta', 'Gamma'])\n",
      "Alpha 731 732\n",
      "Beta 255 256\n",
      "HotsprSampleOSM4_FD.paf\n",
      "2894 39587\n",
      "273 39009\n",
      "5263 46473\n",
      "dict_keys(['Alpha', 'Beta', 'Gamma'])\n",
      "Alpha 789 790\n",
      "Beta 333 334\n",
      "HotsprSampleOS55_FD.paf\n",
      "1755 44550\n",
      "394 41980\n",
      "5567 53271\n",
      "dict_keys(['Alpha', 'Beta', 'Gamma'])\n",
      "Alpha 926 927\n",
      "Beta 333 334\n",
      "Gamma 68 69\n"
     ]
    }
   ],
   "source": [
    "start = 400\n",
    "end = 600\n",
    "MSA = {'Alpha':{'Alpha_Ref':out['Alpha'][start:end]}, 'Beta':{'Beta_Ref':out['Beta'][start:end]}, \n",
    "       'Gamma':{'Gamma_Ref':out['Gamma'][start:end]}}\n",
    "\n",
    "MSA_duplicates = {'Alpha':dict({}), 'Beta':dict({}), 'Gamma':dict({})}\n",
    "df_op = pd.DataFrame()\n",
    "retain_duplicates = True\n",
    "\n",
    "for s in samples:\n",
    "    if 'OS' not in s or 'Mat' in s:\n",
    "        continue\n",
    "    print(s)\n",
    "    \n",
    "    df_alpha = Load_PAF(filedir+'Alpha_Alleles/paf_files/'+s, s)\n",
    "    df_beta = Load_PAF(filedir+'Beta_Alleles/paf_files/'+s, s)\n",
    "    df_gamma = Load_PAF(filedir+'Gamma_Alleles/paf_files/'+s, s)\n",
    "    \n",
    "    Temp = pd.DataFrame()\n",
    "    Temp = Temp.append(df_alpha).append(df_beta).append(df_gamma)\n",
    "    df_op = df_op.append(Temp, ignore_index = True)\n",
    "    \n",
    "    D = Create_MSA(Temp, start, end, s, out)\n",
    "    print(MSA.keys())\n",
    "    if retain_duplicates == False:\n",
    "        for a in MSA.keys():\n",
    "            try:\n",
    "                MSA[a].update(D[a])\n",
    "            except KeyError:\n",
    "                print('Key Missing', a)\n",
    "    else:\n",
    "        for a in D.keys():\n",
    "            for o in D[a]:\n",
    "                if D[a][o] not in MSA_duplicates[a]:\n",
    "                    MSA[a][o] = D[a][o]\n",
    "                    MSA_duplicates[a][D[a][o]] = [o]\n",
    "                else:\n",
    "                    MSA_duplicates[a][D[a][o]].append(o)  \n",
    "            print(a, len(MSA_duplicates[a]), len(MSA[a]))\n",
    "          "
   ]
  },
  {
   "cell_type": "code",
   "execution_count": 10,
   "metadata": {},
   "outputs": [],
   "source": [
    "alpha = MSA['Alpha']['Alpha_Ref']\n",
    "beta = MSA['Beta']['Beta_Ref']\n",
    "gamma = MSA['Gamma']['Gamma_Ref']\n",
    "\n",
    "del MSA['Alpha']['Alpha_Ref'],MSA['Beta']['Beta_Ref'],MSA['Gamma']['Gamma_Ref']"
   ]
  },
  {
   "cell_type": "code",
   "execution_count": 11,
   "metadata": {},
   "outputs": [],
   "source": [
    "d_alpha_beta, tracker_alpha_beta = Edit(alpha, beta)\n",
    "Align_alpha, Align_beta = Return_Alignments(tracker_alpha_beta, alpha, beta)\n",
    "\n",
    "d_alpha_beta_gamma, tracker_alpha_beta_gamma = Edit(Align_alpha, gamma) \n",
    "Align_alpha_gamma, Align_gamma = Return_Alignments(tracker_alpha_beta_gamma, Align_alpha, gamma, '+')\n",
    "Align_beta_gamma = Merge_MSA(Align_alpha_gamma, {'Beta':Align_beta}, '+')['Beta']\n",
    "\n",
    "Alpha_backbone = Align_alpha_gamma.replace(\"+\",\"-\")\n",
    "Beta_backbone = Align_beta_gamma.replace(\"+\",\"-\")\n",
    "Gamma_backbone = Align_gamma.replace(\"+\",\"-\")\n",
    "\n",
    "assert ((len(Alpha_backbone) == len(Beta_backbone)) & \n",
    "        (len(Gamma_backbone) == len(Beta_backbone))), \"Length Mismatch\""
   ]
  },
  {
   "cell_type": "code",
   "execution_count": 12,
   "metadata": {},
   "outputs": [
    {
     "name": "stdout",
     "output_type": "stream",
     "text": [
      "1330\n"
     ]
    }
   ],
   "source": [
    "MSA_alpha = Merge_MSA(Alpha_backbone, MSA['Alpha'], '-')\n",
    "MSA_beta = Merge_MSA(Beta_backbone, MSA['Beta'], '-')\n",
    "MSA_gamma = Merge_MSA(Gamma_backbone, MSA['Gamma'], '-')\n",
    "\n",
    "MSA_All = MSA_alpha.copy()\n",
    "MSA_All.update(MSA_beta)\n",
    "MSA_All.update(MSA_gamma)\n",
    "\n",
    "MSA_All['Alpha'] = Alpha_backbone\n",
    "MSA_All['Beta'] = Beta_backbone\n",
    "MSA_All['Gamma'] = Gamma_backbone\n",
    "\n",
    "print(len(MSA_All))"
   ]
  },
  {
   "cell_type": "code",
   "execution_count": 13,
   "metadata": {},
   "outputs": [],
   "source": [
    "o = open('/Users/harihara/Mount-2/hotspring_metagenome/single_cell_analysis_with_Gabe_Birzu/\\\n",
    "16S_Read_Alignments/MSA_OS_'+str(start)+'_'+str(end)+'.fasta','w')\n",
    "for M in MSA_All:\n",
    "    o.write(\">\"+M+\"\\n\")\n",
    "    o.write(MSA_All[M]+\"\\n\")\n",
    "o.close()\n",
    "o = open('/Users/harihara/Mount-2/hotspring_metagenome/single_cell_analysis_with_Gabe_Birzu/\\\n",
    "16S_Read_Alignments/MSA_OS_'+str(start)+'_'+str(end)+'_Duplicates.dict','w')\n",
    "o.write(str(MSA_duplicates))\n",
    "o.close()"
   ]
  },
  {
   "cell_type": "code",
   "execution_count": null,
   "metadata": {},
   "outputs": [],
   "source": []
  }
 ],
 "metadata": {
  "kernelspec": {
   "display_name": "Python 3",
   "language": "python",
   "name": "python3"
  },
  "language_info": {
   "codemirror_mode": {
    "name": "ipython",
    "version": 3
   },
   "file_extension": ".py",
   "mimetype": "text/x-python",
   "name": "python",
   "nbconvert_exporter": "python",
   "pygments_lexer": "ipython3",
   "version": "3.7.3"
  }
 },
 "nbformat": 4,
 "nbformat_minor": 2
}
