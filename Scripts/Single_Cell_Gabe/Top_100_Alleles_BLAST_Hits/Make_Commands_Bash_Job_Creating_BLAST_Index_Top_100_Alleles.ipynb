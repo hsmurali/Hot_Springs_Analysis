{
 "cells": [
  {
   "cell_type": "code",
   "execution_count": 13,
   "metadata": {},
   "outputs": [],
   "source": [
    "from os import listdir, mkdir\n",
    "from os.path import isfile, isdir"
   ]
  },
  {
   "cell_type": "code",
   "execution_count": 14,
   "metadata": {},
   "outputs": [],
   "source": [
    "data_dir = '/Users/harihara/Mount-2/hotspring_metagenome/single_cell_analysis_with_Gabe_Birzu/\\\n",
    "C_Allele_Relative_Abundance_Apr_2023/BLAST_Hits/'\n",
    "\n",
    "prog_path = '/fs/cbcb-scratch/hsmurali/Hot_Springs_Analysis/Scripts/Strain-Analysis/Single_Cell_Gabe/\\\n",
    "Top_100_Alleles_BLAST_Hits/Make_BLAST_DB_Top_100_Alleles.sh'\n",
    "\n",
    "data_dir_prefix = '/fs/cbcb-lab/mpop/hotspring_metagenome/single_cell_analysis_with_Gabe_Birzu/\\\n",
    "C_Allele_Relative_Abundance_Apr_2023/BLAST_Hits/'\n"
   ]
  },
  {
   "cell_type": "code",
   "execution_count": 16,
   "metadata": {},
   "outputs": [
    {
     "name": "stdout",
     "output_type": "stream",
     "text": [
      "A\n",
      "B\n",
      "C\n"
     ]
    }
   ],
   "source": [
    "allele_types = ['A','B','C']\n",
    "prog_dir = '/Users/harihara/Mount/Hot_Springs_Analysis/Scripts/Strain-Analysis/Single_Cell_Gabe/\\\n",
    "Top_100_Alleles_BLAST_Hits/'\n",
    "if not isdir(prog_dir):\n",
    "    mkdir(prog_dir)\n",
    "out = open(prog_dir+'Make_BLAST_DB_Top_100_Alleles_Submit.sh', 'w')\n",
    "out.write('#!/bin/bash\\n')\n",
    "\n",
    "for a in allele_types:\n",
    "    A_Alleles = listdir(data_dir+a+'_Alleles/')\n",
    "    for A in A_Alleles:\n",
    "        test = data_dir+a+'_Alleles/'+A+'/'+A+'.fasta'\n",
    "        seq_path = data_dir_prefix+a+'_Alleles/'+A+'/'+A+'.fasta'\n",
    "        out_path = data_dir_prefix+a+'_Alleles/'+A+'/'+A+'.IDX'\n",
    "        assert isfile(test) == True, seq_path + \" missing!!!\"\n",
    "        out.write('sbatch ' + prog_path +' '+seq_path+' '+out_path+'\\n')\n",
    "    print(a)\n",
    "out.close()"
   ]
  },
  {
   "cell_type": "code",
   "execution_count": null,
   "metadata": {},
   "outputs": [],
   "source": []
  }
 ],
 "metadata": {
  "kernelspec": {
   "display_name": "Python 3",
   "language": "python",
   "name": "python3"
  },
  "language_info": {
   "codemirror_mode": {
    "name": "ipython",
    "version": 3
   },
   "file_extension": ".py",
   "mimetype": "text/x-python",
   "name": "python",
   "nbconvert_exporter": "python",
   "pygments_lexer": "ipython3",
   "version": "3.7.3"
  }
 },
 "nbformat": 4,
 "nbformat_minor": 2
}
