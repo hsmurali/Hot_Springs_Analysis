{
 "cells": [
  {
   "cell_type": "code",
   "execution_count": 1,
   "metadata": {},
   "outputs": [],
   "source": [
    "from os import listdir, mkdir\n",
    "from os.path import isfile, isdir\n"
   ]
  },
  {
   "cell_type": "code",
   "execution_count": 2,
   "metadata": {},
   "outputs": [],
   "source": [
    "data_dir = '/Users/harihara/Mount-2/hotspring_metagenome/single_cell_analysis_with_Gabe_Birzu/\\\n",
    "C_Allele_Relative_Abundance_Apr_2023/BLAST_Hits/'\n",
    "\n",
    "prog_path = '/fs/cbcb-scratch/hsmurali/Hot_Springs_Analysis/Scripts/Strain-Analysis/Single_Cell_Gabe/\\\n",
    "Top_100_Alleles_BLAST_Hits/Run_BLAST.sh'\n",
    "\n",
    "data_dir_prefix = '/fs/cbcb-lab/mpop/hotspring_metagenome/single_cell_analysis_with_Gabe_Birzu/\\\n",
    "C_Allele_Relative_Abundance_Apr_2023/BLAST_Hits/'\n",
    "\n",
    "reads_dir = '/Users/harihara/Mount-2/hotspring_metagenome/single_cell_analysis_with_Gabe_Birzu/\\\n",
    "C_Allele_Relative_Abundance_Sep/BLAST_Comparison/'\n",
    "\n",
    "read_id_prefix = '/fs/cbcb-lab/mpop/hotspring_metagenome/single_cell_analysis_with_Gabe_Birzu/\\\n",
    "C_Allele_Relative_Abundance_Sep/BLAST_Comparison/'"
   ]
  },
  {
   "cell_type": "code",
   "execution_count": 3,
   "metadata": {},
   "outputs": [],
   "source": [
    "out_dir = data_dir+'BLAST_Hits_E_1e3/'\n",
    "if not isdir(out_dir):\n",
    "    mkdir(out_dir)\n",
    "\n",
    "if not isdir(out_dir+'A_Alleles/'):    \n",
    "    mkdir(out_dir+'A_Alleles/')\n",
    "if not isdir(out_dir+'B_Alleles/'):    \n",
    "    mkdir(out_dir+'B_Alleles/')\n",
    "if not isdir(out_dir+'C_Alleles/'):    \n",
    "    mkdir(out_dir+'C_Alleles/')\n"
   ]
  },
  {
   "cell_type": "code",
   "execution_count": 9,
   "metadata": {
    "scrolled": false
   },
   "outputs": [
    {
     "name": "stdout",
     "output_type": "stream",
     "text": [
      "/Users/harihara/Mount-2/hotspring_metagenome/single_cell_analysis_with_Gabe_Birzu/C_Allele_Relative_Abundance_Apr_2023/BLAST_Hits/BLAST_Hits_E_1e3/A_Alleles/YSG_1744_alleles_Ga0393436_017_26672_27652_A_allele/MS50/\n",
      "/Users/harihara/Mount-2/hotspring_metagenome/single_cell_analysis_with_Gabe_Birzu/C_Allele_Relative_Abundance_Apr_2023/BLAST_Hits/BLAST_Hits_E_1e3/A_Alleles/YSG_2188_alleles_Ga0393436_001_1763_3661_A_allele/MS50/\n",
      "/Users/harihara/Mount-2/hotspring_metagenome/single_cell_analysis_with_Gabe_Birzu/C_Allele_Relative_Abundance_Apr_2023/BLAST_Hits/BLAST_Hits_E_1e3/A_Alleles/YSG_0290c_alleles_Ga0393436_058_8159_8821_A_allele/MS50/\n",
      "/Users/harihara/Mount-2/hotspring_metagenome/single_cell_analysis_with_Gabe_Birzu/C_Allele_Relative_Abundance_Apr_2023/BLAST_Hits/BLAST_Hits_E_1e3/A_Alleles/YSG_0096b_alleles_Ga0393436_014_826_3426_A_allele/MS50/\n",
      "/Users/harihara/Mount-2/hotspring_metagenome/single_cell_analysis_with_Gabe_Birzu/C_Allele_Relative_Abundance_Apr_2023/BLAST_Hits/BLAST_Hits_E_1e3/A_Alleles/YSG_1447b_alleles_Ga0393436_028_7797_8984_A_allele/MS50/\n",
      "/Users/harihara/Mount-2/hotspring_metagenome/single_cell_analysis_with_Gabe_Birzu/C_Allele_Relative_Abundance_Apr_2023/BLAST_Hits/BLAST_Hits_E_1e3/A_Alleles/YSG_0966_alleles_Ga0393436_001_76195_78024_A_allele/MS50/\n",
      "/Users/harihara/Mount-2/hotspring_metagenome/single_cell_analysis_with_Gabe_Birzu/C_Allele_Relative_Abundance_Apr_2023/BLAST_Hits/BLAST_Hits_E_1e3/A_Alleles/YSG_0872_alleles_Ga0393436_033_10381_11850_A_allele/MS50/\n",
      "/Users/harihara/Mount-2/hotspring_metagenome/single_cell_analysis_with_Gabe_Birzu/C_Allele_Relative_Abundance_Apr_2023/BLAST_Hits/BLAST_Hits_E_1e3/A_Alleles/YSG_0699_alleles_Ga0393436_034_1225_2541_A_allele/MS50/\n",
      "/Users/harihara/Mount-2/hotspring_metagenome/single_cell_analysis_with_Gabe_Birzu/C_Allele_Relative_Abundance_Apr_2023/BLAST_Hits/BLAST_Hits_E_1e3/A_Alleles/YSG_1319_alleles_Ga0393436_031_4952_6442_A_allele/MS50/\n",
      "/Users/harihara/Mount-2/hotspring_metagenome/single_cell_analysis_with_Gabe_Birzu/C_Allele_Relative_Abundance_Apr_2023/BLAST_Hits/BLAST_Hits_E_1e3/A_Alleles/YSG_1748_alleles_Ga0393436_006_22613_23683_A_allele/MS50/\n",
      "/Users/harihara/Mount-2/hotspring_metagenome/single_cell_analysis_with_Gabe_Birzu/C_Allele_Relative_Abundance_Apr_2023/BLAST_Hits/BLAST_Hits_E_1e3/A_Alleles/YSG_0898_alleles_Ga0393436_021_194_1480_A_allele/MS50/\n",
      "/Users/harihara/Mount-2/hotspring_metagenome/single_cell_analysis_with_Gabe_Birzu/C_Allele_Relative_Abundance_Apr_2023/BLAST_Hits/BLAST_Hits_E_1e3/A_Alleles/YSG_0080b_alleles_Ga0393436_055_3929_5404_A_allele/MS50/\n",
      "/Users/harihara/Mount-2/hotspring_metagenome/single_cell_analysis_with_Gabe_Birzu/C_Allele_Relative_Abundance_Apr_2023/BLAST_Hits/BLAST_Hits_E_1e3/A_Alleles/YSG_0027b_alleles_Ga0393436_054_5632_6816_A_allele/MS50/\n",
      "/Users/harihara/Mount-2/hotspring_metagenome/single_cell_analysis_with_Gabe_Birzu/C_Allele_Relative_Abundance_Apr_2023/BLAST_Hits/BLAST_Hits_E_1e3/A_Alleles/YSG_1924_alleles_Ga0393436_082_2918_4342_A_allele/MS50/\n",
      "/Users/harihara/Mount-2/hotspring_metagenome/single_cell_analysis_with_Gabe_Birzu/C_Allele_Relative_Abundance_Apr_2023/BLAST_Hits/BLAST_Hits_E_1e3/A_Alleles/YSG_1691_alleles_Ga0393436_019_10387_11232_A_allele/MS50/\n",
      "/Users/harihara/Mount-2/hotspring_metagenome/single_cell_analysis_with_Gabe_Birzu/C_Allele_Relative_Abundance_Apr_2023/BLAST_Hits/BLAST_Hits_E_1e3/A_Alleles/YSG_0340_alleles_Ga0393436_042_10591_12519_A_allele/MS50/\n",
      "/Users/harihara/Mount-2/hotspring_metagenome/single_cell_analysis_with_Gabe_Birzu/C_Allele_Relative_Abundance_Apr_2023/BLAST_Hits/BLAST_Hits_E_1e3/A_Alleles/YSG_1037_alleles_Ga0393436_001_9046_10767_A_allele/MS50/\n",
      "/Users/harihara/Mount-2/hotspring_metagenome/single_cell_analysis_with_Gabe_Birzu/C_Allele_Relative_Abundance_Apr_2023/BLAST_Hits/BLAST_Hits_E_1e3/A_Alleles/YSG_1393_alleles_Ga0393436_053_10354_11370_A_allele/MS50/\n",
      "/Users/harihara/Mount-2/hotspring_metagenome/single_cell_analysis_with_Gabe_Birzu/C_Allele_Relative_Abundance_Apr_2023/BLAST_Hits/BLAST_Hits_E_1e3/A_Alleles/YSG_0764_alleles_Ga0393436_004_29639_31168_A_allele/MS50/\n",
      "/Users/harihara/Mount-2/hotspring_metagenome/single_cell_analysis_with_Gabe_Birzu/C_Allele_Relative_Abundance_Apr_2023/BLAST_Hits/BLAST_Hits_E_1e3/A_Alleles/YSG_0411_alleles_Ga0393436_042_13273_14241_A_allele/MS50/\n",
      "/Users/harihara/Mount-2/hotspring_metagenome/single_cell_analysis_with_Gabe_Birzu/C_Allele_Relative_Abundance_Apr_2023/BLAST_Hits/BLAST_Hits_E_1e3/A_Alleles/YSG_0289b_alleles_Ga0393436_046_6413_7537_A_allele/MS50/\n",
      "/Users/harihara/Mount-2/hotspring_metagenome/single_cell_analysis_with_Gabe_Birzu/C_Allele_Relative_Abundance_Apr_2023/BLAST_Hits/BLAST_Hits_E_1e3/A_Alleles/YSG_1531_alleles_Ga0393436_019_11374_13212_A_allele/MS50/\n",
      "/Users/harihara/Mount-2/hotspring_metagenome/single_cell_analysis_with_Gabe_Birzu/C_Allele_Relative_Abundance_Apr_2023/BLAST_Hits/BLAST_Hits_E_1e3/A_Alleles/YSG_0252b_alleles_Ga0393436_077_4480_6021_A_allele/MS50/\n",
      "/Users/harihara/Mount-2/hotspring_metagenome/single_cell_analysis_with_Gabe_Birzu/C_Allele_Relative_Abundance_Apr_2023/BLAST_Hits/BLAST_Hits_E_1e3/A_Alleles/YSG_1655_alleles_Ga0393436_001_59112_60362_A_allele/MS50/\n",
      "/Users/harihara/Mount-2/hotspring_metagenome/single_cell_analysis_with_Gabe_Birzu/C_Allele_Relative_Abundance_Apr_2023/BLAST_Hits/BLAST_Hits_E_1e3/A_Alleles/YSG_0084c_alleles_Ga0393436_038_7979_8920_A_allele/MS50/\n",
      "/Users/harihara/Mount-2/hotspring_metagenome/single_cell_analysis_with_Gabe_Birzu/C_Allele_Relative_Abundance_Apr_2023/BLAST_Hits/BLAST_Hits_E_1e3/A_Alleles/YSG_1480_alleles_Ga0393436_076_268_1245_A_allele/MS50/\n",
      "/Users/harihara/Mount-2/hotspring_metagenome/single_cell_analysis_with_Gabe_Birzu/C_Allele_Relative_Abundance_Apr_2023/BLAST_Hits/BLAST_Hits_E_1e3/A_Alleles/YSG_0403_alleles_Ga0393436_016_24748_25881_A_allele/MS50/\n",
      "/Users/harihara/Mount-2/hotspring_metagenome/single_cell_analysis_with_Gabe_Birzu/C_Allele_Relative_Abundance_Apr_2023/BLAST_Hits/BLAST_Hits_E_1e3/A_Alleles/YSG_0368b_alleles_Ga0393436_006_17133_18485_A_allele/MS50/\n",
      "/Users/harihara/Mount-2/hotspring_metagenome/single_cell_analysis_with_Gabe_Birzu/C_Allele_Relative_Abundance_Apr_2023/BLAST_Hits/BLAST_Hits_E_1e3/A_Alleles/YSG_1811b_alleles_Ga0393436_036_4719_5561_A_allele/MS50/\n",
      "/Users/harihara/Mount-2/hotspring_metagenome/single_cell_analysis_with_Gabe_Birzu/C_Allele_Relative_Abundance_Apr_2023/BLAST_Hits/BLAST_Hits_E_1e3/A_Alleles/YSG_0548_alleles_Ga0393436_021_29421_30833_A_allele/MS50/\n",
      "/Users/harihara/Mount-2/hotspring_metagenome/single_cell_analysis_with_Gabe_Birzu/C_Allele_Relative_Abundance_Apr_2023/BLAST_Hits/BLAST_Hits_E_1e3/A_Alleles/YSG_1673_alleles_Ga0393436_016_12928_14811_A_allele/MS50/\n",
      "/Users/harihara/Mount-2/hotspring_metagenome/single_cell_analysis_with_Gabe_Birzu/C_Allele_Relative_Abundance_Apr_2023/BLAST_Hits/BLAST_Hits_E_1e3/A_Alleles/YSG_1767_alleles_Ga0393436_004_31192_32712_A_allele/MS50/\n",
      "/Users/harihara/Mount-2/hotspring_metagenome/single_cell_analysis_with_Gabe_Birzu/C_Allele_Relative_Abundance_Apr_2023/BLAST_Hits/BLAST_Hits_E_1e3/A_Alleles/YSG_0437_alleles_Ga0393436_013_26296_27414_A_allele/MS50/\n",
      "/Users/harihara/Mount-2/hotspring_metagenome/single_cell_analysis_with_Gabe_Birzu/C_Allele_Relative_Abundance_Apr_2023/BLAST_Hits/BLAST_Hits_E_1e3/A_Alleles/YSG_1576_alleles_Ga0393436_002_28841_30244_A_allele/MS50/\n",
      "/Users/harihara/Mount-2/hotspring_metagenome/single_cell_analysis_with_Gabe_Birzu/C_Allele_Relative_Abundance_Apr_2023/BLAST_Hits/BLAST_Hits_E_1e3/A_Alleles/YSG_0102c_alleles_Ga0393436_001_78031_78906_A_allele/MS50/\n",
      "/Users/harihara/Mount-2/hotspring_metagenome/single_cell_analysis_with_Gabe_Birzu/C_Allele_Relative_Abundance_Apr_2023/BLAST_Hits/BLAST_Hits_E_1e3/A_Alleles/YSG_0948b_alleles_Ga0393436_014_12806_14326_A_allele/MS50/\n",
      "/Users/harihara/Mount-2/hotspring_metagenome/single_cell_analysis_with_Gabe_Birzu/C_Allele_Relative_Abundance_Apr_2023/BLAST_Hits/BLAST_Hits_E_1e3/A_Alleles/YSG_1075_alleles_Ga0393436_046_7909_9714_A_allele/MS50/\n",
      "/Users/harihara/Mount-2/hotspring_metagenome/single_cell_analysis_with_Gabe_Birzu/C_Allele_Relative_Abundance_Apr_2023/BLAST_Hits/BLAST_Hits_E_1e3/A_Alleles/YSG_1709_alleles_Ga0393436_031_439_2052_A_allele/MS50/\n",
      "/Users/harihara/Mount-2/hotspring_metagenome/single_cell_analysis_with_Gabe_Birzu/C_Allele_Relative_Abundance_Apr_2023/BLAST_Hits/BLAST_Hits_E_1e3/A_Alleles/YSG_1005_alleles_Ga0393436_033_5350_6723_A_allele/MS50/\n",
      "/Users/harihara/Mount-2/hotspring_metagenome/single_cell_analysis_with_Gabe_Birzu/C_Allele_Relative_Abundance_Apr_2023/BLAST_Hits/BLAST_Hits_E_1e3/A_Alleles/YSG_1299_alleles_Ga0393436_004_48730_51381_A_allele/MS50/\n"
     ]
    }
   ],
   "source": [
    "Allele_Types = ['A','B','C']\n",
    "Reads = ['MS50','MS55','MS60','MS65']\n",
    "file_pre = '/Users/harihara/Mount/Hot_Springs_Analysis/Scripts/Strain-Analysis/Single_Cell_Gabe/\\\n",
    "Top_100_Alleles_BLAST_Hits/Commands_'\n",
    "commands = []\n",
    "\n",
    "for a in Allele_Types:\n",
    "    for Read_ID in Reads: \n",
    "        A_Alleles = listdir(data_dir+a+'_Alleles/')\n",
    "        out_dir_prefix = data_dir_prefix+'BLAST_Hits_E_1e3/'+a+'_Alleles/'\n",
    "        Reads_Dir = reads_dir+Read_ID+'_Splits/'\n",
    "        Read_Ids = listdir(Reads_Dir)\n",
    "        \n",
    "        for A in A_Alleles:\n",
    "            if not (A.startswith('.')):\n",
    "                if not isdir(out_dir+a+'_Alleles/'+A+'/'):\n",
    "                    mkdir(out_dir+a+'_Alleles/'+A+'/')\n",
    "                if not isdir(out_dir+a+'_Alleles/'+A+'/'+Read_ID+'/'):\n",
    "                    mkdir(out_dir+a+'_Alleles/'+A+'/'+Read_ID+'/')\n",
    "                counts = len(listdir(out_dir+a+'_Alleles/'+A+'/'+Read_ID+'/'))   \n",
    "                if counts != 25:\n",
    "                    print(out_dir+a+'_Alleles/'+A+'/'+Read_ID+'/')\n",
    "                    for r in Read_Ids:\n",
    "                        seq = read_id_prefix+Read_ID+'_Splits/'+r\n",
    "                        allele_idx = data_dir_prefix+a+'_Alleles/'+A+'/'+A+'.IDX'\n",
    "                        out_path = out_dir_prefix+A+'/'+Read_ID+'/'+r.replace(\".fasta\",\".out\")\n",
    "                        commands.append(prog_path + ' ' + seq + ' ' + allele_idx + ' ' + out_path+'\\n')                    "
   ]
  },
  {
   "cell_type": "code",
   "execution_count": 10,
   "metadata": {},
   "outputs": [
    {
     "name": "stdout",
     "output_type": "stream",
     "text": [
      "0 1000\n"
     ]
    },
    {
     "data": {
      "text/plain": [
       "1000"
      ]
     },
     "execution_count": 10,
     "metadata": {},
     "output_type": "execute_result"
    }
   ],
   "source": [
    "batch_size = 1000\n",
    "for i in range(0, len(commands), batch_size):\n",
    "    out = open(file_pre+'Batch_Third_'+str(i+batch_size)+'.txt','w')\n",
    "    out.writelines(commands[i:i+batch_size])\n",
    "    print(i, i+batch_size)\n",
    "    out.close()\n",
    "len(commands)"
   ]
  },
  {
   "cell_type": "code",
   "execution_count": null,
   "metadata": {},
   "outputs": [],
   "source": []
  }
 ],
 "metadata": {
  "kernelspec": {
   "display_name": "Python 3",
   "language": "python",
   "name": "python3"
  },
  "language_info": {
   "codemirror_mode": {
    "name": "ipython",
    "version": 3
   },
   "file_extension": ".py",
   "mimetype": "text/x-python",
   "name": "python",
   "nbconvert_exporter": "python",
   "pygments_lexer": "ipython3",
   "version": "3.7.3"
  }
 },
 "nbformat": 4,
 "nbformat_minor": 2
}
