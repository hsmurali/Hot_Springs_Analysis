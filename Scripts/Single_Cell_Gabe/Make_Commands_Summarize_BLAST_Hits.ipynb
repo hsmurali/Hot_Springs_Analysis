{
 "cells": [
  {
   "cell_type": "code",
   "execution_count": 38,
   "metadata": {},
   "outputs": [],
   "source": [
    "from os import listdir, mkdir\n",
    "from os.path import isfile, isdir\n"
   ]
  },
  {
   "cell_type": "code",
   "execution_count": 44,
   "metadata": {},
   "outputs": [],
   "source": [
    "prog_path = '/fs/cbcb-scratch/hsmurali/Hot_Springs_Analysis/Scripts/Strain-Analysis/Single_Cell_Gabe/\\\n",
    "Process_BLAST_Hits_Top_100_Alleles.py'\n",
    "data_dir = '/fs/cbcb-lab/mpop/hotspring_metagenome/single_cell_analysis_with_Gabe_Birzu/\\\n",
    "C_Allele_Relative_Abundance_Sep/BLAST_Comparison/BLAST_Hits_E_1e3//'\n",
    "out_dir = '/fs/cbcb-lab/mpop/hotspring_metagenome/single_cell_analysis_with_Gabe_Birzu/\\\n",
    "C_Allele_Relative_Abundance_Sep/BLAST_Comparison/BLAST_Hits_E_1e3//Summary/'\n",
    "\n",
    "reads = ['MS50','MS55','MS60','MS65']"
   ]
  },
  {
   "cell_type": "code",
   "execution_count": 45,
   "metadata": {},
   "outputs": [],
   "source": [
    "loci_path = '/Users/harihara/Mount-2/hotspring_metagenome/single_cell_analysis_with_Gabe_Birzu/\\\n",
    "C_Allele_Relative_Abundance_Sep/BLAST_Comparison/BLAST_Hits_E_1e3//A_Alleles/'\n",
    "\n",
    "check_dir = '/Users/harihara/Mount-2/hotspring_metagenome/single_cell_analysis_with_Gabe_Birzu/\\\n",
    "C_Allele_Relative_Abundance_Sep/BLAST_Comparison/BLAST_Hits_E_1e3/Summary/' \n",
    "if not isdir(check_dir):\n",
    "    mkdir(check_dir)"
   ]
  },
  {
   "cell_type": "code",
   "execution_count": 47,
   "metadata": {},
   "outputs": [
    {
     "name": "stdout",
     "output_type": "stream",
     "text": [
      "YSG_0096b MS50\n",
      "YSG_0096b MS55\n",
      "YSG_0096b MS60\n",
      "YSG_1447b MS50\n",
      "YSG_1447b MS55\n",
      "YSG_1447b MS60\n",
      "YSG_0966 MS50\n",
      "YSG_0966 MS55\n",
      "YSG_0966 MS60\n",
      "YSG_0699 MS50\n",
      "YSG_0699 MS55\n",
      "YSG_0699 MS60\n",
      "YSG_1319 MS50\n",
      "YSG_1319 MS55\n",
      "YSG_1319 MS60\n",
      "YSG_1748 MS50\n",
      "YSG_1748 MS55\n",
      "YSG_1748 MS60\n",
      "YSG_0898 MS50\n",
      "YSG_0898 MS55\n",
      "YSG_0898 MS60\n",
      "YSG_1924 MS50\n",
      "YSG_1924 MS55\n",
      "YSG_1924 MS60\n",
      "YSG_0340 MS50\n",
      "YSG_0340 MS55\n",
      "YSG_0340 MS60\n",
      "YSG_0764 MS50\n",
      "YSG_0764 MS55\n",
      "YSG_0764 MS60\n",
      "YSG_0548 MS50\n",
      "YSG_0548 MS55\n",
      "YSG_0548 MS60\n",
      "YSG_0548 MS65\n",
      "YSG_1576 MS50\n",
      "YSG_1576 MS55\n",
      "YSG_1576 MS60\n",
      "YSG_1709 MS50\n",
      "YSG_1709 MS55\n",
      "YSG_1709 MS60\n",
      "YSG_1299 MS50\n",
      "YSG_1299 MS55\n",
      "YSG_1299 MS60\n",
      "YSG_0688 MS50\n",
      "YSG_0688 MS55\n",
      "YSG_0688 MS60\n",
      "YSG_1142 MS50\n",
      "YSG_1142 MS55\n",
      "YSG_1142 MS60\n",
      "YSG_1779 MS50\n",
      "YSG_1779 MS55\n",
      "YSG_1779 MS60\n",
      "YSG_0985 MS50\n",
      "YSG_0985 MS55\n",
      "YSG_0985 MS60\n",
      "YSG_0168b MS50\n",
      "YSG_0168b MS55\n",
      "YSG_0168b MS60\n",
      "YSG_1325 MS50\n",
      "YSG_1325 MS55\n",
      "YSG_1325 MS60\n",
      "YSG_1272 MS50\n",
      "YSG_1272 MS55\n",
      "YSG_1272 MS60\n",
      "YSG_0072a MS50\n",
      "YSG_0072a MS55\n",
      "YSG_0072a MS60\n",
      "YSG_0314 MS50\n",
      "YSG_0314 MS55\n",
      "YSG_0314 MS60\n",
      "YSG_0694b MS50\n",
      "YSG_0694b MS55\n",
      "YSG_0694b MS60\n",
      "YSG_1487 MS50\n",
      "YSG_1487 MS55\n",
      "YSG_1487 MS60\n",
      "YSG_1514 MS50\n",
      "YSG_1514 MS55\n",
      "YSG_1514 MS60\n",
      "YSG_0136a MS50\n",
      "YSG_0136a MS55\n",
      "YSG_0136a MS60\n",
      "YSG_0108a MS50\n",
      "YSG_0108a MS55\n",
      "YSG_0108a MS60\n",
      "YSG_1367 MS50\n",
      "YSG_1367 MS55\n",
      "YSG_1367 MS60\n",
      "YSG_0675 MS50\n",
      "YSG_0675 MS55\n",
      "YSG_0675 MS60\n",
      "YSG_1694 MS50\n",
      "YSG_1694 MS55\n",
      "YSG_1694 MS60\n"
     ]
    }
   ],
   "source": [
    "files = listdir(loci_path)\n",
    "commands = []\n",
    "for f in files:\n",
    "    if f.startswith('YSG'):\n",
    "        splits = f.split('_')\n",
    "        loci = splits[0]+'_'+splits[1]\n",
    "        for r in reads:\n",
    "            if ((isfile(check_dir + r+'/'+loci+'_BLAST_Hits.pkl') == False) or \n",
    "                (isfile(check_dir + r+'/'+loci+'_BLAST_Hits_Sample_Wise.pkl') == False) or \n",
    "                (isfile(check_dir + r+'/'+loci+'_BLAST_Hits_Gene_Wise.pkl') == False)):\n",
    "                print(loci, r)\n",
    "                command = prog_path+' '+data_dir+' '+out_dir+' '+r+' '+loci+'\\n'\n",
    "                commands.append(command)\n",
    "                \n",
    "            "
   ]
  },
  {
   "cell_type": "code",
   "execution_count": 42,
   "metadata": {},
   "outputs": [],
   "source": [
    "out = open('/Users/harihara/Mount/Hot_Springs_Analysis/Scripts/Strain-Analysis/Single_Cell_Gabe/\\\n",
    "Top_30_Alleles_BLAST_Hits/Commands_Summarize_BLAST_Top_30_Alleles.txt', 'w')\n",
    "out.writelines(commands)\n",
    "out.close()"
   ]
  },
  {
   "cell_type": "code",
   "execution_count": null,
   "metadata": {},
   "outputs": [],
   "source": []
  }
 ],
 "metadata": {
  "kernelspec": {
   "display_name": "Python 3",
   "language": "python",
   "name": "python3"
  },
  "language_info": {
   "codemirror_mode": {
    "name": "ipython",
    "version": 3
   },
   "file_extension": ".py",
   "mimetype": "text/x-python",
   "name": "python",
   "nbconvert_exporter": "python",
   "pygments_lexer": "ipython3",
   "version": "3.7.3"
  }
 },
 "nbformat": 4,
 "nbformat_minor": 2
}
